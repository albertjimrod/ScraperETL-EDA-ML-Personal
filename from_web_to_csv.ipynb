{
 "cells": [
  {
   "cell_type": "markdown",
   "id": "825547f2",
   "metadata": {},
   "source": [
    "# Hispasonic (from web to csv)\n",
    "\n",
    "\n",
    "<br>\n",
    "\n",
    "A website about musical instruments, recording stuff, and everything related to the world of music. In this place there is also a second-hand market where users sell, buy, change or give their musical instruments.\n",
    "\n",
    "In this first part of the project focuses on obtaining relevant ad information, the category I have focused on has been the one that refers to electronic musical instruments.\n",
    "\n",
    "<br>\n",
    "\n",
    "Before start obtaining information, the first thing we must know is to understand how the announcement page is organized.\n",
    "\n",
    "***\n",
    "\n",
    "- *Image of one of the pages of hispasonic*\n",
    "\n",
    "\n",
    "![hispa_1e.png](images/hispa_1e.png)\n",
    "\n",
    "<br>\n",
    "\n",
    "<br>\n",
    "\n",
    "We can see several important things:\n",
    "\n",
    "- Selected category is on \"teclados y sintetizadores\".\n",
    "\n",
    "- Know the number of pages that we are going to analyze to get **all the ads**.\n",
    "\n",
    "\n",
    "\n",
    "## 1. Function library loading."
   ]
  },
  {
   "cell_type": "code",
   "execution_count": 1,
   "id": "9ed4b345",
   "metadata": {},
   "outputs": [],
   "source": [
    "import requests               # Is an elegant and simple HTTP library for Python\n",
    "from bs4 import BeautifulSoup # library for pulling data out of HTML and XML files\n",
    "import re                     # regular expressions operations\n",
    "import pandas as pd           # A fast, powerful, flexible and easy to use open source data analysis tool\n",
    "import os                     # A versatile way to use operating system-dependent functionality.\n",
    "import datetime as dt         # module for manipulating dates and times.\n",
    "import time\n",
    "\n",
    "pd.set_option(\"display.max_rows\", None)"
   ]
  },
  {
   "cell_type": "markdown",
   "id": "fa21dd00",
   "metadata": {},
   "source": [
    "### First contact\n",
    "\n",
    "First of all we must to know if we have a proper response from the server."
   ]
  },
  {
   "cell_type": "code",
   "execution_count": 2,
   "id": "72632b9f",
   "metadata": {},
   "outputs": [
    {
     "data": {
      "text/html": [
       "<style>\n",
       "table {float:left}\n",
       "</style>\n"
      ],
      "text/plain": [
       "<IPython.core.display.HTML object>"
      ]
     },
     "metadata": {},
     "output_type": "display_data"
    }
   ],
   "source": [
    "%%html \n",
    "<style>\n",
    "table {float:left}\n",
    "</style>"
   ]
  },
  {
   "cell_type": "markdown",
   "id": "8289422a",
   "metadata": {},
   "source": [
    "These are the main possible answers we can get from the server:\n",
    "\n",
    "|||\n",
    "|:--|:--|\n",
    "|**1xx informational response –** |the request was received, continuing process|\n",
    "|**2xx successful –** |the request was successfully received, understood, and accepted|\n",
    "|**3xx redirection –** |further action needs to be taken in order to complete the request|\n",
    "|**4xx client error –** |the request contains bad syntax or cannot be fulfilled|\n",
    "|**5xx server error –** |the server failed to fulfil an apparently valid request|"
   ]
  },
  {
   "cell_type": "code",
   "execution_count": 3,
   "id": "307a8a47",
   "metadata": {},
   "outputs": [
    {
     "data": {
      "text/plain": [
       "<Response [200]>"
      ]
     },
     "execution_count": 3,
     "metadata": {},
     "output_type": "execute_result"
    }
   ],
   "source": [
    "# Enter the address and see the response from the server.\n",
    "\n",
    "url = \"https://www.hispasonic.com/anuncios/teclados-sintetizadores\"\n",
    "page = requests.get(url)\n",
    "page"
   ]
  },
  {
   "cell_type": "markdown",
   "id": "b636246b",
   "metadata": {},
   "source": [
    "#### *<Response [200]> means correct connection.*\n",
    "\n",
    "## 2. Number of pages to analyze.\n",
    "\n",
    "Once we have communication, we have to know how to determine how to obtain the **total number of pages** to scrap.\n",
    "\n",
    "In each of the pages are the ads that we want to analyze, so it is very important to know how to obtain that value, since it can vary depending on the number of ads that are offered.\n",
    "\n",
    "![cantidad_iteraciones.png](images/cantidad_iteraciones.png)\n",
    "\n",
    "The item is identified as follows.\n",
    "\n",
    "       'ul', class_='pagination'\n",
    "       \n",
    "<br>\n",
    "\n",
    "It means 'unordered list' with a class name called `pagination`.\n",
    "\n",
    "\n",
    "To determine the number of iterations, that is, the number of pages on which to extract the information, I must:\n",
    "\n",
    "- Find this element inside the html content.\n",
    "\n",
    "- Know the value.\n",
    "\n",
    "We will do this with *Beautifulsoup* use to extract the contents of an element."
   ]
  },
  {
   "cell_type": "code",
   "execution_count": 4,
   "id": "1ce0da73",
   "metadata": {},
   "outputs": [],
   "source": [
    "soup = BeautifulSoup(page.content, 'html.parser')\n",
    "# soup <- all site code"
   ]
  },
  {
   "cell_type": "markdown",
   "id": "db2af5f5",
   "metadata": {},
   "source": [
    "So inside `soup` variable we are looking for `'ul', class_='pagination'`\n",
    "\n",
    "The following code refers to:\n",
    "\n",
    "- **first 5 links of the pages**\n",
    "\n",
    "- the **next 10 pages** and the **last one**, which is the one that interests us.\n",
    "\n",
    "Save it in a variable, called `unordered_list`"
   ]
  },
  {
   "cell_type": "code",
   "execution_count": 5,
   "id": "d8fa198d",
   "metadata": {},
   "outputs": [
    {
     "data": {
      "text/plain": [
       "['\\n',\n",
       " <li>\n",
       " <span class=\"selected\">1</span>\n",
       " </li>,\n",
       " '\\n',\n",
       " <li>\n",
       " <a href=\"/anuncios/teclados-sintetizadores/pagina2\" rel=\"next\">2</a>\n",
       " </li>,\n",
       " '\\n',\n",
       " <li>\n",
       " <a href=\"/anuncios/teclados-sintetizadores/pagina3\">3</a>\n",
       " </li>,\n",
       " '\\n',\n",
       " <li>\n",
       " <a href=\"/anuncios/teclados-sintetizadores/pagina4\">4</a>\n",
       " </li>,\n",
       " '\\n',\n",
       " <li>\n",
       " <a href=\"/anuncios/teclados-sintetizadores/pagina5\">5</a>\n",
       " </li>,\n",
       " '\\n',\n",
       " <li>\n",
       " <a href=\"/anuncios/teclados-sintetizadores/pagina11\" title=\"Siguientes 10 páginas\">›</a>\n",
       " </li>,\n",
       " '\\n']"
      ]
     },
     "execution_count": 5,
     "metadata": {},
     "output_type": "execute_result"
    }
   ],
   "source": [
    "unordered_list = soup.find('ul', class_='pagination') # into variable\n",
    "unordered_list = unordered_list.contents # tag's children available in a list called .content. from variable to list\n",
    "unordered_list"
   ]
  },
  {
   "cell_type": "markdown",
   "id": "a66716e9",
   "metadata": {},
   "source": [
    "### 2.1 Exploring `unordered_list` variable.\n",
    "\n",
    "We can see that it is a list therefore know what its length is and know in what position the elements that compose it are."
   ]
  },
  {
   "cell_type": "code",
   "execution_count": 6,
   "id": "ab13a82a",
   "metadata": {},
   "outputs": [
    {
     "data": {
      "text/plain": [
       "13"
      ]
     },
     "execution_count": 6,
     "metadata": {},
     "output_type": "execute_result"
    }
   ],
   "source": [
    "len(unordered_list) # number of elements"
   ]
  },
  {
   "cell_type": "code",
   "execution_count": 7,
   "id": "1cd2fa7b",
   "metadata": {},
   "outputs": [
    {
     "data": {
      "text/plain": [
       "'\\n'"
      ]
     },
     "execution_count": 7,
     "metadata": {},
     "output_type": "execute_result"
    }
   ],
   "source": [
    "unordered_list[0] # first element"
   ]
  },
  {
   "cell_type": "code",
   "execution_count": 8,
   "id": "e9e2b616",
   "metadata": {},
   "outputs": [
    {
     "data": {
      "text/plain": [
       "'\\n'"
      ]
     },
     "execution_count": 8,
     "metadata": {},
     "output_type": "execute_result"
    }
   ],
   "source": [
    "unordered_list[-1] # last element"
   ]
  },
  {
   "cell_type": "code",
   "execution_count": 9,
   "id": "dcbd42c3",
   "metadata": {},
   "outputs": [
    {
     "data": {
      "text/plain": [
       "<li>\n",
       "<a href=\"/anuncios/teclados-sintetizadores/pagina11\" title=\"Siguientes 10 páginas\">›</a>\n",
       "</li>"
      ]
     },
     "execution_count": 9,
     "metadata": {},
     "output_type": "execute_result"
    }
   ],
   "source": [
    "unordered_list[-2] # this is the one I'm interested in"
   ]
  },
  {
   "cell_type": "markdown",
   "id": "682ce4cc",
   "metadata": {},
   "source": [
    "### 2.2 How to get the value number from `unordered_list`?\n",
    "\n",
    "<br>\n",
    "\n",
    "As what I need is to access the value within the list the strategy that will be the following:\n",
    "\n",
    "- Convert the list to a text string.\n",
    "\n",
    "- Filter the characters that correspond to numeric values, the max ones.\n",
    "\n",
    "- Convert those numeric characters to numbers\n",
    "\n",
    "I will convert the contents of the list into a text string and have the numeric characters extracted together with highest values by using regular expressions.\n",
    "\n",
    "Converting the content of `paginas` into a text string."
   ]
  },
  {
   "cell_type": "code",
   "execution_count": 10,
   "id": "57f5ef56",
   "metadata": {},
   "outputs": [
    {
     "data": {
      "text/plain": [
       "'<li>\\n<a href=\"/anuncios/teclados-sintetizadores/pagina11\" title=\"Siguientes 10 páginas\">›</a>\\n</li>'"
      ]
     },
     "execution_count": 10,
     "metadata": {},
     "output_type": "execute_result"
    }
   ],
   "source": [
    "test = str(unordered_list[-2])\n",
    "test"
   ]
  },
  {
   "cell_type": "markdown",
   "id": "1da0c8e8",
   "metadata": {},
   "source": [
    "`extractMax` A function that gets the numbers contained in the lowercase text and converts them to integer numbers."
   ]
  },
  {
   "cell_type": "code",
   "execution_count": 11,
   "id": "56138a8e",
   "metadata": {},
   "outputs": [],
   "source": [
    "def extractMax(input):\n",
    "     # get a list of all numbers separated by \n",
    "     # lower case characters \n",
    "     # \\d+ is a regular expression which means\n",
    "     # one or more digit\n",
    "     # output will be like ['100','564','365']\n",
    "    numbers = re.findall('\\d+',input)\n",
    "     # now we need to convert each number into integer\n",
    "     # int(string) converts string into integer\n",
    "     # we will map int() function onto all elements \n",
    "     # of numbers list\n",
    "    numbers = map(int,numbers)\n",
    "    return max(numbers) # devuelve un entero"
   ]
  },
  {
   "cell_type": "code",
   "execution_count": 12,
   "id": "b4bec164",
   "metadata": {},
   "outputs": [
    {
     "data": {
      "text/plain": [
       "11"
      ]
     },
     "execution_count": 12,
     "metadata": {},
     "output_type": "execute_result"
    }
   ],
   "source": [
    "page_numbers = extractMax(test)\n",
    "page_numbers"
   ]
  },
  {
   "cell_type": "markdown",
   "id": "a93e1f3e",
   "metadata": {},
   "source": [
    "We already have the number of pages that we will have to analyze. \n",
    "\n",
    "***"
   ]
  },
  {
   "cell_type": "markdown",
   "id": "4b8367e4",
   "metadata": {},
   "source": [
    "## 3. Getting and save all links (ads and not ads)\n",
    "\n",
    "Once we have the number of pages in which we must extract the ads, the next step is to extract those ads from each of the pages looking inside the code of each of them.\n",
    "\n",
    "So what we have to do is:\n",
    "\n",
    "- Extracting everything that is a link.\n",
    "\n",
    "\n",
    "- From the links extracted, the most important thing is get the final number which is the way to identify those who are ads and what are not."
   ]
  },
  {
   "cell_type": "code",
   "execution_count": 13,
   "id": "d3ee1408",
   "metadata": {},
   "outputs": [
    {
     "name": "stdout",
     "output_type": "stream",
     "text": [
      "https://www.hispasonic.com/anuncios/teclados-sintetizadores/pagina11\n",
      "https://www.hispasonic.com/anuncios/teclados-sintetizadores/pagina10\n",
      "https://www.hispasonic.com/anuncios/teclados-sintetizadores/pagina9\n",
      "https://www.hispasonic.com/anuncios/teclados-sintetizadores/pagina8\n",
      "https://www.hispasonic.com/anuncios/teclados-sintetizadores/pagina7\n",
      "https://www.hispasonic.com/anuncios/teclados-sintetizadores/pagina6\n",
      "https://www.hispasonic.com/anuncios/teclados-sintetizadores/pagina5\n",
      "https://www.hispasonic.com/anuncios/teclados-sintetizadores/pagina4\n",
      "https://www.hispasonic.com/anuncios/teclados-sintetizadores/pagina3\n",
      "https://www.hispasonic.com/anuncios/teclados-sintetizadores/pagina2\n",
      "https://www.hispasonic.com/anuncios/teclados-sintetizadores/pagina1\n"
     ]
    }
   ],
   "source": [
    "links_ads = []        # all the ads on the page\n",
    "listado_enlaces = []  # all the links on the page\n",
    "\n",
    "pattern=\"([0-9]{4,9})\" # filtering all links with number, that mean choosing the page number related to and ad.\n",
    "\n",
    "for pagina in range(page_numbers, 0, -1): \n",
    "    url = \"https://www.hispasonic.com/anuncios/teclados-sintetizadores/pagina{pagina}\".format(pagina=pagina)\n",
    "    print(url)\n",
    "    \n",
    "    page = requests.get(url)\n",
    "    soup = BeautifulSoup(page.content, 'html.parser')\n",
    "\n",
    "    \n",
    "    for link in soup.find_all('a'):       # filter everything that is a link on soup variable\n",
    "        links_ads.append(link.get('href'))\n",
    "        fecha = soup.find_all('span', class_='miniicon miniicon-date')\n",
    "        \n",
    "    \n",
    "    for s in links_ads:                   # of those links what I do is stay with what ends in number\n",
    "        if re.search(pattern, s):\n",
    "            listado_enlaces.append(s)"
   ]
  },
  {
   "cell_type": "markdown",
   "id": "9e8ad853",
   "metadata": {},
   "source": [
    "#### This is a small sample of the contents of the lists\n",
    "\n",
    "It can be seen as being links in both cases, in the first we only have links that do not interest us."
   ]
  },
  {
   "cell_type": "code",
   "execution_count": 14,
   "id": "7e69fd15",
   "metadata": {},
   "outputs": [
    {
     "data": {
      "text/plain": [
       "['/musica',\n",
       " '/productos',\n",
       " '/anuncios',\n",
       " '/anuncios/todo',\n",
       " '/anuncios/todo/f/compra-protegida',\n",
       " '/anuncios',\n",
       " '/anuncios/compraventa',\n",
       " '/anuncios/teclados-sintetizadores',\n",
       " '/anuncios/todo/f/compra-protegida',\n",
       " '/compra-protegida',\n",
       " '/anuncios/todo/f/compra-protegida',\n",
       " '/index.php?controller=ad&action=new_ad_form',\n",
       " '/anuncios/teclados-sintetizadores',\n",
       " '/anuncios/teclados-sintetizadores',\n",
       " '/anuncios/teclados-sintetizadores/pagina9']"
      ]
     },
     "execution_count": 14,
     "metadata": {},
     "output_type": "execute_result"
    }
   ],
   "source": [
    "links_ads[5:20] # example: row 5 to 20 of everything is a link on soup variable"
   ]
  },
  {
   "cell_type": "markdown",
   "id": "9c7d2c1e",
   "metadata": {},
   "source": [
    "However in the second list `listado_enlaces` what we have are the links we want to get in each of the pages."
   ]
  },
  {
   "cell_type": "code",
   "execution_count": 15,
   "id": "abe14e16",
   "metadata": {},
   "outputs": [
    {
     "data": {
      "text/plain": [
       "['/anuncios/jorge-rk100-blanco/1104591',\n",
       " '/anuncios/roland-jd-08/1104588',\n",
       " '/anuncios/roland-jd-08/1104588',\n",
       " '/anuncios/erica-synths-syntrx-2/1104582',\n",
       " '/anuncios/erica-synths-syntrx-2/1104582',\n",
       " '/anuncios/korg-prologue-8-polyphonic-analogue-synthesizer/1103362',\n",
       " '/anuncios/korg-prologue-8-polyphonic-analogue-synthesizer/1103362',\n",
       " '/anuncios/elektron-analog-rytm-mk1-muchos-extras/1104532',\n",
       " '/anuncios/elektron-analog-rytm-mk1-muchos-extras/1104532',\n",
       " '/anuncios/soma-lyra-8-sintetizador-drone-analogico/1098125',\n",
       " '/anuncios/soma-lyra-8-sintetizador-drone-analogico/1098125',\n",
       " '/anuncios/arturia-matrixbrute/1094941',\n",
       " '/anuncios/arturia-matrixbrute/1094941',\n",
       " '/anuncios/organo-hammond-x5-mkii/1082067',\n",
       " '/anuncios/organo-hammond-x5-mkii/1082067']"
      ]
     },
     "execution_count": 15,
     "metadata": {},
     "output_type": "execute_result"
    }
   ],
   "source": [
    "listado_enlaces[5:20] # example: of those links what I do is stay with what ends in number"
   ]
  },
  {
   "cell_type": "markdown",
   "id": "bebc69f5",
   "metadata": {},
   "source": [
    "## 3.1 Cleaning links.\n",
    "\n",
    "Taking a look into `listado_enlaces` it is striking that there are links that are repeated and we need to do a couple of things.\n",
    "\n",
    "            '...\n",
    "            '/anuncios/korg-vocoder-vc10/866556',\n",
    "             '/anuncios/korg-vocoder-vc10/866556',\n",
    "             '/anuncios/polyend-tracker/1057403',\n",
    "             '/anuncios/polyend-tracker/1057403',\n",
    "             '/anuncios/trajetas-teclados/949462',\n",
    "             '/anuncios/trajetas-teclados/949462',\n",
    "                                             ...',\n",
    "\n",
    "\n",
    "\n",
    "- 1. Extract the brand name from the url using regular expressions.\n",
    "\n",
    "<br>\n",
    "\n",
    "\n",
    "![regex_expression.png](images/regex_expression.png)\n",
    "\n",
    "<br>\n",
    "\n",
    "\n",
    "- 2. Filter the amount of url repeated.\n",
    "\n",
    "<br>\n",
    "\n",
    "To get **not repeated url**, we will make a filter with a dictionary.\n",
    "\n",
    "The main idea is filter the url repeated as `key` and asign it a synth brand for this unique url as `value`."
   ]
  },
  {
   "cell_type": "code",
   "execution_count": 16,
   "id": "7318401d",
   "metadata": {},
   "outputs": [],
   "source": [
    "os.chdir('/home/ion/Documentos/albertjimrod/personal_proj_hispasonic/htmls') # folder to save htmls."
   ]
  },
  {
   "cell_type": "code",
   "execution_count": 17,
   "id": "f0ae73d6",
   "metadata": {},
   "outputs": [],
   "source": [
    "diccionario_enlaces = {} # dict\n",
    "\n",
    "listado_marcas = []      # synth_brand\n",
    "\n",
    "patron_marca = \"((?<=anuncios\\/)[1-9][a-z]{1,})|((?<=anuncios\\/)[a-z]{1,})\" # filter brand regex\n",
    "\n",
    "for enlace in listado_enlaces:\n",
    "    if enlace not in diccionario_enlaces:  \n",
    "        try:\n",
    "            marca = re.search(patron_marca, enlace).group()\n",
    "            diccionario_enlaces[enlace] = marca\n",
    "        except AttributeError:\n",
    "            #marca = re.search(patron_marca, enlace)\n",
    "            pass # voy a ver si funciona, lo que aprendi del try except"
   ]
  },
  {
   "cell_type": "markdown",
   "id": "b8024069",
   "metadata": {},
   "source": [
    "With the dictionary that we have just created we are going to download all the ads locally.\n",
    "\n",
    "The reason is not to overload the server and run the risk of being banned."
   ]
  },
  {
   "cell_type": "markdown",
   "id": "e95e9f22",
   "metadata": {},
   "source": [
    "## 3.2 Download all the ads.\n",
    "\n",
    "\n",
    "To avoid the inconvenience that would suppose the overload of the server, we will download all the ads in local mode adding a delay in the download time. In this way we will work with more comfort."
   ]
  },
  {
   "cell_type": "code",
   "execution_count": 18,
   "id": "53a85560",
   "metadata": {},
   "outputs": [
    {
     "name": "stdout",
     "output_type": "stream",
     "text": [
      "/home/ion/Documentos/albertjimrod/personal_proj_hispasonic/htmls/sequential-prophet-5-rev4\n",
      "/home/ion/Documentos/albertjimrod/personal_proj_hispasonic/htmls/maschine-mk-i\n",
      "/home/ion/Documentos/albertjimrod/personal_proj_hispasonic/htmls/jorge-rk100-blanco\n",
      "/home/ion/Documentos/albertjimrod/personal_proj_hispasonic/htmls/roland-jd-08\n",
      "/home/ion/Documentos/albertjimrod/personal_proj_hispasonic/htmls/erica-synths-syntrx-2\n",
      "/home/ion/Documentos/albertjimrod/personal_proj_hispasonic/htmls/korg-prologue-8-polyphonic-analogue-synthesizer\n",
      "/home/ion/Documentos/albertjimrod/personal_proj_hispasonic/htmls/elektron-analog-rytm-mk1-muchos-extras\n",
      "/home/ion/Documentos/albertjimrod/personal_proj_hispasonic/htmls/soma-lyra-8-sintetizador-drone-analogico\n",
      "/home/ion/Documentos/albertjimrod/personal_proj_hispasonic/htmls/arturia-matrixbrute\n",
      "/home/ion/Documentos/albertjimrod/personal_proj_hispasonic/htmls/organo-hammond-x5-mkii\n",
      "/home/ion/Documentos/albertjimrod/personal_proj_hispasonic/htmls/organo-hammond-x5\n",
      "/home/ion/Documentos/albertjimrod/personal_proj_hispasonic/htmls/kurzweil-forte-88\n",
      "/home/ion/Documentos/albertjimrod/personal_proj_hispasonic/htmls/flight-case\n",
      "/home/ion/Documentos/albertjimrod/personal_proj_hispasonic/htmls/ensoniq-mirage-rack-restaurado-1985\n",
      "/home/ion/Documentos/albertjimrod/personal_proj_hispasonic/htmls/akai-force-decksaver-opx4\n",
      "/home/ion/Documentos/albertjimrod/personal_proj_hispasonic/htmls/yamaha-motif-es8\n",
      "/home/ion/Documentos/albertjimrod/personal_proj_hispasonic/htmls/roland-sc-33\n",
      "/home/ion/Documentos/albertjimrod/personal_proj_hispasonic/htmls/korg-cx3-restaurado\n",
      "/home/ion/Documentos/albertjimrod/personal_proj_hispasonic/htmls/nord-electro-6d-61-waterfall\n",
      "/home/ion/Documentos/albertjimrod/personal_proj_hispasonic/htmls/leslie-147-autonomo\n",
      "/home/ion/Documentos/albertjimrod/personal_proj_hispasonic/htmls/busco-tarjeta-expansion-yamaha-plg-150-an\n",
      "/home/ion/Documentos/albertjimrod/personal_proj_hispasonic/htmls/eurorack-modulos-maletin-sintes-multipistas-grabadora\n",
      "/home/ion/Documentos/albertjimrod/personal_proj_hispasonic/htmls/modulo-eurorack-2hp-snare\n",
      "/home/ion/Documentos/albertjimrod/personal_proj_hispasonic/htmls/elektron-digitone\n",
      "/home/ion/Documentos/albertjimrod/personal_proj_hispasonic/htmls/jomox-mbrane-1_1\n",
      "/home/ion/Documentos/albertjimrod/personal_proj_hispasonic/htmls/yamaha-sy22-6-teclas-recambio\n",
      "/home/ion/Documentos/albertjimrod/personal_proj_hispasonic/htmls/proteus-2000-expansion-protozoa\n",
      "/home/ion/Documentos/albertjimrod/personal_proj_hispasonic/htmls/maschine-mk3-practicamente-nueva\n",
      "/home/ion/Documentos/albertjimrod/personal_proj_hispasonic/htmls/ableton-push-2-decksaver\n",
      "/home/ion/Documentos/albertjimrod/personal_proj_hispasonic/htmls/roland-gw-7-mint-condition\n",
      "/home/ion/Documentos/albertjimrod/personal_proj_hispasonic/htmls/modulo-viscount-db3-organ\n",
      "/home/ion/Documentos/albertjimrod/personal_proj_hispasonic/htmls/doepfer-100-eurorack-mini-case-raw\n",
      "/home/ion/Documentos/albertjimrod/personal_proj_hispasonic/htmls/doepfer-106-1-xtreme-filter-ms20\n",
      "/home/ion/Documentos/albertjimrod/personal_proj_hispasonic/htmls/step-fader-is-dual-sequencer-here-is-cv-basic-offset\n",
      "/home/ion/Documentos/albertjimrod/personal_proj_hispasonic/htmls/dual-adsr-roland-540\n",
      "/home/ion/Documentos/albertjimrod/personal_proj_hispasonic/htmls/caja-2-buses-fuente-modular\n",
      "/home/ion/Documentos/albertjimrod/personal_proj_hispasonic/htmls/moog-one-8\n",
      "/home/ion/Documentos/albertjimrod/personal_proj_hispasonic/htmls/ob-6-modulo\n",
      "/home/ion/Documentos/albertjimrod/personal_proj_hispasonic/htmls/roland-fantom-7\n",
      "/home/ion/Documentos/albertjimrod/personal_proj_hispasonic/htmls/modulos-perfecto-estado\n",
      "/home/ion/Documentos/albertjimrod/personal_proj_hispasonic/htmls/sintetizador-yamaha-mx49\n",
      "/home/ion/Documentos/albertjimrod/personal_proj_hispasonic/htmls/dreadbox-typhon-sintetizador-analogico-multiefectos-estereo\n",
      "/home/ion/Documentos/albertjimrod/personal_proj_hispasonic/htmls/polyend-tracker\n",
      "/home/ion/Documentos/albertjimrod/personal_proj_hispasonic/htmls/dreadbox-typhon\n",
      "/home/ion/Documentos/albertjimrod/personal_proj_hispasonic/htmls/oxi-one-estuche-envio-incluido\n",
      "/home/ion/Documentos/albertjimrod/personal_proj_hispasonic/htmls/mfb-dominion-1\n",
      "/home/ion/Documentos/albertjimrod/personal_proj_hispasonic/htmls/compro-erica-synths-perkons-hd01\n",
      "/home/ion/Documentos/albertjimrod/personal_proj_hispasonic/htmls/controlador-fatar-studio-900\n",
      "/home/ion/Documentos/albertjimrod/personal_proj_hispasonic/htmls/alesis-vi61\n",
      "/home/ion/Documentos/albertjimrod/personal_proj_hispasonic/htmls/sintetizador-roland-spv-355\n",
      "/home/ion/Documentos/albertjimrod/personal_proj_hispasonic/htmls/modal-argon-8m\n",
      "/home/ion/Documentos/albertjimrod/personal_proj_hispasonic/htmls/yamaha-montage-7\n",
      "/home/ion/Documentos/albertjimrod/personal_proj_hispasonic/htmls/soporte-mesa-electrico\n",
      "/home/ion/Documentos/albertjimrod/personal_proj_hispasonic/htmls/piano-digital-casio-cdp-230rbk-regalos\n",
      "/home/ion/Documentos/albertjimrod/personal_proj_hispasonic/htmls/soporte-triple-teclados-bandeja\n",
      "/home/ion/Documentos/albertjimrod/personal_proj_hispasonic/htmls/octatrack-mk-ii\n",
      "/home/ion/Documentos/albertjimrod/personal_proj_hispasonic/htmls/guitarra-midi\n",
      "/home/ion/Documentos/albertjimrod/personal_proj_hispasonic/htmls/roland-rs-505\n",
      "/home/ion/Documentos/albertjimrod/personal_proj_hispasonic/htmls/roland-fantom-06\n",
      "/home/ion/Documentos/albertjimrod/personal_proj_hispasonic/htmls/behringer-pro-1\n",
      "/home/ion/Documentos/albertjimrod/personal_proj_hispasonic/htmls/waldorf-m-sintetizador-wavetable\n",
      "/home/ion/Documentos/albertjimrod/personal_proj_hispasonic/htmls/korg-drumlogue\n",
      "/home/ion/Documentos/albertjimrod/personal_proj_hispasonic/htmls/roland-vt-4\n",
      "/home/ion/Documentos/albertjimrod/personal_proj_hispasonic/htmls/roland-fantom-x8\n",
      "/home/ion/Documentos/albertjimrod/personal_proj_hispasonic/htmls/elektron-analog-rytm-mki\n",
      "/home/ion/Documentos/albertjimrod/personal_proj_hispasonic/htmls/mfb-kraftzwerg\n",
      "/home/ion/Documentos/albertjimrod/personal_proj_hispasonic/htmls/moog-system-15\n",
      "/home/ion/Documentos/albertjimrod/personal_proj_hispasonic/htmls/yamaha-qy700-secuenciador\n",
      "/home/ion/Documentos/albertjimrod/personal_proj_hispasonic/htmls/roland-1976-analog-synth-genesis-cure-camel-string-machine\n",
      "/home/ion/Documentos/albertjimrod/personal_proj_hispasonic/htmls/behringer-rd6\n",
      "/home/ion/Documentos/albertjimrod/personal_proj_hispasonic/htmls/hammond-c3-1961-chop-down-portable\n",
      "/home/ion/Documentos/albertjimrod/personal_proj_hispasonic/htmls/sampler-akai-z8\n",
      "/home/ion/Documentos/albertjimrod/personal_proj_hispasonic/htmls/akai-sg01v\n",
      "/home/ion/Documentos/albertjimrod/personal_proj_hispasonic/htmls/teclado-casio-ctk631\n",
      "/home/ion/Documentos/albertjimrod/personal_proj_hispasonic/htmls/farfisa-bravo\n",
      "/home/ion/Documentos/albertjimrod/personal_proj_hispasonic/htmls/make-noise-strega\n",
      "/home/ion/Documentos/albertjimrod/personal_proj_hispasonic/htmls/ableton-push-2\n",
      "/home/ion/Documentos/albertjimrod/personal_proj_hispasonic/htmls/doepfer-100lc3v-low-cost-case-vintage-edition\n",
      "/home/ion/Documentos/albertjimrod/personal_proj_hispasonic/htmls/udo-super-6\n",
      "/home/ion/Documentos/albertjimrod/personal_proj_hispasonic/htmls/korg-minikorg-700-32-teclas-2022\n",
      "/home/ion/Documentos/albertjimrod/personal_proj_hispasonic/htmls/funda-teclado-5-octavas\n",
      "/home/ion/Documentos/albertjimrod/personal_proj_hispasonic/htmls/novation-remote-25\n",
      "/home/ion/Documentos/albertjimrod/personal_proj_hispasonic/htmls/maleta-novation\n",
      "/home/ion/Documentos/albertjimrod/personal_proj_hispasonic/htmls/korg-n5-fallo-iluminacion-pantalla\n",
      "/home/ion/Documentos/albertjimrod/personal_proj_hispasonic/htmls/korg-wavestate\n",
      "/home/ion/Documentos/albertjimrod/personal_proj_hispasonic/htmls/roland-tr8\n",
      "/home/ion/Documentos/albertjimrod/personal_proj_hispasonic/htmls/roland-tb3\n",
      "/home/ion/Documentos/albertjimrod/personal_proj_hispasonic/htmls/vendo-varios-sintes-modulos-eurorack\n",
      "/home/ion/Documentos/albertjimrod/personal_proj_hispasonic/htmls/elektron-analog-heat-mki\n",
      "/home/ion/Documentos/albertjimrod/personal_proj_hispasonic/htmls/dave-smith-instruments-tempest\n",
      "/home/ion/Documentos/albertjimrod/personal_proj_hispasonic/htmls/elektron-octatrack-mki-2-tarjetas-64gb-16gb\n",
      "/home/ion/Documentos/albertjimrod/personal_proj_hispasonic/htmls/erica-synths-black-stereo-mixer-v2\n",
      "/home/ion/Documentos/albertjimrod/personal_proj_hispasonic/htmls/controlador-tactil-tnrs-doboz-v1\n",
      "/home/ion/Documentos/albertjimrod/personal_proj_hispasonic/htmls/endorphines-squawk-dirty-to-me\n",
      "/home/ion/Documentos/albertjimrod/personal_proj_hispasonic/htmls/casio-vl-tone-vl-1\n",
      "/home/ion/Documentos/albertjimrod/personal_proj_hispasonic/htmls/behringer-ms-1-bk\n",
      "/home/ion/Documentos/albertjimrod/personal_proj_hispasonic/htmls/teclado-controlador-m-audio-oxigen-pro-mini\n",
      "/home/ion/Documentos/albertjimrod/personal_proj_hispasonic/htmls/secuenciador-case-modulos-eurorack\n",
      "/home/ion/Documentos/albertjimrod/personal_proj_hispasonic/htmls/mini-sintetizador-casio-vl-tone-vl-1\n",
      "/home/ion/Documentos/albertjimrod/personal_proj_hispasonic/htmls/arturia-beatstep-pro\n",
      "/home/ion/Documentos/albertjimrod/personal_proj_hispasonic/htmls/make-noise-shared-system-plus\n",
      "/home/ion/Documentos/albertjimrod/personal_proj_hispasonic/htmls/doepfer-130-2\n",
      "/home/ion/Documentos/albertjimrod/personal_proj_hispasonic/htmls/verbos-electronics-dual-four-pole\n",
      "/home/ion/Documentos/albertjimrod/personal_proj_hispasonic/htmls/kawai-rc-2-tarjeta-memoria\n",
      "/home/ion/Documentos/albertjimrod/personal_proj_hispasonic/htmls/kordbot-isla-instruments\n",
      "/home/ion/Documentos/albertjimrod/personal_proj_hispasonic/htmls/nektar-impact-lx49-teclado-controlador\n",
      "/home/ion/Documentos/albertjimrod/personal_proj_hispasonic/htmls/roland-800-pro\n",
      "/home/ion/Documentos/albertjimrod/personal_proj_hispasonic/htmls/erica-synths-graphic-vco\n",
      "/home/ion/Documentos/albertjimrod/personal_proj_hispasonic/htmls/cyclone-analogic-tt-303-bass-bot-v2\n",
      "/home/ion/Documentos/albertjimrod/personal_proj_hispasonic/htmls/tarjeta-srx02-concert-piano-roland\n",
      "/home/ion/Documentos/albertjimrod/personal_proj_hispasonic/htmls/piano-digital-kurzweil-x-pro-up-88-teclas\n",
      "/home/ion/Documentos/albertjimrod/personal_proj_hispasonic/htmls/controlador-m-audio-5-octavas-evolution-mk\n",
      "/home/ion/Documentos/albertjimrod/personal_proj_hispasonic/htmls/compro-midi-solutions-event-processor-plus\n",
      "/home/ion/Documentos/albertjimrod/personal_proj_hispasonic/htmls/caja-mpc-live\n",
      "/home/ion/Documentos/albertjimrod/personal_proj_hispasonic/htmls/roland-mc101\n",
      "/home/ion/Documentos/albertjimrod/personal_proj_hispasonic/htmls/erica-synths-black-wavetable-rom-extras\n",
      "/home/ion/Documentos/albertjimrod/personal_proj_hispasonic/htmls/roland-juno-106\n",
      "/home/ion/Documentos/albertjimrod/personal_proj_hispasonic/htmls/yamaha-reface-cs\n",
      "/home/ion/Documentos/albertjimrod/personal_proj_hispasonic/htmls/roland-jupiter-4\n",
      "/home/ion/Documentos/albertjimrod/personal_proj_hispasonic/htmls/akai-mpc-61-keys-nuevo\n",
      "/home/ion/Documentos/albertjimrod/personal_proj_hispasonic/htmls/creamware-noah\n",
      "/home/ion/Documentos/albertjimrod/personal_proj_hispasonic/htmls/bheringer-umx-61\n",
      "/home/ion/Documentos/albertjimrod/personal_proj_hispasonic/htmls/make-noise-rene-2\n",
      "/home/ion/Documentos/albertjimrod/personal_proj_hispasonic/htmls/yamaha-dx7ii-d\n",
      "/home/ion/Documentos/albertjimrod/personal_proj_hispasonic/htmls/vendo-cambio-ik-irig-49\n",
      "/home/ion/Documentos/albertjimrod/personal_proj_hispasonic/htmls/sintetizador-arturia-minibrute-2s\n",
      "/home/ion/Documentos/albertjimrod/personal_proj_hispasonic/htmls/behringer-dual-vca\n",
      "/home/ion/Documentos/albertjimrod/personal_proj_hispasonic/htmls/korg-karma-flightcase\n",
      "/home/ion/Documentos/albertjimrod/personal_proj_hispasonic/htmls/hammond-sk-pro-73-envio-incluido\n",
      "/home/ion/Documentos/albertjimrod/personal_proj_hispasonic/htmls/sintetizador-radikal-technologies-accelerator-envio-incluido\n",
      "/home/ion/Documentos/albertjimrod/personal_proj_hispasonic/htmls/icon-ikeyboard-5x-teclado-controlador\n",
      "/home/ion/Documentos/albertjimrod/personal_proj_hispasonic/htmls/icon-ikeyboard-6x-teclado-controlador-midi-61-teclas\n",
      "/home/ion/Documentos/albertjimrod/personal_proj_hispasonic/htmls/behringer-ms-1\n",
      "/home/ion/Documentos/albertjimrod/personal_proj_hispasonic/htmls/behringer-neutron\n",
      "/home/ion/Documentos/albertjimrod/personal_proj_hispasonic/htmls/vendo-kawai-k1\n",
      "/home/ion/Documentos/albertjimrod/personal_proj_hispasonic/htmls/equipos-estudio-sintes-caja-ritmo-secuenciador\n",
      "/home/ion/Documentos/albertjimrod/personal_proj_hispasonic/htmls/modulos-eurorack\n",
      "/home/ion/Documentos/albertjimrod/personal_proj_hispasonic/htmls/dreadbox-erebus-v2\n",
      "/home/ion/Documentos/albertjimrod/personal_proj_hispasonic/htmls/korg-sq-1-sq1\n",
      "/home/ion/Documentos/albertjimrod/personal_proj_hispasonic/htmls/nord-electro-5d-73\n",
      "/home/ion/Documentos/albertjimrod/personal_proj_hispasonic/htmls/dreadbox-abyss\n",
      "/home/ion/Documentos/albertjimrod/personal_proj_hispasonic/htmls/modulos-eurorack\n",
      "/home/ion/Documentos/albertjimrod/personal_proj_hispasonic/htmls/workstation-korg-kross2-61-pure-white\n",
      "/home/ion/Documentos/albertjimrod/personal_proj_hispasonic/htmls/yamaha-reface-cp\n",
      "/home/ion/Documentos/albertjimrod/personal_proj_hispasonic/htmls/bancos-modwave\n",
      "/home/ion/Documentos/albertjimrod/personal_proj_hispasonic/htmls/sonidos-roland-jupiter-x-xm-series-zenology-pro-software\n",
      "/home/ion/Documentos/albertjimrod/personal_proj_hispasonic/htmls/presonus-atom-sq\n",
      "/home/ion/Documentos/albertjimrod/personal_proj_hispasonic/htmls/modx7-yamaha\n",
      "/home/ion/Documentos/albertjimrod/personal_proj_hispasonic/htmls/roland-super-jv-1080-tarjetas-expansion\n",
      "/home/ion/Documentos/albertjimrod/personal_proj_hispasonic/htmls/modulo-bateria-roland-r-8m-2-tarjetas-sonido\n",
      "/home/ion/Documentos/albertjimrod/personal_proj_hispasonic/htmls/sintetizador-berhinger-deepmind-12\n",
      "/home/ion/Documentos/albertjimrod/personal_proj_hispasonic/htmls/malekko-varigate-4\n",
      "/home/ion/Documentos/albertjimrod/personal_proj_hispasonic/htmls/arturia-keystep-pro\n",
      "/home/ion/Documentos/albertjimrod/personal_proj_hispasonic/htmls/befaco-percall\n",
      "/home/ion/Documentos/albertjimrod/personal_proj_hispasonic/htmls/tiptop-sd808-white\n",
      "/home/ion/Documentos/albertjimrod/personal_proj_hispasonic/htmls/beringher-rd-6-lm\n",
      "/home/ion/Documentos/albertjimrod/personal_proj_hispasonic/htmls/komplete-kontrol-s61-mk2\n",
      "/home/ion/Documentos/albertjimrod/personal_proj_hispasonic/htmls/case-roland-impecable\n",
      "/home/ion/Documentos/albertjimrod/personal_proj_hispasonic/htmls/accec-virus-a\n",
      "/home/ion/Documentos/albertjimrod/personal_proj_hispasonic/htmls/kilpatrick-phenol\n",
      "/home/ion/Documentos/albertjimrod/personal_proj_hispasonic/htmls/nord-wave-version-1-impecable-estado\n",
      "/home/ion/Documentos/albertjimrod/personal_proj_hispasonic/htmls/sintes-mucho-mas\n",
      "/home/ion/Documentos/albertjimrod/personal_proj_hispasonic/htmls/kurzweil-pc2-rack\n",
      "/home/ion/Documentos/albertjimrod/personal_proj_hispasonic/htmls/midi-controller-playtron\n",
      "/home/ion/Documentos/albertjimrod/personal_proj_hispasonic/htmls/elektron-octatrack-mk1\n",
      "/home/ion/Documentos/albertjimrod/personal_proj_hispasonic/htmls/dave-smith-tetra\n",
      "/home/ion/Documentos/albertjimrod/personal_proj_hispasonic/htmls/korg-ms2000r\n",
      "/home/ion/Documentos/albertjimrod/personal_proj_hispasonic/htmls/elektron-machinedrum-sps-i-uwdrive\n",
      "/home/ion/Documentos/albertjimrod/personal_proj_hispasonic/htmls/sintetizadores-material-estudio-directo-varios\n",
      "/home/ion/Documentos/albertjimrod/personal_proj_hispasonic/htmls/m-audio-oxygen-pro-49\n",
      "/home/ion/Documentos/albertjimrod/personal_proj_hispasonic/htmls/sequential-prophet-x-300-8dio-voucher-libreria-gratis\n",
      "/home/ion/Documentos/albertjimrod/personal_proj_hispasonic/htmls/modal-argon8\n",
      "/home/ion/Documentos/albertjimrod/personal_proj_hispasonic/htmls/pedal-zoom-ms-70cdr\n",
      "/home/ion/Documentos/albertjimrod/personal_proj_hispasonic/htmls/yamaha-rm1x-groovebox\n",
      "/home/ion/Documentos/albertjimrod/personal_proj_hispasonic/htmls/argon8x-modal-electronics\n",
      "/home/ion/Documentos/albertjimrod/personal_proj_hispasonic/htmls/manual-akai-xr20\n",
      "/home/ion/Documentos/albertjimrod/personal_proj_hispasonic/htmls/manual-yamaha-qy100\n",
      "/home/ion/Documentos/albertjimrod/personal_proj_hispasonic/htmls/mochika-x-5-atomosynth-sinte-semimodular\n",
      "/home/ion/Documentos/albertjimrod/personal_proj_hispasonic/htmls/leslie-760-n-autonomo\n",
      "/home/ion/Documentos/albertjimrod/personal_proj_hispasonic/htmls/amplificador-122-type-classictone\n",
      "/home/ion/Documentos/albertjimrod/personal_proj_hispasonic/htmls/hammond-a100-leslie-760\n",
      "/home/ion/Documentos/albertjimrod/personal_proj_hispasonic/htmls/leslie-815-proline\n",
      "/home/ion/Documentos/albertjimrod/personal_proj_hispasonic/htmls/kit-controlador-leslies-6-pines-122-147-familias-6h-6w\n",
      "/home/ion/Documentos/albertjimrod/personal_proj_hispasonic/htmls/equipo-estudio\n",
      "/home/ion/Documentos/albertjimrod/personal_proj_hispasonic/htmls/yamaha-psr-e343\n",
      "/home/ion/Documentos/albertjimrod/personal_proj_hispasonic/htmls/korg-electribe-2-kaoss-pad-3\n",
      "/home/ion/Documentos/albertjimrod/personal_proj_hispasonic/htmls/cambio-sintetizador-teclado-korg-tr-88-workstation\n",
      "/home/ion/Documentos/albertjimrod/personal_proj_hispasonic/htmls/novation-circuit-mono-station-sinte-analogico-kaoss-pad-3-efectos\n",
      "/home/ion/Documentos/albertjimrod/personal_proj_hispasonic/htmls/moog-slim-phaty\n",
      "/home/ion/Documentos/albertjimrod/personal_proj_hispasonic/htmls/sampler-yamaha-a4000\n",
      "/home/ion/Documentos/albertjimrod/personal_proj_hispasonic/htmls/mu-proformance-1-modulo-sonidos-piano-envio-inc\n",
      "/home/ion/Documentos/albertjimrod/personal_proj_hispasonic/htmls/studio-electronics-atc-1-2600-filter-cartridge\n",
      "/home/ion/Documentos/albertjimrod/personal_proj_hispasonic/htmls/kawai-vpc1-mesa\n",
      "/home/ion/Documentos/albertjimrod/personal_proj_hispasonic/htmls/elektron-analog-rythm-mki\n",
      "/home/ion/Documentos/albertjimrod/personal_proj_hispasonic/htmls/elektron-four-mk1\n",
      "/home/ion/Documentos/albertjimrod/personal_proj_hispasonic/htmls/elektribe-korg-emx1-sd\n",
      "/home/ion/Documentos/albertjimrod/personal_proj_hispasonic/htmls/mochila-transportar-teclado\n",
      "/home/ion/Documentos/albertjimrod/personal_proj_hispasonic/htmls/novation-sl-25-mk2\n",
      "/home/ion/Documentos/albertjimrod/personal_proj_hispasonic/htmls/elektron-digitone\n",
      "/home/ion/Documentos/albertjimrod/personal_proj_hispasonic/htmls/piano-rhodes-mark-ii-suitcase-eighty-eight-88-the-top-model\n",
      "/home/ion/Documentos/albertjimrod/personal_proj_hispasonic/htmls/k-2-berhinger\n",
      "/home/ion/Documentos/albertjimrod/personal_proj_hispasonic/htmls/sonidos-yamaha-sy-85\n",
      "/home/ion/Documentos/albertjimrod/personal_proj_hispasonic/htmls/roland-fantom-g6\n",
      "/home/ion/Documentos/albertjimrod/personal_proj_hispasonic/htmls/seismic-industries-vc-adsr\n",
      "/home/ion/Documentos/albertjimrod/personal_proj_hispasonic/htmls/tiptop-audio-z-3000\n",
      "/home/ion/Documentos/albertjimrod/personal_proj_hispasonic/htmls/roland-juno-ds-61\n",
      "/home/ion/Documentos/albertjimrod/personal_proj_hispasonic/htmls/nord-electro-5d-61\n",
      "/home/ion/Documentos/albertjimrod/personal_proj_hispasonic/htmls/kenton-merge-4-kenton-thru-5\n",
      "/home/ion/Documentos/albertjimrod/personal_proj_hispasonic/htmls/moog-mother-32\n",
      "/home/ion/Documentos/albertjimrod/personal_proj_hispasonic/htmls/teclado-controlador-midiplus-x3\n",
      "/home/ion/Documentos/albertjimrod/personal_proj_hispasonic/htmls/elektron-syntakt\n",
      "/home/ion/Documentos/albertjimrod/personal_proj_hispasonic/htmls/tarjeta-smart-media-128mb-adaptador\n",
      "/home/ion/Documentos/albertjimrod/personal_proj_hispasonic/htmls/cartucho-rom-yamaha-dx7s\n",
      "/home/ion/Documentos/albertjimrod/personal_proj_hispasonic/htmls/yamaha-modx7\n",
      "/home/ion/Documentos/albertjimrod/personal_proj_hispasonic/htmls/arturia-keylab-mkii-49-black\n",
      "/home/ion/Documentos/albertjimrod/personal_proj_hispasonic/htmls/arturia-keylab-mkii-61-teclado-controlador-midi\n",
      "/home/ion/Documentos/albertjimrod/personal_proj_hispasonic/htmls/hammond-xk3-leslie-2101-mki\n",
      "/home/ion/Documentos/albertjimrod/personal_proj_hispasonic/htmls/stardust-synth-cover-korg-arp-odyssey-mini\n",
      "/home/ion/Documentos/albertjimrod/personal_proj_hispasonic/htmls/sintetizador-korg-minilogue-decksaver\n",
      "/home/ion/Documentos/albertjimrod/personal_proj_hispasonic/htmls/roland-ju-06a\n",
      "/home/ion/Documentos/albertjimrod/personal_proj_hispasonic/htmls/roland-dk-01-boutique-dock\n",
      "/home/ion/Documentos/albertjimrod/personal_proj_hispasonic/htmls/arturia-keylab-mk-ii-negro\n",
      "/home/ion/Documentos/albertjimrod/personal_proj_hispasonic/htmls/mt-32-lista-presets\n",
      "/home/ion/Documentos/albertjimrod/personal_proj_hispasonic/htmls/manual-impreso-mc909-espano\n",
      "/home/ion/Documentos/albertjimrod/personal_proj_hispasonic/htmls/cables-midi\n",
      "/home/ion/Documentos/albertjimrod/personal_proj_hispasonic/htmls/intellijel-planar-2-eurorack\n",
      "/home/ion/Documentos/albertjimrod/personal_proj_hispasonic/htmls/alm-dinkys-taiko\n",
      "/home/ion/Documentos/albertjimrod/personal_proj_hispasonic/htmls/endorphines-squawk-dirty-to-me\n",
      "/home/ion/Documentos/albertjimrod/personal_proj_hispasonic/htmls/sintetizador-yamaha-mx88-nuevo\n",
      "/home/ion/Documentos/albertjimrod/personal_proj_hispasonic/htmls/behringer-td3-rd6\n",
      "/home/ion/Documentos/albertjimrod/personal_proj_hispasonic/htmls/asm-hydrasynth-keyboard\n",
      "/home/ion/Documentos/albertjimrod/personal_proj_hispasonic/htmls/erica-synths-syntrx-ii-nuevo\n",
      "/home/ion/Documentos/albertjimrod/personal_proj_hispasonic/htmls/squarp-instruments-hapax-secuenciador-avanzado\n",
      "/home/ion/Documentos/albertjimrod/personal_proj_hispasonic/htmls/emu-proteus-2000\n",
      "/home/ion/Documentos/albertjimrod/personal_proj_hispasonic/htmls/korg-m-50-88-teclas\n",
      "/home/ion/Documentos/albertjimrod/personal_proj_hispasonic/htmls/roland-fa-06-funda\n",
      "/home/ion/Documentos/albertjimrod/personal_proj_hispasonic/htmls/sintetizador-modular-endorphines-shuttle-system-nuevo\n",
      "/home/ion/Documentos/albertjimrod/personal_proj_hispasonic/htmls/vermona-drm1-mkiii-sintetizador-percusion-analogico-nuevo\n",
      "/home/ion/Documentos/albertjimrod/personal_proj_hispasonic/htmls/arturia-matrixbrute-impecable-sintetizador-analogico\n",
      "/home/ion/Documentos/albertjimrod/personal_proj_hispasonic/htmls/varios-sinth-effectos-drum-mixer\n",
      "/home/ion/Documentos/albertjimrod/personal_proj_hispasonic/htmls/cambio-expansion-roland-sr-jv80-01-orquestal\n",
      "/home/ion/Documentos/albertjimrod/personal_proj_hispasonic/htmls/varios-sintes-expanders-yamaha-roland-mu-akai\n",
      "/home/ion/Documentos/albertjimrod/personal_proj_hispasonic/htmls/sonidos-custom-para-nord-lead-a1\n",
      "/home/ion/Documentos/albertjimrod/personal_proj_hispasonic/htmls/roland-jupiter-xm-expansion-jd-800\n",
      "/home/ion/Documentos/albertjimrod/personal_proj_hispasonic/htmls/piano-88-contrapesadas-roland-hp1800s\n",
      "/home/ion/Documentos/albertjimrod/personal_proj_hispasonic/htmls/acordeon-stela-34-teclas-60-bajos\n",
      "/home/ion/Documentos/albertjimrod/personal_proj_hispasonic/htmls/piano-cola-tchaika\n",
      "/home/ion/Documentos/albertjimrod/personal_proj_hispasonic/htmls/sampler-akai-s3000xl-digital\n",
      "/home/ion/Documentos/albertjimrod/personal_proj_hispasonic/htmls/fatar-studio-49\n",
      "/home/ion/Documentos/albertjimrod/personal_proj_hispasonic/htmls/behringer-td-3-sr\n",
      "/home/ion/Documentos/albertjimrod/personal_proj_hispasonic/htmls/korg-microkey2-37-teclas\n",
      "/home/ion/Documentos/albertjimrod/personal_proj_hispasonic/htmls/yamaha-modx8-funda\n",
      "/home/ion/Documentos/albertjimrod/personal_proj_hispasonic/htmls/tg-500-yamaha\n",
      "/home/ion/Documentos/albertjimrod/personal_proj_hispasonic/htmls/teclado-controladores-midi\n",
      "/home/ion/Documentos/albertjimrod/personal_proj_hispasonic/htmls/varios-modulos-eurorack-case-inclinada-6u-88hp-fila\n",
      "/home/ion/Documentos/albertjimrod/personal_proj_hispasonic/htmls/modulo-sonidos-roland-d-70-secuenciador-roland-mv30-mesa-mezclas-midi-ver-videos-demo\n",
      "/home/ion/Documentos/albertjimrod/personal_proj_hispasonic/htmls/vendo-vermona-drm1-mk3-cv-trigger-midi-impoluta-600e\n",
      "/home/ion/Documentos/albertjimrod/personal_proj_hispasonic/htmls/udo-super-6-nuevecito\n",
      "/home/ion/Documentos/albertjimrod/personal_proj_hispasonic/htmls/cambio-roland-jp8080\n",
      "/home/ion/Documentos/albertjimrod/personal_proj_hispasonic/htmls/kaoss-pad-2-delay-stereo-mas\n",
      "/home/ion/Documentos/albertjimrod/personal_proj_hispasonic/htmls/waldorf-blofeld-keyboard\n",
      "/home/ion/Documentos/albertjimrod/personal_proj_hispasonic/htmls/eurorack-mixer-doepfer-138b\n",
      "/home/ion/Documentos/albertjimrod/personal_proj_hispasonic/htmls/mixer-doepfer-138n-eurorack\n",
      "/home/ion/Documentos/albertjimrod/personal_proj_hispasonic/htmls/varios-modulos-eurorack\n",
      "/home/ion/Documentos/albertjimrod/personal_proj_hispasonic/htmls/roland-vt-4\n",
      "/home/ion/Documentos/albertjimrod/personal_proj_hispasonic/htmls/akai-force-ssd-480expansionescase\n",
      "/home/ion/Documentos/albertjimrod/personal_proj_hispasonic/htmls/oberheim-ob-12\n",
      "/home/ion/Documentos/albertjimrod/personal_proj_hispasonic/htmls/roland-u220-modulo\n",
      "/home/ion/Documentos/albertjimrod/personal_proj_hispasonic/htmls/vendo-cambio-nord-wave-2\n",
      "/home/ion/Documentos/albertjimrod/personal_proj_hispasonic/htmls/teclado-tyros-5-76-teclas-ampliacion-1024m-2-packs-sonidos-ritmos\n",
      "/home/ion/Documentos/albertjimrod/personal_proj_hispasonic/htmls/tarjetas-roland-sr-jv80-sintetizadores-jv_xv_xp\n",
      "/home/ion/Documentos/albertjimrod/personal_proj_hispasonic/htmls/roland-xv-3080-tarjeta-ultimate-keys-srx-07\n",
      "/home/ion/Documentos/albertjimrod/personal_proj_hispasonic/htmls/fatar-studio-900\n",
      "/home/ion/Documentos/albertjimrod/personal_proj_hispasonic/htmls/yamaha-kx-61\n",
      "CPU times: user 5.82 s, sys: 383 ms, total: 6.2 s\n",
      "Wall time: 8min 23s\n"
     ]
    }
   ],
   "source": [
    "%%time\n",
    "\n",
    "main_path='https://www.hispasonic.com'\n",
    "local_path = '/home/ion/Documentos/albertjimrod/personal_proj_hispasonic/htmls/'\n",
    "\n",
    "for enlace in diccionario_enlaces:\n",
    "    time.sleep(1)                           # Sleep for 3 seconds\n",
    "    page = requests.get(main_path + enlace) # https://www.hispasonic.com/anuncios/polyend-tracker/1057403.html\n",
    "    #print(main_path + enlace)\n",
    "    enlace = enlace.split(\"/\")              # filter for extracting\n",
    "    enlace= enlace[2]                       # name ad\n",
    "\n",
    "    with open(local_path + enlace + '.html',\"w+\") as f:\n",
    "        f.write(page.text)\n",
    "        \n",
    "    print(local_path + enlace)"
   ]
  },
  {
   "cell_type": "markdown",
   "id": "16bb6c3f",
   "metadata": {},
   "source": [
    "## 3.3 It's not all about sales.\n",
    "\n",
    "<br>\n",
    "\n",
    "When ads have been downloaded, the next step is doing a quick scan inside the downloaded ads, so there's no only sales.\n",
    "\n",
    "\n",
    "A starting point is to look in the description of the titles and see if some of these words exist.\n",
    "\n",
    "\n",
    "By using `find` and `grep` together we can see if these words we are looking for are inside the files.\n",
    "\n",
    "<br>\n",
    "\n",
    "\n",
    "\n",
    "![vendo.png](images/vendo.png)\n",
    "\n",
    "- **vendo : *sell***\n",
    "\n",
    "<br>\n",
    "\n",
    "\n",
    "![busco_piezas.png](images/busco_piezas.png)\n",
    "\n",
    "- **busco, se busca: *looking for*** and - **piezas: *parts***\n",
    "\n",
    "<br>\n",
    "\n",
    "\n",
    "![cambio.png](images/cambio.png)\n",
    "\n",
    "- **cambio: *change***\n",
    "\n",
    "<br>\n",
    "    \n",
    "![compro.png](images/compro.png)\n",
    "\n",
    "- **compro: *buy***\n",
    "\n",
    "<br>\n",
    "\n",
    "![regalo.png](images/regalo.png)\n",
    "\n",
    "- **regalo: *for free***\n",
    "\n",
    "<br>\n",
    "\n",
    "This information will be very useful because these are the actions, and it will allow us to classify if the ad is for sale, purchase or any other concept that we have discovered.\n",
    "\n",
    "## 3.4 Elements of the ad that we are going to extract.\n",
    "\n",
    "<br>\n",
    "Another step to take into account is to obtain:\n",
    "\n",
    "- **description**, **user**, **price**, **brand**, **city** , **date published** ,**date expire** ,**times seen**\n",
    "\n",
    "<br>\n",
    "\n",
    "\n",
    "![hispa_4.png](images/hispa_4.png)\n",
    "\n",
    "\n",
    "\n",
    "<br>\n",
    "\n",
    "This is an ad as example and the fields we want to get:"
   ]
  },
  {
   "cell_type": "markdown",
   "id": "0123e433",
   "metadata": {},
   "source": [
    "## 3.5 Extraction of the \"action\" and the synthesizer name from the description.\n",
    "\n",
    "\n",
    "<br>\n",
    "\n",
    "### 3.5-1 Extraction of action\n",
    "\n",
    "<br>\n",
    "\n",
    "\n",
    "The extraction contained in the fields is not very complicated, however in the description we find a problem to solve and it is about how to differentiate a sale, a purchase or a change.\n",
    "\n",
    "\n",
    "To do this, the solution carried out has been to use a series of keywords in the meaning of the ad as triggers of an **accion: *action*** in the event that those words exist in the description of the advertisement. \n",
    "\n",
    "\n",
    "In the same way as we (humans) would do to see if the ad is a sale or on the contrary a gift.\n"
   ]
  },
  {
   "cell_type": "code",
   "execution_count": 19,
   "id": "98e52429",
   "metadata": {},
   "outputs": [],
   "source": [
    "accion = [\"compro\",\"cambio\",\"vendo\",\"regalo\",\"busco\",\"busca\",'reparar','piezas']"
   ]
  },
  {
   "cell_type": "markdown",
   "id": "de5bb2d3",
   "metadata": {},
   "source": [
    "Once we have the `accion` keywords list, the next step is to make them as a trigger, that is, manage to make a certain action.\n",
    "\n",
    "<br>\n",
    "\n",
    "Using the words contained in `accion` list as the key, and the value of the dictionary a call to a function depending the action on acción.\n",
    "\n",
    "<br>\n",
    "\n",
    "    func_dict = {                      # the key give us the action (function)\n",
    "        \"compro\":func_compro,\n",
    "        \"cambio\":func_cambio,\n",
    "        ...\n",
    "\n",
    "\n",
    "    def func_compro(clave_func_dict):  # if `compro` means I am not selling, and so on...\n",
    "\n",
    "    if list_compro[-1] == \"0\":  \n",
    "        list_vendo.pop(-1)\n",
    "        list_vendo.append(\"0\")\n",
    "        list_compro.pop(-1)\n",
    "        list_compro.append(\"1\")\n",
    "    else:\n",
    "        pass\n",
    "        \n",
    "\n",
    "\n",
    "<br>\n",
    "\n",
    "### 3.5-1 Extraction of synthesizer name.\n",
    "\n",
    "<br>\n",
    "\n",
    "\n",
    "The next step we must implement is all the possible brands of synthesizer manufacturers that we can find in the ads. \n",
    "\n",
    "\n",
    "To do this by doing an internet search I could find a list of a large number of them, at least to date.\n",
    "\n",
    "\n",
    "However due to the time I have been working with the project I already have a list of names `sintes` with which I have been working but that when I reached this point I realized that I had to modify and merge with the new list.\n",
    "\n",
    "link where I obtain the brand synth: https://www.perfectcircuit.com/modular-synths\n",
    "\n",
    "#### Synthesizer manufacturers."
   ]
  },
  {
   "cell_type": "code",
   "execution_count": 20,
   "id": "03145eb8",
   "metadata": {},
   "outputs": [],
   "source": [
    "sintes = ['0 coast', '0-coast', '000', '4ms', 'a-v-p synth', 'acces', 'access', 'acidlab', 'akai', 'alembic', 'alesis', 'allen & heath', 'allen&heath', \n",
    "'analogaudio1', 'analogue solutions', 'analogue systems', 'arp', 'arturia', 'asm', 'asm (ashun sound machines)', 'atomo synth', 'atomosynth', 'audio damage', \n",
    "'audiophile circuits league', 'axoloty', 'balaguer', 'baloran', 'bastl instruments', 'befaco', 'behringer', 'behringer', 'bheringer', 'bitbox', \n",
    "'black corporation', 'boss', 'bubblesound instruments', 'buchla', 'bÃ¶hm', 'casio', 'charlie lab', 'charvel', 'chronograf', 'circuit abbey', 'clavia', \n",
    "'club of the knobs', 'coast', 'corsynth', 'cre8audio', 'crumar', 'custom made synths', 'cyclone', 'cyclone analogic', 'dave jones design', 'dave smith', \n",
    "'dave smith instruments', 'deepmind', 'deepmind 12', 'deepmind 6', 'delptronics', 'delta music', 'denon dj', 'dexibell', 'dexibell', 'digitack', 'doepfer', \n",
    "'dreadbox', 'dubreq', 'dynacord', 'e mu', 'e-mu', 'e-mu', 'e:m:c', 'elby designs', 'electribe', 'electronic music laboratories (eml)', \n",
    "'electrovoice', 'elektron', 'elka', 'emc', 'emu', 'endorphin.es', 'endorphines', 'ensoniq', 'eowave', 'epiphone', 'erica synth', 'erica synths', \n",
    "'ernie ball music man', 'esp ltd', 'eurorack', 'eventide', 'evh', 'evolver', 'exodus digital', 'farfisa', 'fender', 'fishman', 'fodera', 'formanta', \n",
    "'frap tool', 'frequency central', 'fretlight', 'friedman', 'future retro', 'futuresonus', 'gator', 'gemini', 'generalmusic', 'gibson', 'godin', 'gotharman', \n",
    "'graph tech', 'gretsch', 'guild', 'hammond', 'hartmann', 'hexinverter', 'hinton instruments', 'hofner', 'hypersynth', 'hÃ¶fner', 'ibanez', 'ik', 'instruo', \n",
    "'intellijel', 'iomega', 'isla', 'jackson', 'jaspers', 'john bowen synth design', 'jomox', 'kawai', 'kenton', 'ketron', 'kilpatrick audio', 'knobula', \n",
    "'koma elektronik', 'komplete', 'korg', 'kramer', 'kurzweil', 'kurzweil', 'lakland', 'line 6', 'linn electronics', 'livid', 'logan electronics', 'm-audio', \n",
    "'macbeth studio systems', 'make', 'malekko', 'manikin electronic', 'maschine', 'mellotron', 'mfb', 'micro modular', 'miditech', 'modal', 'modal electronics', \n",
    "'models', 'modor', 'modular', 'modulus', 'monome', 'moog', 'mpc', 'mpc', 'mutable instruments', 'mutant', 'native instruments', 'neutron', 'noise engineering', \n",
    "'nord', 'nord electro', 'nord lead 2 rack', 'nord lead 3', 'nord lead 3', 'nord lead 4', 'nord micro modular', 'nord modular', 'nord rack', 'nord stage', \n",
    "'nord wave', 'novation', 'numark', 'oberheim', 'octatrack', 'orthogonal devices', 'paratek', 'pearl', 'peavey', 'pioneer dj', 'pittsburgh', 'pittsburgh modular', \n",
    "'polyend', 'polygraf', 'ppg (palm products gmbh)', 'prs', 'qu bit', 'qu-bit', 'qu-bit electronix', 'quasimidi', 'qubit', 'quiklok', 'radikal technologies', \n",
    "'rhodes', 'rickenbacker', 'roland', 'roli', 'sanson', 'schecter', 'sensel', 'sequencial', 'sequential', 'sequential', 'sequential circuits', \n",
    "'sequential circuits', 'sequentix', 'shakmat', 'simmons', 'soma', 'sonicware', 'special waves', 'spector', 'spectral audio', 'sputnik', 'squarp instruments', \n",
    "'squier', 'ssff', 'stanton', 'steinberger', 'sterling', 'strymon', 'studio electronics', 'studiologic', 'studiologic music', 'synamodec', 'synthesis technology', \n",
    "'synthrotek', 'synthstrom', 'synthstrom', 'synthtech','swissonic', 'tascam', 'taylor', 'technos', 'teenage', 'teenage engineering', 'tiptop', 'tiptop audio', \n",
    "'traveler guitar', 'udo audio', 'uno synth ', 'vermona', 'vermona', 'virus', 'viscount', 'volca', 'vox', 'waldorf', 'warwick', 'washburn', 'waves grendel', \n",
    "'wersi', 'wersi music', 'winter modular', 'wmd', 'wmd / ssf', 'wurlitzer', 'yamaha', 'yocto', 'zeppelin design labs', 'zoom','1010 music', '2hp', '4ms', 'acid rain technology', \n",
    "'acl', 'addac system', 'after later audio', 'aion modular', 'ajh synth', \n",
    "'alm busy circuits', 'alright devices', 'analogue solutions', 'bastl instruments', 'befaco', 'blackhole cases', 'blue lantern', 'boredbrain music', \n",
    "'bubblesound', 'buchla', 'cosmotronic', 'cre8audio', 'divkid', 'dnipro modular', 'doepfer', 'dreadbox', 'e-rm', 'electrosmith', 'emblematic systems', \n",
    "'empress effects', 'endorphin.es', 'eowave', 'erica synths', 'erogenous tones', 'eskatonic modular', 'eventide', 'five12', 'frap tools', 'future sound systems', \n",
    "'gieskes', 'grayscale', 'hexinverter', 'industrial music electronics', 'instruo', 'intellijel designs', 'io instruments', 'jomox', 'joranalogue', 'klavis', \n",
    "'koma elektronik', 'l-1', 'lmntl', 'low-gain electronics', 'lzx industries', 'make noise', 'malekko heavy industry', 'manhattan analog', 'meng qi', \n",
    "'michigan synth works', 'modbap modular', 'moog', 'mordax', 'mosaic', 'mrseri', 'mutable instruments', 'nano modules', 'noise engineering', \n",
    "'patching panda', 'percussa', 'pittsburgh modular', 'plankton electronics', 'poly effects', 'qu-bit electronix', 'random source', 'ritual electronics', \n",
    "'rossum', 'schlappi engineering', 'shakmat modular', 'soundforce', 'soundmachines', 'squarp', 'steady state fate', 'strymon', 'studio electronics', \n",
    "'supercritical', 'synthesis technology', 'system 80', 'tall dog electronics', 'tasty chips', 'tenderfoot electronics', 'tesseract modular', 'tiptop audio', \n",
    "'trogotronic', 'tubbutec', 'u-he', 'verbos electronics', 'vermona', 'voicas', 'vpme.de', 'winter modular', 'wmd', 'worng electronics', 'xaoc devices', \n",
    "'xor electronics', 'zlob modular',\"ASM\",\"Elektron\",\"Moog\",\"Sequential\",\"Teenage Engineering\",\"SOMA Laboratory\",\"Korg\",\"Novation\",\"Modal Electronics\",\n",
    "\"Black Corporation\",\"Roland\",\"Arturia\",\"Critter & Guitari\",\"Polyend\",\"UDO\",\"Waldorf\",\"Nord\",\"Yamaha\",\"Vermona\",\"Crumar\",\"JMT Synth\",\"Modor\",\n",
    "\"Studio Electronics\",\"Trogotronic\",\"Gieskes\",\"Akai\",\"Dreadbox\",\"Herbs and Stones\",\"IK Multimedia\",\"Tasty Chips\",\"Buchla\",\"Soundmachines\",\n",
    "\"Access\",\"Grp\",\"Analogue Solutions\",\"The Division Department\",\"Norand\",\"Jomox\",\"Sonicware\",\"Radikal Technologies\",\"Playtime Engineering\",\n",
    "\"1010 Music\",\"Fred's Lab\",\"Kilpatrick Audio\",\"Eowave\",\"Electrosmith\",\"Meng Qi\",\"Studiologic\",\"Suzuki\",\"Nonlinear Labs\",\"Dato\",\"Artiphon\",\n",
    "\"Malekko Heavy Industry\",\"Kodamo\",\"Hikari Instruments\",\"Manikin Electronic\",\"Second Sound\",\"\",\"Arturia\",\"Squarp\",\"Polyend\",\"Novation\",\"Akai\",\n",
    "\"Roger Linn Design\",\"Conductive Labs\",\"Native Instruments\",\"Faderfox\",\"Sensel\",\"Roland\",\"Keith McMillen\",\"Pioneer\",\"E-RM\",\"Expressive E\",\"Korg\",\n",
    "\"M-Audio\",\"Alesis\",\"JouÃ©\",\"Soundforce\",\"Yamaha\",\"Genki\",\"Erica Synths\",\"SOMA Laboratory\",\"Make Noise\",\"Doepfer\",\"Elektron\",\"Moog\",\n",
    "\"Teenage Engineering\",\"1010 Music\",\"Expert Sleepers\",\"BASTL Instruments\",\"Kenton\",\"Circuit Happy\",\"MOTU\",\"MIDI Solutions\",\"Solid State Logic\",\n",
    "\"Nord\",\"Malekko Heavy Industry\",\"Koma Elektronik\",\"Random Source\",\"Eowave\",\"Zoom\",\"Crumar\",\"Electro-Harmonix\",\"Grp\",\"Michigan Synth Works\",\n",
    "\"Analogue Solutions\",\"Knas\",\"iConnectivity\",\"Soundmachines\",\"Eurodesk-Z\",\"Presonus\",\"Torso Electronics\",\"IK Multimedia\",\"ESI Audiotechnik\",\n",
    "\"Low-Gain Electronics\",\"Kilpatrick Audio\",\"Artiphon\",\"Instruments of Things\",\"Apogee\",\"SND\",\"Future Retro\",\"Moffenzeef\",\"CME\",\"Embodme\",\n",
    "\"Tech 21\",\"Snyderphonics\",\"Tricks Magic Shop\",\"\",\"\",\"Strymon\",\"Vermona\",\"OTO Machines\",\"Dreadbox\",\"Chase Bliss Audio\",\"Boss\",\"GFI\",\"Meris\",\n",
    "\"Eventide\",\"SOMA Laboratory\",\"Echo Fix\",\"Fairfield Circuitry\",\"Universal Audio\",\"Gamechanger Audio\",\"EarthQuaker Devices\",\"Death By Audio\",\n",
    "\"Sherman\",\"Electro-Harmonix\",\"Old Blood Noise Endeavors\",\"Knas\",\"Red Panda\",\"Malekko Heavy Industry\",\"Kemper\",\"DigiTech\",\"JAM Pedals\",\n",
    "\"Erica Synths\",\"Elektron\",\"WMD\",\"1010 Music\",\"Roland\",\"Korg\",\"Poly Effects\",\"Jomox\",\"Thermionic Culture\",\"Decksaver\",\"Warm Audio\",\n",
    "\"Zoom\",\"Boredbrain Music\",\"Meng Qi\",\"Electrosmith\",\"Benidub\",\"BAE\",\"Trogotronic\",\"MIDI Solutions\",\"Plankton Electronics\",\"Vongon\",\n",
    "\"ART\",\"Hungry Robot\",\"Walrus Audio\",\"Enjoy Electronics\",\"CIOKS\",\"TK Audio\",\"Source Audio\",\"API\",\"Kilpatrick Audio\",\"Voodoo Lab\",\n",
    "\"FMR Audio\",\"JHS Pedals\",\"MOD Devices\",\"Cooper FX\",\"Finegear\",\"Ezhi & Aka\",\"Truetone\",\"LastGasp Art Laboratories\",\"Origin Effects\",\n",
    "\"Rainger FX\",\"Line 6\",\"PedalTrain\",\"Dr. Scientist\",\"Elta Music\",\"Keeley\",\"Recovery\",\"Glou-Glou\",\"Retro Mechanical Labs\",\"Electro-Faustus\",\n",
    "\"Animal Factory\",\"Hologram\",\"Caroline Guitar Company\",\"MXR\",\"Second Sound\",\"Xotic\",\"Dunlop\",\"Adventure Audio\",\"ISP Technologies\",\n",
    "\"Industrialectric\",\"Tech 21\",\"Collision Devices\",\"Orgeldream\",\"Universal Audio\",\"API\",\"Solid State Logic\",\"Rupert Neve Designs\",\"Shure\",\"MOTU\",\n",
    "\"Warm Audio\",\"Focusrite\",\"Vermona\",\"Focal\",\"Neumann\",\"Roland\",\"Thermionic Culture\",\"Arturia\",\"Zoom\",\"Presonus\",\"Adam\",\"ART\",\"Yamaha\",\n",
    "\"TASCAM\",\"Furman\",\"Antelope Audio\",\"Dangerous Music\",\"Pioneer\",\"Echo Fix\",\"Native Instruments\",\"Decksaver\",\"Eventide\",\"Allen & Heath\",\n",
    "\"Meris\",\"Sherman\",\"dbx\",\"BAE\",\"Maag Audio\",\"Empirical Labs\",\"Avantone Pro\",\"iConnectivity\",\"Mackie\",\"Audient\",\"beyerdynamic\",\"TK Audio\",\n",
    "\"IK Multimedia\",\"Black Lion Audio\",\"RME\",\"Keith McMillen\",\"Golden Age Project\",\"Audio-Technica\",\"Fredenstein\",\"A-Designs\",\"Rosson Audio\",\n",
    "\"Daking\",\"Looptrotter\",\"Rode\",\"Prism Sound\",\"Samson\",\"Cranborne Audio\",\"ESI Audiotechnik\",\"Elysia\",\"HEDD\",\"FMR Audio\",\"Heritage Audio\",\n",
    "\"Avedis Audio\",\"Sennheiser\",\"Lindell Audio\",\"Blue Microphones\",\"Apogee\",\"Recovery\",\"M-Audio\",\"Zeppelin Design Labs\",\"KRK\",\"AKG\",\n",
    "\"Cloud Microphones\",\"Steinberg\",\"Alesis\",\"Dynaudio\",\"Austrian Audio\",\"Auralex\",\"IsoAcoustics\",\"Aston Microphones\",\"Auratone\",\"sE Electronics\",\"SE Electronics\",\n",
    "\"Tech 21\",\"Lauten Audio\",\"Cascade Microphones\",\"Soundrise\",\"Pioneer\",\"Allen & Heath\",\"Pro-Ject\",\"PLAYdifferently\",\"U-Turn Audio\",\"Audio-Technica\",\n",
    "\"Thorens\",\"Audioengine\",\"Technics\",\"Rane\",\"AKG\",\"Music Hall\",\"Native Instruments\",\"Numark\",\"Sennheiser\",\"Jesse Dean Designs\",\"Ortofon\",\"Decksaver\",\n",
    "\"Rosson Audio\",\"MWM\",\"Gator\",\"IK Multimedia\",\"ART\",\"Yamaha\",\"Ultimate Support\",\"RME\",\"Roland\",\"KRK\",\"Austrian Audio\",\"Shure\",\"Odyssey\",\n",
    "\"Teenage Engineering\",\"Denon\",\"Record Props\",\"Presonus\",\"Hosa\",\"Hosa\",\"Mogami \",\"Roland \",\"Voodoo Lab \",\"CIOKS \",\"LMNTL \",\"Warm Audio \"\n",
    "\"Teenage Engineering \",\"myVolts \",\"Gator \",\"Truetone \",\"Strymon \",\"Eurodesk-Z\",\"Furman\",\"Elektron\",\"Tiptop Audio\",\"Retrokits\",\"4MS\",\"EBS\",\n",
    "\"Pomona Electronics\",\"Modbang\",\"Intellijel Designs\",\"Plankton Electronics\",\"Radial Engineering\",\"1010 Music\",\"Native Instruments\",\n",
    "\"Expert Sleepers\",\"Buchla\",\"iConnectivity\",\"Modbap Modular\",\"Boredbrain Music\",\"Make Noise\",\"Korg\",\"Moog \",\"Rode \",\"Shure \",\n",
    "\"LabLab Audio \",\"Zoom \",\"Doepfer \",\"Koma Elektronik \",\"ADDAC System \",\"Frap Tools \",\"Endorphin.es \",\"ART s\",\"Yamaha \",\"Walrus Audio\",\n",
    "\"ALM Busy Circuits \",\"Analogue Solutions \",\"Trogotronic \",\"Befaco \",\"Boss \",\"Soundmachines \",\"LZX Industries \",\"Cyclone Analogic \",\n",
    "\"M-Audio \",\"E-RM \",\"Pulp Logic \",\"Electro-Harmonix \",\"ESI Audiotechnik \",\"Eskatonic Modular \",\"Eventide \",\"Instruo \",\"Keith McMillen\",\n",
    "\"Malekko Heavy Industry \",\"Dunlop\"]"
   ]
  },
  {
   "cell_type": "code",
   "execution_count": 21,
   "id": "203f4150",
   "metadata": {},
   "outputs": [],
   "source": [
    "# removing whole names in list.\n",
    "\n",
    "lista_criba = []\n",
    "\n",
    "for marca in sintes:\n",
    "    marca = marca.lower()\n",
    "    if marca not in lista_criba:\n",
    "        lista_criba.append(marca)"
   ]
  },
  {
   "cell_type": "code",
   "execution_count": 22,
   "id": "99ae7396",
   "metadata": {},
   "outputs": [
    {
     "data": {
      "text/plain": [
       "['000', '4ms', 'a-v-p synth', 'acces', 'access', 'acidlab', 'akai', 'alembic']"
      ]
     },
     "execution_count": 22,
     "metadata": {},
     "output_type": "execute_result"
    }
   ],
   "source": [
    "lista_criba[2:10]"
   ]
  },
  {
   "cell_type": "markdown",
   "id": "d1b4422a",
   "metadata": {},
   "source": [
    "- Once I clean the list of possible repeated names, what I do next is that the names composed of two terms are a list of two elements."
   ]
  },
  {
   "cell_type": "code",
   "execution_count": 23,
   "id": "cddbef42",
   "metadata": {},
   "outputs": [],
   "source": [
    "# split double names in list\n",
    "\n",
    "lista_sintes= []\n",
    "\n",
    "for marca in lista_criba:\n",
    "    marca = marca.lower()\n",
    "    if marca not in lista_sintes:\n",
    "        marca=marca.split()\n",
    "        lista_sintes.append(marca)"
   ]
  },
  {
   "cell_type": "code",
   "execution_count": 24,
   "id": "92bdeb4e",
   "metadata": {},
   "outputs": [
    {
     "data": {
      "text/plain": [
       "[['000'],\n",
       " ['4ms'],\n",
       " ['a-v-p', 'synth'],\n",
       " ['acces'],\n",
       " ['access'],\n",
       " ['acidlab'],\n",
       " ['akai'],\n",
       " ['alembic']]"
      ]
     },
     "execution_count": 24,
     "metadata": {},
     "output_type": "execute_result"
    }
   ],
   "source": [
    "lista_sintes[2:10]"
   ]
  },
  {
   "cell_type": "markdown",
   "id": "125dbd04",
   "metadata": {},
   "source": [
    "## 3.6 How to identify manufacturer brands?.\n",
    "\n",
    "\n",
    "\n",
    "\n",
    "<br>\n",
    "\n",
    "There are many names with two or three terms and some of them are unique, but others have the first name in common.\n",
    "\n",
    "for example:\n",
    "\n",
    "<br>\n",
    "\n",
    "    ...analogue systems, analogue solutions...\n",
    "    \n",
    "<br>\n",
    "\n",
    "To solve this problem we have to do:\n",
    "\n",
    "\n",
    "- Building a manufacturers' dictionary.\n",
    "\n",
    "- Implement an algorithm that differentiates between multiple manufacturer brands\n",
    "\n",
    "\n",
    "As an example we will use this small dictionary as if it were our dictionary of synthesizer manufacturers:\n",
    "\n",
    "  - Manufacturers' dictionary:\n",
    "\n",
    "\n",
    "    sint3 = {\"analogue\":[\"solutions\",\"systems\"]} \n",
    "    \n",
    " \n",
    "\n",
    "The implementation of the algorithm will be based on detecting:\n",
    "\n",
    "- *single names*: `Roland`\n",
    "\n",
    "- *double and unique names*:  `Dave Smith`\n",
    "\n",
    "- *double names with a first name common to different manufacturers*: `Analogue Systems or Analogue Solutions`\n",
    "\n",
    "\n",
    "\n",
    "\n",
    "\n",
    "<br>\n",
    "\n",
    "The particularity of **this** example is that it allows us to see one of the most controversial cases when it comes to the extraction of a name. \n",
    "\n",
    "### example of algorithm implementation:\n",
    "\n",
    "With this example what is intended is just to detect the correct name in the variable of the description, ie:\n",
    "\n",
    "- `Analogue Systems`\n"
   ]
  },
  {
   "cell_type": "code",
   "execution_count": 25,
   "id": "e1c57491",
   "metadata": {},
   "outputs": [
    {
     "name": "stdout",
     "output_type": "stream",
     "text": [
      "['solutions', 'systems']\n",
      " analogue systems\n"
     ]
    }
   ],
   "source": [
    "# How to detect manufacturer brands with same name and different 'surname'\n",
    "\n",
    "\n",
    "texto_descript = ''\n",
    "\n",
    "# Our manufaturer brand in a dictionary!\n",
    "sint3 = {\"analogue\":[\"solutions\",\"systems\"]}  \n",
    "\n",
    "# Example description ad\n",
    "descrip = ['analogue', 'systems', 'woggeblug', '+', 'morphagene', '+', 'optomix'] \n",
    "\n",
    "texto_marca_compuesta =''\n",
    "kompare = ''\n",
    "\n",
    "list_temp = []\n",
    "list_brand = []                                     # steps\n",
    "\n",
    "for idx in descrip:                                 # 1. #7. \n",
    "    if idx in kompare:                              # 2. #8.\n",
    "                                                    \n",
    "        list_temp.append(idx)                            # 9. \n",
    "        for palabritas in list_temp:                 \n",
    "            texto_descript += ' '+ palabritas            # 10.\n",
    "\n",
    "        #list_brand.append(texto_descript)               # 11.\n",
    "        kompare = ''                                     # 12.\n",
    "        list_temp.clear()                                # 13.\n",
    "\n",
    "        \n",
    "\n",
    "    elif idx in sint3:                              # 3.\n",
    "        if len(sint3[idx]) > 1:                     # 4.\n",
    "            list_temp.append(idx)                   # 5.\n",
    "            print(sint3[idx])\n",
    "            kompare = sint3[idx]                    # 6.\n",
    "\n",
    "        \n",
    "print(texto_descript)"
   ]
  },
  {
   "cell_type": "markdown",
   "id": "21eb0e5c",
   "metadata": {},
   "source": [
    "- We have the correct name: `analogue systems` thru the dictionary where they share a \"name\"."
   ]
  },
  {
   "cell_type": "code",
   "execution_count": 26,
   "id": "d0b245de",
   "metadata": {},
   "outputs": [],
   "source": [
    "# 1. for starts                   # 7. the idx already has the second name of the synth.\n",
    "\n",
    "# 2. if idx coincides with the content of a kompare, else go to next elif.\n",
    "\n",
    "                                # 8. if comparing the idx with the variable that contains the match if true\n",
    "                                # 9. Saving the second match in the temporary list\n",
    "                                # 10. I convert the items in the list to a text string\n",
    "\n",
    "\n",
    "                                # 11  Assign the string into the brand list\n",
    "                                # 12. clean the value of the kompare variable and texto_marca_compuesta\n",
    "                                # 13. clean the contents of the temporary list\n",
    "\n",
    "        \n",
    "\n",
    "# 3. if the index is contained in the sint3 dictionary \n",
    "# 4. and the length of the dictionary key value is greater than 1 means we have at least two possible marks.\n",
    "# 5. I store this first match in a temporary list\n",
    "\n",
    "# 6. And save the list of possible matches in a variable, which was initially void with ''\n",
    "\n"
   ]
  },
  {
   "cell_type": "markdown",
   "id": "daba6816",
   "metadata": {},
   "source": [
    "in the previous example we made use of a small dictionary that we could make by hand, but we need to implement a dictionary with all manufacturers.\n",
    "\n",
    "\n",
    "## Building the manufacturer's dictionary"
   ]
  },
  {
   "cell_type": "code",
   "execution_count": 27,
   "id": "22abe3d1",
   "metadata": {},
   "outputs": [],
   "source": [
    "marcas_nombres = []\n",
    "\n",
    "\n",
    "def sint_word(sintex):\n",
    "    marcas_nombres.append(sintex)\n",
    "    return [marcas_nombres[-1]]\n",
    "\n",
    "def sint_more_word_rep(sintex):\n",
    "    # no es necesario que devueva una lista ya que dentro del diccionario ya la tengo!\n",
    "    marcas_nombres.append(sintex)\n",
    "    return marcas_nombres[-1]\n",
    "\n",
    "\n",
    "dict_funct = {\"sint_word\":sint_word,\n",
    "            \"sint_more_word_rep\":sint_more_word_rep\n",
    "}\n",
    "\n",
    "dict_marca = {}\n",
    "\n",
    "tag_mark = ''\n",
    "for marcas in lista_sintes:\n",
    "    if len(marcas) == 1:\n",
    "        if marcas[0] not in dict_marca:\n",
    "            tag_mark = 'sint_word'\n",
    "            brand = marcas[0]\n",
    "            ret = dict_funct[tag_mark](brand)\n",
    "            \n",
    "            dict_marca[brand] = ret\n",
    "            #print(\"x\")\n",
    "    elif len(marcas) > 1:                           # aqui la marca tiene este formato: ['0', 'coast']\n",
    "        if marcas[0] not in dict_marca:\n",
    "            tag_mark = 'sint_word'\n",
    "            #print(marcas[0])\n",
    "            #print(marcas[1])\n",
    "\n",
    "           \n",
    "            ret = dict_funct[tag_mark](marcas[1])\n",
    "            dict_marca[marcas[0]] = ret\n",
    "\n",
    "        elif marcas[0] in dict_marca:\n",
    "            tag_mark = 'sint_more_word_rep'\n",
    "            ret = dict_funct[tag_mark](marcas[1])\n",
    "            dict_marca[marcas[0]].append(ret)\n",
    "            #print(\"x\")"
   ]
  },
  {
   "cell_type": "code",
   "execution_count": 28,
   "id": "e256db68",
   "metadata": {},
   "outputs": [
    {
     "name": "stdout",
     "output_type": "stream",
     "text": [
      "{'0': ['coast'], '0-coast': ['0-coast'], '000': ['000'], '4ms': ['4ms'], 'a-v-p': ['synth'], 'acces': ['acces'], 'access': ['access'], 'acidlab': ['acidlab'], 'akai': ['akai'], 'alembic': ['alembic'], 'alesis': ['alesis'], 'allen': ['&'], 'allen&heath': ['allen&heath'], 'analogaudio1': ['analogaudio1'], 'analogue': ['solutions', 'systems', 'solutions'], 'arp': ['arp'], 'arturia': ['arturia'], 'asm': ['asm', '(ashun'], 'atomo': ['synth'], 'atomosynth': ['atomosynth'], 'audio': ['damage'], 'audiophile': ['circuits'], 'axoloty': ['axoloty'], 'balaguer': ['balaguer'], 'baloran': ['baloran'], 'bastl': ['instruments'], 'befaco': ['befaco'], 'behringer': ['behringer'], 'bheringer': ['bheringer'], 'bitbox': ['bitbox'], 'black': ['corporation', 'lion'], 'boss': ['boss'], 'bubblesound': ['instruments'], 'buchla': ['buchla'], 'bã¶hm': ['bã¶hm'], 'casio': ['casio'], 'charlie': ['lab'], 'charvel': ['charvel'], 'chronograf': ['chronograf'], 'circuit': ['abbey', 'happy'], 'clavia': ['clavia'], 'club': ['of'], 'coast': ['coast'], 'corsynth': ['corsynth'], 'cre8audio': ['cre8audio'], 'crumar': ['crumar'], 'custom': ['made'], 'cyclone': ['cyclone', 'analogic', 'analogic'], 'dave': ['jones', 'smith', 'smith'], 'deepmind': ['deepmind', '12', '6'], 'delptronics': ['delptronics'], 'delta': ['music'], 'denon': ['dj'], 'dexibell': ['dexibell'], 'digitack': ['digitack'], 'doepfer': ['doepfer'], 'dreadbox': ['dreadbox'], 'dubreq': ['dubreq'], 'dynacord': ['dynacord'], 'e': ['mu'], 'e-mu': ['e-mu'], 'e:m:c': ['e:m:c'], 'elby': ['designs'], 'electribe': ['electribe'], 'electronic': ['music'], 'electrovoice': ['electrovoice'], 'elektron': ['elektron'], 'elka': ['elka'], 'emc': ['emc'], 'emu': ['emu'], 'endorphin.es': ['endorphin.es'], 'endorphines': ['endorphines'], 'ensoniq': ['ensoniq'], 'eowave': ['eowave'], 'epiphone': ['epiphone'], 'erica': ['synth', 'synths'], 'ernie': ['ball'], 'esp': ['ltd'], 'eurorack': ['eurorack'], 'eventide': ['eventide'], 'evh': ['evh'], 'evolver': ['evolver'], 'exodus': ['digital'], 'farfisa': ['farfisa'], 'fender': ['fender'], 'fishman': ['fishman'], 'fodera': ['fodera'], 'formanta': ['formanta'], 'frap': ['tool', 'tools', 'tools'], 'frequency': ['central'], 'fretlight': ['fretlight'], 'friedman': ['friedman'], 'future': ['retro', 'sound'], 'futuresonus': ['futuresonus'], 'gator': ['gator'], 'gemini': ['gemini'], 'generalmusic': ['generalmusic'], 'gibson': ['gibson'], 'godin': ['godin'], 'gotharman': ['gotharman'], 'graph': ['tech'], 'gretsch': ['gretsch'], 'guild': ['guild'], 'hammond': ['hammond'], 'hartmann': ['hartmann'], 'hexinverter': ['hexinverter'], 'hinton': ['instruments'], 'hofner': ['hofner'], 'hypersynth': ['hypersynth'], 'hã¶fner': ['hã¶fner'], 'ibanez': ['ibanez'], 'ik': ['ik', 'multimedia'], 'instruo': ['instruo'], 'intellijel': ['intellijel', 'designs'], 'iomega': ['iomega'], 'isla': ['isla'], 'jackson': ['jackson'], 'jaspers': ['jaspers'], 'john': ['bowen'], 'jomox': ['jomox'], 'kawai': ['kawai'], 'kenton': ['kenton'], 'ketron': ['ketron'], 'kilpatrick': ['audio'], 'knobula': ['knobula'], 'koma': ['elektronik', 'elektronik'], 'komplete': ['komplete'], 'korg': ['korg'], 'kramer': ['kramer'], 'kurzweil': ['kurzweil'], 'lakland': ['lakland'], 'line': ['6'], 'linn': ['electronics'], 'livid': ['livid'], 'logan': ['electronics'], 'm-audio': ['m-audio'], 'macbeth': ['studio'], 'make': ['make', 'noise'], 'malekko': ['malekko', 'heavy', 'heavy'], 'manikin': ['electronic'], 'maschine': ['maschine'], 'mellotron': ['mellotron'], 'mfb': ['mfb'], 'micro': ['modular'], 'miditech': ['miditech'], 'modal': ['modal', 'electronics'], 'models': ['models'], 'modor': ['modor'], 'modular': ['modular'], 'modulus': ['modulus'], 'monome': ['monome'], 'moog': ['moog'], 'mpc': ['mpc'], 'mutable': ['instruments'], 'mutant': ['mutant'], 'native': ['instruments'], 'neutron': ['neutron'], 'noise': ['engineering'], 'nord': ['nord', 'electro', 'lead', 'lead', 'lead', 'micro', 'modular', 'rack', 'stage', 'wave'], 'novation': ['novation'], 'numark': ['numark'], 'oberheim': ['oberheim'], 'octatrack': ['octatrack'], 'orthogonal': ['devices'], 'paratek': ['paratek'], 'pearl': ['pearl'], 'peavey': ['peavey'], 'pioneer': ['dj'], 'pittsburgh': ['pittsburgh', 'modular'], 'polyend': ['polyend'], 'polygraf': ['polygraf'], 'ppg': ['(palm'], 'prs': ['prs'], 'qu': ['bit'], 'qu-bit': ['qu-bit', 'electronix'], 'quasimidi': ['quasimidi'], 'qubit': ['qubit'], 'quiklok': ['quiklok'], 'radikal': ['technologies'], 'rhodes': ['rhodes'], 'rickenbacker': ['rickenbacker'], 'roland': ['roland'], 'roli': ['roli'], 'sanson': ['sanson'], 'schecter': ['schecter'], 'sensel': ['sensel'], 'sequencial': ['sequencial'], 'sequential': ['sequential', 'circuits'], 'sequentix': ['sequentix'], 'shakmat': ['shakmat', 'modular'], 'simmons': ['simmons'], 'soma': ['soma', 'laboratory'], 'sonicware': ['sonicware'], 'special': ['waves'], 'spector': ['spector'], 'spectral': ['audio'], 'sputnik': ['sputnik'], 'squarp': ['instruments'], 'squier': ['squier'], 'ssff': ['ssff'], 'stanton': ['stanton'], 'steinberger': ['steinberger'], 'sterling': ['sterling'], 'strymon': ['strymon'], 'studio': ['electronics'], 'studiologic': ['studiologic', 'music'], 'synamodec': ['synamodec'], 'synthesis': ['technology'], 'synthrotek': ['synthrotek'], 'synthstrom': ['synthstrom'], 'synthtech': ['synthtech'], 'swissonic': ['swissonic'], 'tascam': ['tascam'], 'taylor': ['taylor'], 'technos': ['technos'], 'teenage': ['teenage', 'engineering'], 'tiptop': ['tiptop', 'audio'], 'traveler': ['guitar'], 'udo': ['audio'], 'uno': ['synth'], 'vermona': ['vermona'], 'virus': ['virus'], 'viscount': ['viscount'], 'volca': ['volca'], 'vox': ['vox'], 'waldorf': ['waldorf'], 'warwick': ['warwick'], 'washburn': ['washburn'], 'waves': ['grendel'], 'wersi': ['wersi', 'music'], 'winter': ['modular'], 'wmd': ['wmd', '/'], 'wurlitzer': ['wurlitzer'], 'yamaha': ['yamaha'], 'yocto': ['yocto'], 'zeppelin': ['design'], 'zoom': ['zoom'], '1010': ['music'], '2hp': ['2hp'], 'acid': ['rain'], 'acl': ['acl'], 'addac': ['system', 'system'], 'after': ['later'], 'aion': ['modular'], 'ajh': ['synth'], 'alm': ['busy', 'busy'], 'alright': ['devices'], 'blackhole': ['cases'], 'blue': ['lantern', 'microphones'], 'boredbrain': ['music'], 'cosmotronic': ['cosmotronic'], 'divkid': ['divkid'], 'dnipro': ['modular'], 'e-rm': ['e-rm'], 'electrosmith': ['electrosmith'], 'emblematic': ['systems'], 'empress': ['effects'], 'erogenous': ['tones'], 'eskatonic': ['modular', 'modular'], 'five12': ['five12'], 'gieskes': ['gieskes'], 'grayscale': ['grayscale'], 'industrial': ['music'], 'io': ['instruments'], 'joranalogue': ['joranalogue'], 'klavis': ['klavis'], 'l-1': ['l-1'], 'lmntl': ['lmntl'], 'low-gain': ['electronics'], 'lzx': ['industries', 'industries'], 'manhattan': ['analog'], 'meng': ['qi'], 'michigan': ['synth'], 'modbap': ['modular'], 'mordax': ['mordax'], 'mosaic': ['mosaic'], 'mrseri': ['mrseri'], 'nano': ['modules'], 'patching': ['panda'], 'percussa': ['percussa'], 'plankton': ['electronics'], 'poly': ['effects'], 'random': ['source'], 'ritual': ['electronics'], 'rossum': ['rossum'], 'schlappi': ['engineering'], 'soundforce': ['soundforce'], 'soundmachines': ['soundmachines'], 'steady': ['state'], 'supercritical': ['supercritical'], 'system': ['80'], 'tall': ['dog'], 'tasty': ['chips'], 'tenderfoot': ['electronics'], 'tesseract': ['modular'], 'trogotronic': ['trogotronic'], 'tubbutec': ['tubbutec'], 'u-he': ['u-he'], 'verbos': ['electronics'], 'voicas': ['voicas'], 'vpme.de': ['vpme.de'], 'worng': ['electronics'], 'xaoc': ['devices'], 'xor': ['electronics'], 'zlob': ['modular'], 'critter': ['&'], 'jmt': ['synth'], 'herbs': ['and'], 'grp': ['grp'], 'the': ['division'], 'norand': ['norand'], 'playtime': ['engineering'], \"fred's\": ['lab'], 'suzuki': ['suzuki'], 'nonlinear': ['labs'], 'dato': ['dato'], 'artiphon': ['artiphon'], 'kodamo': ['kodamo'], 'hikari': ['instruments'], 'second': ['sound'], 'roger': ['linn'], 'conductive': ['labs'], 'faderfox': ['faderfox'], 'keith': ['mcmillen'], 'expressive': ['e'], 'jouã©': ['jouã©'], 'genki': ['genki'], 'expert': ['sleepers'], 'motu': ['motu'], 'midi': ['solutions'], 'solid': ['state'], 'electro-harmonix': ['electro-harmonix'], 'knas': ['knas'], 'iconnectivity': ['iconnectivity'], 'eurodesk-z': ['eurodesk-z'], 'presonus': ['presonus'], 'torso': ['electronics'], 'esi': ['audiotechnik', 'audiotechnik'], 'instruments': ['of'], 'apogee': ['apogee'], 'snd': ['snd'], 'moffenzeef': ['moffenzeef'], 'cme': ['cme'], 'embodme': ['embodme'], 'tech': ['21'], 'snyderphonics': ['snyderphonics'], 'tricks': ['magic'], 'oto': ['machines'], 'chase': ['bliss'], 'gfi': ['gfi'], 'meris': ['meris'], 'echo': ['fix'], 'fairfield': ['circuitry'], 'universal': ['audio'], 'gamechanger': ['audio'], 'earthquaker': ['devices'], 'death': ['by'], 'sherman': ['sherman'], 'old': ['blood'], 'red': ['panda'], 'kemper': ['kemper'], 'digitech': ['digitech'], 'jam': ['pedals'], 'thermionic': ['culture'], 'decksaver': ['decksaver'], 'warm': ['audio', 'audio'], 'benidub': ['benidub'], 'bae': ['bae'], 'vongon': ['vongon'], 'art': ['art', 's'], 'hungry': ['robot'], 'walrus': ['audio'], 'enjoy': ['electronics'], 'cioks': ['cioks'], 'tk': ['audio'], 'source': ['audio'], 'api': ['api'], 'voodoo': ['lab', 'lab'], 'fmr': ['audio'], 'jhs': ['pedals'], 'mod': ['devices'], 'cooper': ['fx'], 'finegear': ['finegear'], 'ezhi': ['&'], 'truetone': ['truetone'], 'lastgasp': ['art'], 'origin': ['effects'], 'rainger': ['fx'], 'pedaltrain': ['pedaltrain'], 'dr.': ['scientist'], 'elta': ['music'], 'keeley': ['keeley'], 'recovery': ['recovery'], 'glou-glou': ['glou-glou'], 'retro': ['mechanical'], 'electro-faustus': ['electro-faustus'], 'animal': ['factory'], 'hologram': ['hologram'], 'caroline': ['guitar'], 'mxr': ['mxr'], 'xotic': ['xotic'], 'dunlop': ['dunlop'], 'adventure': ['audio'], 'isp': ['technologies'], 'industrialectric': ['industrialectric'], 'collision': ['devices'], 'orgeldream': ['orgeldream'], 'rupert': ['neve'], 'shure': ['shure'], 'focusrite': ['focusrite'], 'focal': ['focal'], 'neumann': ['neumann'], 'adam': ['adam'], 'furman': ['furman'], 'antelope': ['audio'], 'dangerous': ['music'], 'dbx': ['dbx'], 'maag': ['audio'], 'empirical': ['labs'], 'avantone': ['pro'], 'mackie': ['mackie'], 'audient': ['audient'], 'beyerdynamic': ['beyerdynamic'], 'rme': ['rme'], 'golden': ['age'], 'audio-technica': ['audio-technica'], 'fredenstein': ['fredenstein'], 'a-designs': ['a-designs'], 'rosson': ['audio'], 'daking': ['daking'], 'looptrotter': ['looptrotter'], 'rode': ['rode'], 'prism': ['sound'], 'samson': ['samson'], 'cranborne': ['audio'], 'elysia': ['elysia'], 'hedd': ['hedd'], 'heritage': ['audio'], 'avedis': ['audio'], 'sennheiser': ['sennheiser'], 'lindell': ['audio'], 'krk': ['krk'], 'akg': ['akg'], 'cloud': ['microphones'], 'steinberg': ['steinberg'], 'dynaudio': ['dynaudio'], 'austrian': ['audio'], 'auralex': ['auralex'], 'isoacoustics': ['isoacoustics'], 'aston': ['microphones'], 'auratone': ['auratone'], 'se': ['electronics'], 'lauten': ['audio'], 'cascade': ['microphones'], 'soundrise': ['soundrise'], 'pro-ject': ['pro-ject'], 'playdifferently': ['playdifferently'], 'u-turn': ['audio'], 'thorens': ['thorens'], 'audioengine': ['audioengine'], 'technics': ['technics'], 'rane': ['rane'], 'music': ['hall'], 'jesse': ['dean'], 'ortofon': ['ortofon'], 'mwm': ['mwm'], 'ultimate': ['support'], 'odyssey': ['odyssey'], 'record': ['props'], 'hosa': ['hosa'], 'mogami': ['mogami'], 'myvolts': ['myvolts'], 'retrokits': ['retrokits'], 'ebs': ['ebs'], 'pomona': ['electronics'], 'modbang': ['modbang'], 'radial': ['engineering'], 'lablab': ['audio'], 'pulp': ['logic']}\n"
     ]
    }
   ],
   "source": [
    "print(dict_marca)"
   ]
  },
  {
   "cell_type": "markdown",
   "id": "45ca6b6e",
   "metadata": {},
   "source": [
    "It will give us:\n",
    "\n",
    "<br>\n",
    "\n",
    "- What was inside of `sint3[idx]` ['solutions', 'systems'] thanks to a print.\n",
    "\n",
    "\n",
    "- Finally we have the we have the right name of the description, as we expected.\n",
    "\n",
    "<br>\n",
    "\n",
    "Once we understand the operation we are going to implement the necessary code.\n",
    "\n",
    "\n",
    "## 3.7 Detecting manufacturer brands.\n",
    "\n"
   ]
  },
  {
   "cell_type": "code",
   "execution_count": 29,
   "id": "b38bd4c2",
   "metadata": {
    "scrolled": true,
    "tags": []
   },
   "outputs": [
    {
     "name": "stderr",
     "output_type": "stream",
     "text": [
      "/home/ion/anaconda3/envs/hisp2/lib/python3.8/site-packages/bs4/__init__.py:435: MarkupResemblesLocatorWarning: The input looks more like a filename than markup. You may want to open this file and pass the filehandle into Beautiful Soup.\n",
      "  warnings.warn(\n"
     ]
    }
   ],
   "source": [
    "compare = ''                    #variable where the middle name is saved\n",
    "marca_del_sinte = ''            # empty variable for store synth brand \n",
    "texto_descriptivo = ''          #ad descriptive text\n",
    "list_temp = []                  #temporary list to detect the middle name \n",
    "\n",
    "                                # buy, sell, change... lists.\n",
    "list_compro = []\n",
    "list_cambio = []\n",
    "list_vendo = []\n",
    "list_regalo = []\n",
    "list_busco = []\n",
    "list_rebaja = []\n",
    "list_reparar = []\n",
    "list_piezas = []\n",
    "list_urgente = []\n",
    "list_oferta = []\n",
    "\n",
    "list_brand = []                 # manufacturers synth brand\n",
    "list_descripcion = []           # final ad description on dataframe output \n",
    "texto_descriptivo_salida = []   # esto es lo que se vera como contenido del anuncio\n",
    "\n",
    "list_price = []                 # price\n",
    "list_user = []                  # user\n",
    "list_city = []                  # city\n",
    "list_published = []             # date published\n",
    "list_expire = []                # data expire ad\n",
    "list_times_seen= []             # times seen ad\n",
    "\n",
    "lista_palabras_para_eliminar = [] # remove words from description list\n",
    "\n",
    "def func_compro(clave_func_dict): \n",
    "\n",
    "    if list_compro[-1] == \"0\":\n",
    "        list_vendo.pop(-1)\n",
    "        list_vendo.append(\"0\")\n",
    "        list_compro.pop(-1)\n",
    "        list_compro.append(\"1\")\n",
    "    else:\n",
    "        pass\n",
    "\n",
    "\n",
    "def func_cambio(clave_func_dict):\n",
    "    if list_cambio[-1] == \"0\":\n",
    "        list_vendo.pop(-1)\n",
    "        list_vendo.append(\"0\")\n",
    "        list_cambio.pop(-1)\n",
    "        list_cambio.append(\"1\")\n",
    "\n",
    "    else:\n",
    "        pass\n",
    "\n",
    "def func_vendo(clave_func_dict):\n",
    "    if list_vendo[-1] == \"0\":\n",
    "        list_vendo.pop(-1)\n",
    "        list_vendo.append(\"1\")\n",
    "    else:\n",
    "        pass\n",
    "\n",
    "def func_regalo(clave_func_dict): \n",
    "    if list_regalo[-1] == \"0\":\n",
    "        list_vendo.pop(-1)\n",
    "        list_vendo.append(\"0\")\n",
    "        list_regalo.pop(-1)\n",
    "        list_regalo.append(\"1\")\n",
    "    else:\n",
    "        pass\n",
    "\n",
    "def func_busco(clave_func_dict):  # if looking for, then is not a sell...\n",
    "    if list_busco[-1] == \"0\":\n",
    "        list_vendo.pop(-1)\n",
    "        list_vendo.append(\"0\")\n",
    "        list_busco.pop(-1)\n",
    "        list_busco.append(\"1\")\n",
    "    else:\n",
    "        pass\n",
    "\n",
    "def func_reparar(clave_func_dict):\n",
    "    if list_busco[-1] == \"0\":\n",
    "        list_reparar.pop(-1)\n",
    "        list_reparar.append(\"1\")\n",
    "    else:\n",
    "        pass\n",
    "\n",
    "def func_piezas(clave_func_dict):\n",
    "    if list_busco[-1] == \"0\":\n",
    "        list_piezas.pop(-1)\n",
    "        list_piezas.append(\"1\")\n",
    "    else:\n",
    "        pass\n",
    "\n",
    "def func_rebaja(clave_func_dict):\n",
    "    if list_rebaja[-1] == \"0\":\n",
    "        list_vendo.pop(-1)\n",
    "        list_vendo.append(\"0\")\n",
    "        list_rebaja.pop(-1)\n",
    "        list_rebaja.append(\"1\")\n",
    "    else:\n",
    "        pass\n",
    "\n",
    "def func_oferta(clave_func_dict):\n",
    "    if list_oferta[-1] == \"0\":\n",
    "        list_oferta.pop(-1)\n",
    "        list_oferta.append(\"1\")\n",
    "    else:\n",
    "        pass\n",
    "\n",
    "\n",
    "\n",
    "func_dict = {                     # function dictionary\n",
    "    \"compro\":func_compro,\n",
    "    \"cambio\":func_cambio,\n",
    "    \"vendo\":func_vendo,\n",
    "    \"vende\":func_vendo,\n",
    "    \"regalo\":func_regalo,\n",
    "    \"busco\":func_busco,\n",
    "    \"busca\":func_busco,\n",
    "    \"reparar\":func_reparar,\n",
    "    \"piezas\":func_piezas,\n",
    "    \"rebajado\":func_rebaja,\n",
    "    \"rebaja\":func_rebaja,\n",
    "    \"oferta\":func_oferta\n",
    "    \n",
    "}\n",
    "\n",
    "def remove_compro(clave_func_dict):\n",
    "    #list_compro.append(clave_func_dict\n",
    "    list_compro.remove(clave_func_dict)\n",
    "\n",
    "\n",
    "#rmv_func = {\"compro\":remove_compro}\n",
    "\n",
    "\n",
    "def urgente():                     # if some \"accion\" word is repeated on description, means urgency\n",
    "    list_urgente.remove('0')\n",
    "    list_urgente.append(\"1\")\n",
    "\n",
    "\n",
    "def eliminar_signos(txt):          # cleaning text\n",
    "    description = txt.replace(\":\",\" \")\n",
    "    descripcion = description.replace(\";\",\" \")\n",
    "    descripcion_1 = descripcion.replace(\"(\",\" \")\n",
    "    descripcion_2 = descripcion_1.replace(\")\",\" \")\n",
    "    descripcion_3 = descripcion_2.replace(\"/\",\" \")\n",
    "    descripcion_4 = descripcion_3.replace(\".\",\" \").lower()\n",
    "    descripcion_5 = descripcion_4.split()\n",
    "    return descripcion_5\n",
    "\n",
    "\n",
    "def default_atributes():         # default actions, means all is selling, if not then function will be called.\n",
    "    list_cambio.append(\"0\")\n",
    "    list_compro.append(\"0\")\n",
    "    list_urgente.append(\"0\")\n",
    "    list_vendo.append(\"1\")\n",
    "    list_regalo.append(\"0\")\n",
    "    list_reparar.append(\"0\")\n",
    "    list_piezas.append(\"0\")\n",
    "    list_busco.append(\"0\")\n",
    "    list_brand.append(\"-\")\n",
    "\n",
    "\n",
    "\n",
    "### Inicio\n",
    "\n",
    "\n",
    "for pagina_anuncio in os.listdir('.'):       # '.' current folder\n",
    "    #if \"kurzweil\" in pagina_anuncio:                               #compro-cambio\n",
    "    with open(pagina_anuncio, 'r') as pagina_bruto:\n",
    "\n",
    "        pagina_analizar = pagina_bruto.read()\n",
    "        soup = BeautifulSoup(pagina_analizar, 'html.parser')\n",
    "\n",
    "\n",
    "        node = soup.find('h1') \n",
    "\n",
    "    if  node is not None:                       # avoiding skipping an error related to None\n",
    "        descripcion = node.text \n",
    "        descripcion = eliminar_signos(descripcion)\n",
    "        #print(descripcion)\n",
    "\n",
    "        default_atributes()\n",
    "\n",
    "\n",
    "        for word_1 in descripcion:\n",
    "            if word_1 in accion:\n",
    "                func_dict[word_1](word_1)\n",
    "                lista_palabras_para_eliminar.append(word_1)\n",
    "\n",
    "            elif word_1 in compare:\n",
    "                list_temp.append(word_1)\n",
    "\n",
    "                for marca_sinte in list_temp:\n",
    "                    marca_del_sinte += marca_sinte + ' '\n",
    "                    lista_palabras_para_eliminar.append(marca_sinte) # delete the compound name of the sinte in the description.\n",
    "\n",
    "                #marca_del_sinte = ''\n",
    "                list_brand.pop(-1)\n",
    "                list_brand.append(marca_del_sinte)\n",
    "\n",
    "                compare = '' # variable with the second part of the name, so I clean it here.\n",
    "\n",
    "            elif word_1 in dict_marca:\n",
    "                size_brand = len(dict_marca[word_1])\n",
    "\n",
    "                if ((size_brand == 1) and (list_brand != \"-\")) :\n",
    "                    list_brand.pop(-1)\n",
    "                    list_brand.append(word_1)\n",
    "\n",
    "\n",
    "                elif ((size_brand == 1) and (list_brand == \"-\")) :\n",
    "                    list_descripcion.append(word_1)\n",
    "\n",
    "                elif size_brand > 1:\n",
    "                    compare = dict_marca[word_1]\n",
    "                    list_temp.append(word_1)\n",
    "\n",
    "                elif list_brand != \"-\":\n",
    "                    list_descripcion.append(word_1)\n",
    "\n",
    "            marca_del_sinte = ''\n",
    "\n",
    "        list_temp.clear()\n",
    "\n",
    "        duplicates = [element for element in lista_palabras_para_eliminar if lista_palabras_para_eliminar.count(element) > 1]\n",
    "        unique_duplicates = list(set(duplicates))\n",
    "\n",
    "        size_unique_duplicates = len(duplicates)\n",
    "\n",
    "        if size_unique_duplicates > 1:\n",
    "            urgente()\n",
    "\n",
    "\n",
    "        for eliminar in lista_palabras_para_eliminar:\n",
    "            try:\n",
    "                descripcion.remove(eliminar)\n",
    "            except:\n",
    "                pass\n",
    "\n",
    "        for palabras in descripcion:\n",
    "            texto_descriptivo += palabras + ' '\n",
    "\n",
    "\n",
    "        texto_descriptivo_salida.append(texto_descriptivo)\n",
    "\n",
    "        texto_descriptivo =''\n",
    "\n",
    "\n",
    "        # --- price\n",
    "\n",
    "        try:\n",
    "            price = soup.find('div',class_='ad-price').text\n",
    "            price = int(price.split()[0])\n",
    "            list_price.append(price)\n",
    "        except:\n",
    "            price = 0\n",
    "            list_price.append(price)\n",
    "            \n",
    "\n",
    "        # --- user name\n",
    "\n",
    "        user = soup.find('div',class_='col-lg-7').a.text\n",
    "        list_user.append(user)\n",
    "        \n",
    "\n",
    "        # --- city\n",
    "\n",
    "        city = soup.find('div',class_='col-lg-7').div.strong.text\n",
    "        list_city.append(city)\n",
    "\n",
    "        # --- published\n",
    "        \n",
    "        publish= ' '\n",
    "\n",
    "        published = soup.find('div',class_='col-lg-7').div.text.split()[-5:-2]\n",
    "        \n",
    "        for indx in published:\n",
    "            if '/' in indx:\n",
    "                #print(indx)\n",
    "                publish = indx\n",
    "            elif 'hace' in indx:\n",
    "                a = published.index(indx)\n",
    "                #print(published[a+1] + ' ' + published[a+2])\n",
    "                publish = published[a+1] + ' ' + published[a+2]\n",
    "\n",
    "            \n",
    "        list_published.append(publish)\n",
    "\n",
    "        # --- expire \n",
    "\n",
    "        expire = soup.find('div',class_=\"expira\").text.split()[1]\n",
    "        list_expire.append(expire)\n",
    "\n",
    "        # --- times seen\n",
    "        \n",
    "        seen = soup.find('div',class_=\"expira\").text.split()[4]\n",
    "        list_times_seen.append(seen)\n",
    "\n",
    "        lista_palabras_para_eliminar.clear()\n",
    "        #print(pagina_anuncio)"
   ]
  },
  {
   "cell_type": "code",
   "execution_count": 30,
   "id": "502960fe",
   "metadata": {},
   "outputs": [
    {
     "name": "stdout",
     "output_type": "stream",
     "text": [
      "/home/ion/Documentos/albertjimrod/personal_proj_hispasonic/htmls\n"
     ]
    }
   ],
   "source": [
    "! pwd"
   ]
  },
  {
   "cell_type": "markdown",
   "id": "c41c71c6",
   "metadata": {},
   "source": [
    "## 3.8 Date extraction\n",
    "\n",
    "The next step is to know what is the extraction date. This is an important fact since because it will serve as a reference to know how long means 3 days, 1 week, 5 hours since the records were made."
   ]
  },
  {
   "cell_type": "code",
   "execution_count": 31,
   "id": "a9310eb0",
   "metadata": {},
   "outputs": [
    {
     "data": {
      "text/plain": [
       "'4/6/2023'"
      ]
     },
     "execution_count": 31,
     "metadata": {},
     "output_type": "execute_result"
    }
   ],
   "source": [
    "hoy = dt.datetime.now()\n",
    "year=str(hoy.year)\n",
    "\n",
    "month=str(hoy.month)\n",
    "day=str(hoy.day)\n",
    "\n",
    "date_scrapped = day + '/' + month + '/' + year\n",
    "\n",
    "# ex: date_scrapped = '26' + '/' + '08' + '/' + '2022' \n",
    "\n",
    "date_scrapped"
   ]
  },
  {
   "cell_type": "markdown",
   "id": "a35460d7",
   "metadata": {},
   "source": [
    "- Dataframe created in `df` variable."
   ]
  },
  {
   "cell_type": "code",
   "execution_count": 32,
   "id": "cf12bc24",
   "metadata": {
    "scrolled": true
   },
   "outputs": [],
   "source": [
    "df = pd.DataFrame({'urgent':list_urgente,\n",
    "                   'buy':list_compro,\n",
    "                   'change':list_cambio,\n",
    "                   'sell':list_vendo,\n",
    "                   'price':list_price,\n",
    "                   'gift':list_regalo,\n",
    "                   'search':list_busco,\n",
    "                   'repair':list_reparar,\n",
    "                   'parts':list_piezas,\n",
    "                   'synt_brand':list_brand,\n",
    "                   'description':texto_descriptivo_salida,\n",
    "                   'user':list_user,\n",
    "                   'city':list_city,\n",
    "                   'published':list_published,\n",
    "                   'expire':list_expire,\n",
    "                   'date_scrapped':date_scrapped,\n",
    "                   'seen':list_times_seen\n",
    "                  },index = list(range(1,len(texto_descriptivo_salida)+1)))"
   ]
  },
  {
   "cell_type": "markdown",
   "id": "30b4cd01",
   "metadata": {},
   "source": [
    "## 3.9 Clean the column of the publication dates.\n",
    "\n",
    "\n",
    "As we can see sometimes the format is correct and sometimes indicates moments related to the date we are on. so it has to be corrected.\n",
    "\n",
    "The solution is to create a function that reads that format and converts it to the correct date and format.\n",
    "\n",
    "\n",
    "For this we have to implement all the cases that can be given."
   ]
  },
  {
   "cell_type": "code",
   "execution_count": 33,
   "id": "8b629d3d",
   "metadata": {},
   "outputs": [],
   "source": [
    "semanas = ['1 semana', '2 semanas', '3 semanas', '4 semanas']\n",
    "dias = ['1 día', '2 días', '3 días', '4 días', '5 días', '6 días', '7 días']\n",
    "horas = ['1 hora','2 horas', '3 horas', '4 horas', '5 horas', '6 horas',\n",
    "        '7 horas','8 horas', '9 horas', '10 horas', '11 horas', '12 horas',\n",
    "        '13 horas', '14 horas','15 horas', '16 horas', '17 horas', '18 horas',\n",
    "        '19 horas', '20 horas', '21 horas', '22 horas','23 horas', '24 horas']"
   ]
  },
  {
   "cell_type": "code",
   "execution_count": 34,
   "id": "ad2198c2",
   "metadata": {},
   "outputs": [],
   "source": [
    "minutes=[]\n",
    "for mint in range(1,61):\n",
    "    if mint < 2:\n",
    "        texto = str(mint) + ' minuto'\n",
    "        minutes.append(texto)\n",
    "    else:\n",
    "        texto = str(mint) + ' minutos'\n",
    "        minutes.append(texto)"
   ]
  },
  {
   "cell_type": "markdown",
   "id": "f1226207",
   "metadata": {},
   "source": [
    "- `nice_format` is the function that is responsible for identifying the time intervals that the web gives us and making a time conversion."
   ]
  },
  {
   "cell_type": "code",
   "execution_count": 35,
   "id": "d673457a",
   "metadata": {},
   "outputs": [],
   "source": [
    "def nice_format(parameter):\n",
    "\n",
    "    days_inweek = 7\n",
    "\n",
    "    hoy = dt.datetime.now()\n",
    "    year=str(hoy.year)\n",
    "\n",
    "    month=str(hoy.month)\n",
    "    day=str(hoy.day)\n",
    "\n",
    "    date_scrapped = day + '/' + month + '/' + year\n",
    "    \n",
    "    current_datetime = dt.datetime.strptime(date_scrapped,\"%d/%m/%Y\") \n",
    "    \n",
    "    \n",
    "    if parameter in semanas:\n",
    "        \n",
    "        num_semana = parameter.split()\n",
    "        num_semana = int(num_semana[0])\n",
    "        cambio_semana = semanas[num_semana-1]\n",
    "        \n",
    "        dias_semana = (num_semana * days_inweek)\n",
    "        \n",
    "        fecha_real_semana = current_datetime - dt.timedelta(dias_semana)\n",
    "        \n",
    "        fecha_real_semana = fecha_real_semana.strftime(\"%d/%m/%Y\")\n",
    "                \n",
    "        df['published'] = df['published'].replace( to_replace = cambio_semana, value = fecha_real_semana) #+ ' semana'\n",
    "        \n",
    "        \n",
    "    elif parameter in dias:\n",
    "        num_dia = parameter.split()\n",
    "        num_dias = int(num_dia[0])\n",
    "        cambio_dia = dias[num_dias-1]\n",
    "\n",
    "        fecha_real_dia = current_datetime - dt.timedelta(num_dias)\n",
    "        fecha_real_dia = fecha_real_dia.strftime(\"%d/%m/%Y\")\n",
    "        \n",
    "        df['published'] = df['published'].replace( to_replace = cambio_dia, value = fecha_real_dia) #+ ' semana'\n",
    "        \n",
    "        \n",
    "    elif parameter in horas:\n",
    "        num_hora = parameter.split()\n",
    "        num_hora = int(num_hora[0])\n",
    "        \n",
    "        if (parameter != '24 horas'):\n",
    "            hora_real = current_datetime\n",
    "            hora_real = hora_real.strftime(\"%d/%m/%Y\")\n",
    "            \n",
    "            df['published'] = df['published'].replace(to_replace = parameter,\n",
    "                                              value = hora_real)\n",
    "        \n",
    "        elif parameter == '24 horas':\n",
    "            horas_24 = 1\n",
    "            hora_real = current_datetime - dt.timedelta(horas_24)\n",
    "            hora_real = hora_real.strftime(\"%d/%m/%Y\")\n",
    "            \n",
    "            df['published'] = df['published'].replace( to_replace = parameter,value = hora_real ) #+ ' semana'\n",
    "    \n",
    "    \n",
    "    elif parameter in minutes:\n",
    "        horas_24 = 1\n",
    "        hora_real = current_datetime - dt.timedelta(horas_24)\n",
    "        hora_real = hora_real.strftime(\"%d/%m/%Y\")\n",
    "            \n",
    "        df['published'] = df['published'].replace( to_replace = parameter,value = hora_real ) #+ ' semana'"
   ]
  },
  {
   "cell_type": "code",
   "execution_count": 36,
   "id": "c3d09841",
   "metadata": {
    "scrolled": true,
    "tags": []
   },
   "outputs": [
    {
     "name": "stdout",
     "output_type": "stream",
     "text": [
      "\n"
     ]
    }
   ],
   "source": [
    "df['published'].apply(nice_format)\n",
    "print('')"
   ]
  },
  {
   "cell_type": "markdown",
   "id": "560de244",
   "metadata": {},
   "source": [
    "### 4. Anonimizing user names\n",
    "\n",
    "Although users in the forum use aliases, the most sensible thing is to create a function that anonymizes the name of the users"
   ]
  },
  {
   "cell_type": "code",
   "execution_count": 37,
   "id": "fa77e55a",
   "metadata": {},
   "outputs": [],
   "source": [
    "def anonimizer(value):\n",
    "    variable = 0\n",
    "    for letras in value:\n",
    "        variable += int(ord(letras))\n",
    "    return variable"
   ]
  },
  {
   "cell_type": "code",
   "execution_count": 38,
   "id": "695ac128",
   "metadata": {},
   "outputs": [
    {
     "name": "stdout",
     "output_type": "stream",
     "text": [
      "\n"
     ]
    }
   ],
   "source": [
    "df['anon_user'] = df['user'].apply(anonimizer)\n",
    "print('')"
   ]
  },
  {
   "cell_type": "code",
   "execution_count": 39,
   "id": "b1b02158",
   "metadata": {
    "scrolled": true,
    "tags": []
   },
   "outputs": [
    {
     "name": "stdout",
     "output_type": "stream",
     "text": [
      "\n"
     ]
    }
   ],
   "source": [
    "df.drop(\"anon_user\",axis ='columns')\n",
    "print('')"
   ]
  },
  {
   "cell_type": "markdown",
   "id": "cd121700",
   "metadata": {},
   "source": [
    "### Last step\n",
    "\n",
    "We already have all the data inside the dataframe now the only thing left to do is to save the content in a csv file"
   ]
  },
  {
   "cell_type": "code",
   "execution_count": 40,
   "id": "f01a8ee2",
   "metadata": {},
   "outputs": [],
   "source": [
    "df.to_csv('df_hispa_4_06_2023.csv', index = True)"
   ]
  }
 ],
 "metadata": {
  "kernelspec": {
   "display_name": "Python 3 (ipykernel)",
   "language": "python",
   "name": "python3"
  },
  "language_info": {
   "codemirror_mode": {
    "name": "ipython",
    "version": 3
   },
   "file_extension": ".py",
   "mimetype": "text/x-python",
   "name": "python",
   "nbconvert_exporter": "python",
   "pygments_lexer": "ipython3",
   "version": "3.8.13"
  },
  "vscode": {
   "interpreter": {
    "hash": "1b08ca7490639a610c09048f473d1b1514aaa85648d7e388c5f947d92672b22b"
   }
  }
 },
 "nbformat": 4,
 "nbformat_minor": 5
}
