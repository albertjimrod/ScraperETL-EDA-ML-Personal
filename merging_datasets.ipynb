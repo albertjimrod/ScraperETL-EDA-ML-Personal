{
 "cells": [
  {
   "cell_type": "code",
   "execution_count": 1,
   "metadata": {},
   "outputs": [],
   "source": [
    "import pandas as pd"
   ]
  },
  {
   "cell_type": "code",
   "execution_count": 2,
   "metadata": {},
   "outputs": [],
   "source": [
    "dataset_1 = pd.read_csv(\"htmls/df_hispa_1092022.csv\")\n",
    "dataset_2 = pd.read_csv(\"htmls/df_hispa_1_10_2022.csv\")\n",
    "dataset_3 = pd.read_csv(\"htmls/df_hispa_1_11_2022.csv\")"
   ]
  },
  {
   "cell_type": "code",
   "execution_count": 3,
   "metadata": {},
   "outputs": [],
   "source": [
    "dataset_1_2 = pd.concat([dataset_1, dataset_2],axis=0, ignore_index = True)"
   ]
  },
  {
   "cell_type": "code",
   "execution_count": 4,
   "metadata": {},
   "outputs": [],
   "source": [
    "dataset_123 = pd.concat([dataset_1_2, dataset_3], ignore_index = True)"
   ]
  },
  {
   "cell_type": "code",
   "execution_count": 5,
   "metadata": {},
   "outputs": [
    {
     "name": "stdout",
     "output_type": "stream",
     "text": [
      "<class 'pandas.core.frame.DataFrame'>\n",
      "RangeIndex: 2426 entries, 0 to 2425\n",
      "Data columns (total 19 columns):\n",
      " #   Column         Non-Null Count  Dtype \n",
      "---  ------         --------------  ----- \n",
      " 0   Unnamed: 0     2426 non-null   int64 \n",
      " 1   urgent         2426 non-null   int64 \n",
      " 2   buy            2426 non-null   int64 \n",
      " 3   change         2426 non-null   int64 \n",
      " 4   sell           2426 non-null   int64 \n",
      " 5   price          2426 non-null   int64 \n",
      " 6   gift           2426 non-null   int64 \n",
      " 7   search         2426 non-null   int64 \n",
      " 8   repair         2426 non-null   int64 \n",
      " 9   parts          2426 non-null   int64 \n",
      " 10  synt_brand     2426 non-null   object\n",
      " 11  description    2425 non-null   object\n",
      " 12  city           2426 non-null   object\n",
      " 13  published      2426 non-null   object\n",
      " 14  expire         2426 non-null   object\n",
      " 15  date_scrapped  2426 non-null   object\n",
      " 16  seen           2426 non-null   int64 \n",
      " 17  anon_user      2426 non-null   int64 \n",
      " 18  user           1621 non-null   object\n",
      "dtypes: int64(12), object(7)\n",
      "memory usage: 360.2+ KB\n"
     ]
    }
   ],
   "source": [
    "dataset_123.info()"
   ]
  },
  {
   "cell_type": "code",
   "execution_count": 6,
   "metadata": {},
   "outputs": [],
   "source": [
    "dataset_123.drop(dataset_123.columns[18:],axis=1,inplace=True)"
   ]
  },
  {
   "cell_type": "code",
   "execution_count": 7,
   "metadata": {},
   "outputs": [
    {
     "name": "stdout",
     "output_type": "stream",
     "text": [
      "<class 'pandas.core.frame.DataFrame'>\n",
      "RangeIndex: 2426 entries, 0 to 2425\n",
      "Data columns (total 18 columns):\n",
      " #   Column         Non-Null Count  Dtype \n",
      "---  ------         --------------  ----- \n",
      " 0   Unnamed: 0     2426 non-null   int64 \n",
      " 1   urgent         2426 non-null   int64 \n",
      " 2   buy            2426 non-null   int64 \n",
      " 3   change         2426 non-null   int64 \n",
      " 4   sell           2426 non-null   int64 \n",
      " 5   price          2426 non-null   int64 \n",
      " 6   gift           2426 non-null   int64 \n",
      " 7   search         2426 non-null   int64 \n",
      " 8   repair         2426 non-null   int64 \n",
      " 9   parts          2426 non-null   int64 \n",
      " 10  synt_brand     2426 non-null   object\n",
      " 11  description    2425 non-null   object\n",
      " 12  city           2426 non-null   object\n",
      " 13  published      2426 non-null   object\n",
      " 14  expire         2426 non-null   object\n",
      " 15  date_scrapped  2426 non-null   object\n",
      " 16  seen           2426 non-null   int64 \n",
      " 17  anon_user      2426 non-null   int64 \n",
      "dtypes: int64(12), object(6)\n",
      "memory usage: 341.3+ KB\n"
     ]
    }
   ],
   "source": [
    "dataset_123.info()"
   ]
  },
  {
   "cell_type": "code",
   "execution_count": 8,
   "metadata": {},
   "outputs": [
    {
     "data": {
      "text/plain": [
       "-                      364\n",
       "roland                 275\n",
       "yamaha                 212\n",
       "korg                   186\n",
       "eurorack                93\n",
       "                      ... \n",
       "expert                   1\n",
       "polyend                  1\n",
       "atomo                    1\n",
       "synth                    1\n",
       "intellijel designs       1\n",
       "Name: synt_brand, Length: 169, dtype: int64"
      ]
     },
     "execution_count": 8,
     "metadata": {},
     "output_type": "execute_result"
    }
   ],
   "source": [
    "dataset_123['synt_brand'].value_counts(ascending=False)"
   ]
  }
 ],
 "metadata": {
  "kernelspec": {
   "display_name": "Python 3 (ipykernel)",
   "language": "python",
   "name": "python3"
  },
  "language_info": {
   "codemirror_mode": {
    "name": "ipython",
    "version": 3
   },
   "file_extension": ".py",
   "mimetype": "text/x-python",
   "name": "python",
   "nbconvert_exporter": "python",
   "pygments_lexer": "ipython3",
   "version": "3.8.13"
  }
 },
 "nbformat": 4,
 "nbformat_minor": 4
}
