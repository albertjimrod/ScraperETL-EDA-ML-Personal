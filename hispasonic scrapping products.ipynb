{
 "cells": [
  {
   "cell_type": "markdown",
   "metadata": {},
   "source": [
    "# Hispasonic\n",
    "\n",
    "\n",
    "<br>\n",
    "\n",
    "A website about musical instruments, recording stuff, and everything related to the world of music. In this place there is also a second-hand market where users sell their musical instruments.\n",
    "\n",
    "This first part of the project focuses on obtaining relevant ad information, the category I have focused on has been the one that refers to electronic musical instruments.\n",
    "\n",
    "<br>\n",
    "\n",
    "Before start obtaining information, the first thing we must know is to understand how the announcement page is organized.\n",
    "\n",
    "***\n",
    "\n",
    "- *Image of one of the pages of hispasonic*\n",
    "\n",
    "\n",
    "![hispa_1e.png](hispa_1e.png)\n",
    "\n",
    "<br>\n",
    "\n",
    "<br>\n",
    "\n",
    "We can see several important things:\n",
    "\n",
    "- Selected category is on \"teclados y sintetizadores\".\n",
    "\n",
    "- Know the number of pages that we are going to analyze to get **all the ads**.\n",
    "\n",
    "\n",
    "\n",
    "## Function library loading"
   ]
  },
  {
   "cell_type": "code",
   "execution_count": 1,
   "metadata": {},
   "outputs": [],
   "source": [
    "import requests               # Is an elegant and simple HTTP library for Python\n",
    "from bs4 import BeautifulSoup # library for pulling data out of HTML and XML files\n",
    "import re                     # regular expressions operations\n",
    "import pandas as pd           # A fast, powerful, flexible and easy to use open source data analysis tool\n",
    "import os                     # A versatile way to use operating system-dependent functionality.\n",
    "import datetime as dt         # module for manipulating dates and times.\n",
    "import time\n",
    "\n",
    "pd.set_option(\"display.max_rows\", None)"
   ]
  },
  {
   "cell_type": "markdown",
   "metadata": {},
   "source": [
    "### first contact\n",
    "\n",
    "First of all we must to know if we have a proper response from the server."
   ]
  },
  {
   "cell_type": "code",
   "execution_count": 2,
   "metadata": {},
   "outputs": [
    {
     "data": {
      "text/html": [
       "<style>\n",
       "table {float:left}\n",
       "</style>\n"
      ],
      "text/plain": [
       "<IPython.core.display.HTML object>"
      ]
     },
     "metadata": {},
     "output_type": "display_data"
    }
   ],
   "source": [
    "%%html \n",
    "<style>\n",
    "table {float:left}\n",
    "</style>"
   ]
  },
  {
   "cell_type": "markdown",
   "metadata": {},
   "source": [
    "These are the main possible answers we can get from the server:\n",
    "\n",
    "|||\n",
    "|:--|:--|\n",
    "|**1xx informational response –** |the request was received, continuing process|\n",
    "|**2xx successful –** |the request was successfully received, understood, and accepted|\n",
    "|**3xx redirection –** |further action needs to be taken in order to complete the request|\n",
    "|**4xx client error –** |the request contains bad syntax or cannot be fulfilled|\n",
    "|**5xx server error –** |the server failed to fulfil an apparently valid request|"
   ]
  },
  {
   "cell_type": "code",
   "execution_count": 4,
   "metadata": {},
   "outputs": [
    {
     "data": {
      "text/plain": [
       "<Response [200]>"
      ]
     },
     "execution_count": 4,
     "metadata": {},
     "output_type": "execute_result"
    }
   ],
   "source": [
    "# Enter the address and see the response from the server.\n",
    "\n",
    "url = \"https://www.hispasonic.com/anuncios/teclados-sintetizadores\"\n",
    "page = requests.get(url)\n",
    "page"
   ]
  },
  {
   "cell_type": "markdown",
   "metadata": {},
   "source": [
    "#### <Response [200]> means correct connection.\n",
    "\n",
    "## Number of pages to analyze\n",
    "\n",
    "Once we have communication, we have to know how to determine how to obtain the **total number of pages** to scrap.\n",
    "\n",
    "![cantidad_iteraciones.png](cantidad_iteraciones.png)\n",
    "\n",
    "The item is identified as follows.\n",
    "\n",
    "       'ul', class_='pagination'\n",
    "       \n",
    "<br>\n",
    "\n",
    "Unordered list from a `pagination` class.\n",
    "\n",
    "\n",
    "To determine the number of iterations, that is, the number of pages on which to extract the information, I must find it inside the html content, find this element within the pages and know what the maximum value is.\n",
    "\n",
    "We will do this with Beautifulsoup use to extract the contents of an element."
   ]
  },
  {
   "cell_type": "code",
   "execution_count": 5,
   "metadata": {},
   "outputs": [],
   "source": [
    "soup = BeautifulSoup(page.content, 'html.parser')\n",
    "# soup  # all site code"
   ]
  },
  {
   "cell_type": "markdown",
   "metadata": {},
   "source": [
    "Inside `soup` variable we are looking for `'ul', class_='pagination'`\n",
    "\n",
    "The following code refers to the \n",
    "\n",
    "- **first 5 links of the pages**, \n",
    "\n",
    "- the **next 10 pages** and the **last one**, which is the one that interests us.\n",
    "\n",
    "Save it in a variable of type list, called `unordered_list`"
   ]
  },
  {
   "cell_type": "code",
   "execution_count": 6,
   "metadata": {
    "scrolled": false
   },
   "outputs": [
    {
     "data": {
      "text/plain": [
       "['\\n',\n",
       " <li>\n",
       " <span class=\"selected\">1</span>\n",
       " </li>,\n",
       " '\\n',\n",
       " <li>\n",
       " <a href=\"/anuncios/teclados-sintetizadores/pagina2\" rel=\"next\">2</a>\n",
       " </li>,\n",
       " '\\n',\n",
       " <li>\n",
       " <a href=\"/anuncios/teclados-sintetizadores/pagina3\">3</a>\n",
       " </li>,\n",
       " '\\n',\n",
       " <li>\n",
       " <a href=\"/anuncios/teclados-sintetizadores/pagina4\">4</a>\n",
       " </li>,\n",
       " '\\n',\n",
       " <li>\n",
       " <a href=\"/anuncios/teclados-sintetizadores/pagina5\">5</a>\n",
       " </li>,\n",
       " '\\n',\n",
       " <li>\n",
       " <a href=\"/anuncios/teclados-sintetizadores/pagina11\" title=\"Siguientes 10 páginas\">›</a>\n",
       " </li>,\n",
       " '\\n',\n",
       " <li>\n",
       " <a href=\"/anuncios/teclados-sintetizadores/pagina32\" title=\"Última página\">»</a>\n",
       " </li>,\n",
       " '\\n']"
      ]
     },
     "execution_count": 6,
     "metadata": {},
     "output_type": "execute_result"
    }
   ],
   "source": [
    "unordered_list = soup.find('ul', class_='pagination') # into variable\n",
    "unordered_list = unordered_list.contents # tag's children available in a list called .content. from variable to list\n",
    "unordered_list                           # list"
   ]
  },
  {
   "cell_type": "markdown",
   "metadata": {},
   "source": [
    "### Exploring `unordered_list`"
   ]
  },
  {
   "cell_type": "code",
   "execution_count": 7,
   "metadata": {},
   "outputs": [
    {
     "data": {
      "text/plain": [
       "15"
      ]
     },
     "execution_count": 7,
     "metadata": {},
     "output_type": "execute_result"
    }
   ],
   "source": [
    "len(unordered_list) # number of elements"
   ]
  },
  {
   "cell_type": "code",
   "execution_count": 8,
   "metadata": {},
   "outputs": [
    {
     "data": {
      "text/plain": [
       "'\\n'"
      ]
     },
     "execution_count": 8,
     "metadata": {},
     "output_type": "execute_result"
    }
   ],
   "source": [
    "unordered_list[0] # first element"
   ]
  },
  {
   "cell_type": "code",
   "execution_count": 9,
   "metadata": {},
   "outputs": [
    {
     "data": {
      "text/plain": [
       "'\\n'"
      ]
     },
     "execution_count": 9,
     "metadata": {},
     "output_type": "execute_result"
    }
   ],
   "source": [
    "unordered_list[-1] # last element"
   ]
  },
  {
   "cell_type": "code",
   "execution_count": 10,
   "metadata": {},
   "outputs": [
    {
     "data": {
      "text/plain": [
       "<li>\n",
       "<a href=\"/anuncios/teclados-sintetizadores/pagina32\" title=\"Última página\">»</a>\n",
       "</li>"
      ]
     },
     "execution_count": 10,
     "metadata": {},
     "output_type": "execute_result"
    }
   ],
   "source": [
    "unordered_list[-2] # this is the one I'm interested in"
   ]
  },
  {
   "cell_type": "markdown",
   "metadata": {},
   "source": [
    "### Get the value number from `unordered_list`\n",
    "\n",
    "As what I need is to access the value within the list the strategy that I will follow is the following:\n",
    "\n",
    "- Convert the list to a text string\n",
    "\n",
    "- Filter the characters that correspond to numeric values\n",
    "\n",
    "- Convert those numeric characters to numbers\n",
    "\n",
    "No puedo que pueda acceder al valor que me interesa unicamente esperando que el valor que quiero esté en la penultima, asi que lo que haré será convertir el contenido de la lista en una cadena de texto y hacer un filtrado de los caracteres con mayor valor mediante expresiones regulares.\n",
    "\n",
    "Convierto el contenido de `paginas` en cadena de texto."
   ]
  },
  {
   "cell_type": "code",
   "execution_count": 11,
   "metadata": {},
   "outputs": [
    {
     "data": {
      "text/plain": [
       "'<li>\\n<a href=\"/anuncios/teclados-sintetizadores/pagina32\" title=\"Última página\">»</a>\\n</li>'"
      ]
     },
     "execution_count": 11,
     "metadata": {},
     "output_type": "execute_result"
    }
   ],
   "source": [
    "test = str(unordered_list[-2])\n",
    "test"
   ]
  },
  {
   "cell_type": "markdown",
   "metadata": {},
   "source": [
    "`extractMax` function get the string numbers separated by minuscule characters and convert it to integers."
   ]
  },
  {
   "cell_type": "code",
   "execution_count": 12,
   "metadata": {},
   "outputs": [],
   "source": [
    "def extractMax(input):\n",
    "     # get a list of all numbers separated by \n",
    "     # lower case characters \n",
    "     # \\d+ is a regular expression which means\n",
    "     # one or more digit\n",
    "     # output will be like ['100','564','365']\n",
    "    numbers = re.findall('\\d+',input)\n",
    "     # now we need to convert each number into integer\n",
    "     # int(string) converts string into integer\n",
    "     # we will map int() function onto all elements \n",
    "     # of numbers list\n",
    "    numbers = map(int,numbers)\n",
    "    return max(numbers) # devuelve un entero"
   ]
  },
  {
   "cell_type": "code",
   "execution_count": 13,
   "metadata": {},
   "outputs": [
    {
     "data": {
      "text/plain": [
       "32"
      ]
     },
     "execution_count": 13,
     "metadata": {},
     "output_type": "execute_result"
    }
   ],
   "source": [
    "page_numbers = extractMax(test)\n",
    "page_numbers"
   ]
  },
  {
   "cell_type": "markdown",
   "metadata": {},
   "source": [
    "We already have the number of pages that we will have to analyze. \n",
    "\n",
    "***"
   ]
  },
  {
   "cell_type": "markdown",
   "metadata": {},
   "source": [
    "### Getting and save all links.\n",
    "\n",
    "Iterating on each of the pages we will extract:\n",
    "\n",
    "- Everything that is a link.\n",
    "\n",
    "\n",
    "- Those links what I do is stay with what ends in number which is the way to identify those who are ads and what are not."
   ]
  },
  {
   "cell_type": "code",
   "execution_count": 14,
   "metadata": {},
   "outputs": [
    {
     "name": "stdout",
     "output_type": "stream",
     "text": [
      "https://www.hispasonic.com/anuncios/teclados-sintetizadores/pagina32\n",
      "https://www.hispasonic.com/anuncios/teclados-sintetizadores/pagina31\n",
      "https://www.hispasonic.com/anuncios/teclados-sintetizadores/pagina30\n",
      "https://www.hispasonic.com/anuncios/teclados-sintetizadores/pagina29\n",
      "https://www.hispasonic.com/anuncios/teclados-sintetizadores/pagina28\n",
      "https://www.hispasonic.com/anuncios/teclados-sintetizadores/pagina27\n",
      "https://www.hispasonic.com/anuncios/teclados-sintetizadores/pagina26\n",
      "https://www.hispasonic.com/anuncios/teclados-sintetizadores/pagina25\n",
      "https://www.hispasonic.com/anuncios/teclados-sintetizadores/pagina24\n",
      "https://www.hispasonic.com/anuncios/teclados-sintetizadores/pagina23\n",
      "https://www.hispasonic.com/anuncios/teclados-sintetizadores/pagina22\n",
      "https://www.hispasonic.com/anuncios/teclados-sintetizadores/pagina21\n",
      "https://www.hispasonic.com/anuncios/teclados-sintetizadores/pagina20\n",
      "https://www.hispasonic.com/anuncios/teclados-sintetizadores/pagina19\n",
      "https://www.hispasonic.com/anuncios/teclados-sintetizadores/pagina18\n",
      "https://www.hispasonic.com/anuncios/teclados-sintetizadores/pagina17\n",
      "https://www.hispasonic.com/anuncios/teclados-sintetizadores/pagina16\n",
      "https://www.hispasonic.com/anuncios/teclados-sintetizadores/pagina15\n",
      "https://www.hispasonic.com/anuncios/teclados-sintetizadores/pagina14\n",
      "https://www.hispasonic.com/anuncios/teclados-sintetizadores/pagina13\n",
      "https://www.hispasonic.com/anuncios/teclados-sintetizadores/pagina12\n",
      "https://www.hispasonic.com/anuncios/teclados-sintetizadores/pagina11\n",
      "https://www.hispasonic.com/anuncios/teclados-sintetizadores/pagina10\n",
      "https://www.hispasonic.com/anuncios/teclados-sintetizadores/pagina9\n",
      "https://www.hispasonic.com/anuncios/teclados-sintetizadores/pagina8\n",
      "https://www.hispasonic.com/anuncios/teclados-sintetizadores/pagina7\n",
      "https://www.hispasonic.com/anuncios/teclados-sintetizadores/pagina6\n",
      "https://www.hispasonic.com/anuncios/teclados-sintetizadores/pagina5\n",
      "https://www.hispasonic.com/anuncios/teclados-sintetizadores/pagina4\n",
      "https://www.hispasonic.com/anuncios/teclados-sintetizadores/pagina3\n",
      "https://www.hispasonic.com/anuncios/teclados-sintetizadores/pagina2\n",
      "https://www.hispasonic.com/anuncios/teclados-sintetizadores/pagina1\n"
     ]
    }
   ],
   "source": [
    "links_ads = []        # all the ads on the page\n",
    "listado_enlaces = []  # all the links on the page\n",
    "\n",
    "pattern=\"([0-9]{4,9})\" # filtering all links with numbers mean choosing the page number\n",
    "\n",
    "for pagina in range(page_numbers, 0, -1): \n",
    "    url = \"https://www.hispasonic.com/anuncios/teclados-sintetizadores/pagina{pagina}\".format(pagina=pagina)\n",
    "    print(url)\n",
    "    \n",
    "    page = requests.get(url)\n",
    "    soup = BeautifulSoup(page.content, 'html.parser')\n",
    "\n",
    "    \n",
    "    for link in soup.find_all('a'):       # filter everything that is a link on soup variable\n",
    "        links_ads.append(link.get('href'))\n",
    "        \n",
    "    \n",
    "    for s in links_ads:                   # of those links what I do is stay with what ends in number\n",
    "        if re.search(pattern, s):\n",
    "            listado_enlaces.append(s)"
   ]
  },
  {
   "cell_type": "code",
   "execution_count": 15,
   "metadata": {},
   "outputs": [
    {
     "data": {
      "text/plain": [
       "['/musica',\n",
       " '/productos',\n",
       " '/anuncios',\n",
       " '/anuncios/todo',\n",
       " '/anuncios/todo/f/compra-protegida',\n",
       " '/anuncios',\n",
       " '/anuncios/compraventa',\n",
       " '/anuncios/teclados-sintetizadores',\n",
       " '/anuncios/todo/f/compra-protegida',\n",
       " '/compra-protegida',\n",
       " '/anuncios/todo/f/compra-protegida',\n",
       " '/index.php?controller=ad&action=new_ad_form',\n",
       " '/anuncios/teclados-sintetizadores',\n",
       " '/anuncios/teclados-sintetizadores/pagina22',\n",
       " '/anuncios/teclados-sintetizadores/pagina28']"
      ]
     },
     "execution_count": 15,
     "metadata": {},
     "output_type": "execute_result"
    }
   ],
   "source": [
    "links_ads[5:20] # example list"
   ]
  },
  {
   "cell_type": "code",
   "execution_count": 16,
   "metadata": {},
   "outputs": [
    {
     "data": {
      "text/plain": [
       "['/anuncios/soniccell-roland/867426',\n",
       " '/anuncios/korg-vocoder-vc10/866556',\n",
       " '/anuncios/korg-vocoder-vc10/866556',\n",
       " '/anuncios/sequential-prophet-5-rev4/966987',\n",
       " '/anuncios/sequential-prophet-5-rev4/966987',\n",
       " '/anuncios/tascam-246-pinch-roller/876919',\n",
       " '/anuncios/tascam-246-pinch-roller/876919',\n",
       " '/anuncios/soniccell-roland/867426',\n",
       " '/anuncios/soniccell-roland/867426',\n",
       " '/anuncios/korg-vocoder-vc10/866556',\n",
       " '/anuncios/korg-vocoder-vc10/866556',\n",
       " '/anuncios/sequential-prophet-5-rev4/966987',\n",
       " '/anuncios/sequential-prophet-5-rev4/966987',\n",
       " '/anuncios/yamaha-vrc-106-data-rom/992312',\n",
       " '/anuncios/yamaha-vrc-106-data-rom/992312']"
      ]
     },
     "execution_count": 16,
     "metadata": {},
     "output_type": "execute_result"
    }
   ],
   "source": [
    "listado_enlaces[5:20] # example list"
   ]
  },
  {
   "cell_type": "markdown",
   "metadata": {},
   "source": [
    "### Cleaning links\n",
    "\n",
    "Taking a look at the two lists it is striking that there are links that are repeated:\n",
    "\n",
    "            '...\n",
    "            '/anuncios/korg-vocoder-vc10/866556',\n",
    "             '/anuncios/korg-vocoder-vc10/866556',\n",
    "             '/anuncios/polyend-tracker/1057403',\n",
    "             '/anuncios/polyend-tracker/1057403',\n",
    "             '/anuncios/trajetas-teclados/949462',\n",
    "             '/anuncios/trajetas-teclados/949462',\n",
    "                                             ...',\n",
    "\n",
    "\n",
    "To maintain **only the links not repeated**, we will make a filter from a dictionary and extracting from the link the name that can identify it as a value.\n",
    "\n",
    "Leaving the link as a key and an identifying name of the url as a value."
   ]
  },
  {
   "cell_type": "code",
   "execution_count": 17,
   "metadata": {},
   "outputs": [],
   "source": [
    "diccionario_enlaces = {}\n",
    "cnt = 0\n",
    "\n",
    "listado_marcas = []\n",
    "\n",
    "patron_marca = \"((?<=anuncios\\/)[1-9][a-z]{1,})|((?<=anuncios\\/)[a-z]{1,})\" # filter brand regex\n",
    "\n",
    "for enlace in listado_enlaces:\n",
    "    if enlace not in diccionario_enlaces:\n",
    "        \n",
    "        try:\n",
    "            marca = re.search(patron_marca, enlace).group()\n",
    "            diccionario_enlaces[enlace] = marca\n",
    "        except AttributeError:\n",
    "            marca = re.search(patron_marca, enlace)"
   ]
  },
  {
   "cell_type": "markdown",
   "metadata": {},
   "source": [
    "![regex_expression.png](regex_expression.png)"
   ]
  },
  {
   "cell_type": "code",
   "execution_count": 18,
   "metadata": {},
   "outputs": [
    {
     "data": {
      "text/plain": [
       "'polyend'"
      ]
     },
     "execution_count": 18,
     "metadata": {},
     "output_type": "execute_result"
    }
   ],
   "source": [
    "diccionario_enlaces['/anuncios/polyend-tracker/1057403'] # view example"
   ]
  },
  {
   "cell_type": "markdown",
   "metadata": {},
   "source": [
    "With the dictionary that we have just created we are going to download all the ads locally.\n",
    "\n",
    "The reason is not to overload the server and run the risk of being banned."
   ]
  },
  {
   "cell_type": "code",
   "execution_count": 19,
   "metadata": {},
   "outputs": [
    {
     "name": "stdout",
     "output_type": "stream",
     "text": [
      "/home/ion/Documentos/albertjimrod/personal_projects/hispasonic\r\n"
     ]
    }
   ],
   "source": [
    "! pwd"
   ]
  },
  {
   "cell_type": "code",
   "execution_count": null,
   "metadata": {
    "scrolled": true
   },
   "outputs": [],
   "source": [
    "import time\n",
    "\n",
    "main_path='https://www.hispasonic.com'\n",
    "local_path = '/home/ion/Documentos/albertjimrod/personal_projects/hispasonic/htmls/'\n",
    "\n",
    "for enlace in diccionario_enlaces:\n",
    "    time.sleep(1) # Sleep for 3 seconds\n",
    "    page = requests.get(main_path + enlace) # https://www.hispasonic.com/anuncios/polyend-tracker/1057403.html\n",
    "    \n",
    "    enlace = enlace.split(\"/\")  # filtro para poder extraer\n",
    "    enlace= enlace[2]           # nombre del anuncio\n",
    "\n",
    "    with open(local_path + enlace + '.html',\"w+\") as f:\n",
    "        f.write(page.text)"
   ]
  },
  {
   "cell_type": "code",
   "execution_count": 20,
   "metadata": {},
   "outputs": [],
   "source": [
    "mercadillo = ['compro','compro:','busco','busco:','se busca','']"
   ]
  },
  {
   "cell_type": "code",
   "execution_count": 27,
   "metadata": {},
   "outputs": [],
   "source": [
    "sintes = ['access', 'acidlab', 'akai', 'alembic', 'alesis', 'allen&heath', 'analogue solutions', 'analogue systems',\n",
    "          'arp', 'arturia', 'asm (ashun sound machines)', 'audio damage', 'audiophile circuits league', 'a-v-p synth',\n",
    "         'balaguer', 'baloran', 'bastl instruments', 'behringer', 'black corporation', 'böhm', 'boss', 'bubblesound instruments',\n",
    "         'buchla', 'casio', 'charlie lab', 'charvel', 'circuit abbey', 'clavia nord', 'club of the knobs', 'crumar',\n",
    "         'custom made synths', 'cyclone', 'cyclone analogic', 'dave jones design', 'dave smith instruments', 'denon dj',\n",
    "         'dexibell', 'doepfer musikelektronik', 'dreadbox', 'dubreq', 'elby designs', 'electronic music laboratories (eml)', 'elektron',\n",
    "         'elka', 'elta music', 'e:m:c', 'e-mu systems', 'endorphin.es', 'endorphines', 'ensoniq', 'epiphone', 'erica synths',\n",
    "         'ernie ball music man', 'esp ltd', 'evh', 'exodus digital', 'farfisa', 'fender', 'fishman', 'fodera', 'formanta',\n",
    "         'fretlight', 'friedman', 'future retro', 'futuresonus', 'gemini', 'generalmusic', 'gibson', 'godin', 'gotharman',\n",
    "         'graph tech', 'gretsch', 'guild', 'hammond', 'hartmann', 'hexinverter', 'hinton instruments', 'höfner', 'hypersynth',\n",
    "         'ibanez', 'ik multimedia', 'intellijel', 'isla instruments', 'jackson', 'john bowen synth design', 'jomox', 'kawai',\n",
    "         'kenton', 'ketron', 'kilpatrick audio', 'koma elektronik', 'korg', 'kramer', 'kurzweil', 'lakland', 'line 6',\n",
    "         'linn electronics', 'livid', 'logan electronics', 'macbeth studio systems', 'make noise', 'malekko', 'manikin electronic',\n",
    "         'm-audio', 'mellotron', 'mfb', 'modal electronics','modular', 'modor', 'modulus', 'moog', 'mutable instruments', 'native instruments',\n",
    "         'novation', 'numark', 'oberheim', 'orthogonal devices', 'peavey', 'pioneer dj', 'pittsburgh modular', 'polyend', 'ppg (palm products gmbh)',\n",
    "         'prs', 'quasimidi', 'qu-bit electronix', 'waves grendel', 'radikal technologies', 'rhodes', 'rickenbacker', 'roland',\n",
    "         'roli','sensel','schecter', 'sequential', 'sequential circuits', 'sequentix', 'simmons', 'sonicware', 'special waves',\n",
    "         'spector', 'spectral audio', 'squarp instruments', 'squier', 'ssf', 'stanton', 'steinberger', 'sterling',\n",
    "         'studio electronics', 'studiologic music', 'synths', 'synthstrom', 'taylor', 'technos', 'teenage engineering', 'tiptop audio',\n",
    "         'traveler guitar', 'udo audio', 'vermona', 'viscount', 'vox', 'waldorf', 'warwick', 'washburn', 'wersi music', 'winter modular',\n",
    "         'wurlitzer', 'wmd', 'wmd / ssf', 'yamaha', 'zeppelin design labs', 'synthesis technology', 'nord', 'tascam', 'synthrotek',\n",
    "         'e-mu', 'transient modules', 'befaco', 'tiptop', 'dynacord', 'dave smith', 'polygraf', 'studiologic', 'corsynth',\n",
    "         'micro modular', 'mutant', 'chronograf', 'maschine', 'pearl', 'yocto', 'komplete', 'nord electro', 'erica synth',\n",
    "         'frequency central', 'nord lead 4', 'make noise', 'modal', 'nord stage', 'acces', 'doepfer', 'eventide', 'instruo',\n",
    "         'atomo synth', 'atomosynth', 'wersi', 'nord lead 3', 'vermona', 'bheringer', 'behringer', 'synamodec', 'teenage enginering',\n",
    "         'sputnik', 'strymon','synthstrom', 'sequencial', 'sequential', 'sequential circuits', 'sanson','kurzweil', 'electribe', 'frap tool', 'synthtech',\n",
    "         'qubit', 'qu-bit', 'qu bit', 'pittsburgh', 'cre8audio', 'paratek', 'uno synth ', 'bastl', 'volca', 'deepmind', 'deepmind 6',\n",
    "         'deepmind 12', 'monome', 'neutron', 'asm', 'evolver', 'mpc', 'eurorack', 'controlador', 'teclado', 'octatrack', 'digitack',\n",
    "         'models', 'bitbox', 'axoloty', 'noise engineering', 'virus ti', '0-coast', '0 coast', 'coast']"
   ]
  },
  {
   "cell_type": "code",
   "execution_count": 22,
   "metadata": {},
   "outputs": [],
   "source": [
    "os.chdir('/home/ion/Documentos/albertjimrod/personal_projects/hispasonic/htmls') # working directory mapping"
   ]
  },
  {
   "cell_type": "code",
   "execution_count": 23,
   "metadata": {},
   "outputs": [
    {
     "data": {
      "text/plain": [
       "'/home/ion/Documentos/albertjimrod/personal_projects/hispasonic/htmls'"
      ]
     },
     "execution_count": 23,
     "metadata": {},
     "output_type": "execute_result"
    }
   ],
   "source": [
    "os.getcwd() # checking path"
   ]
  },
  {
   "cell_type": "markdown",
   "metadata": {},
   "source": [
    "### Extract parameters from htmls saved by regex:\n",
    "\n",
    "To be able to extract the price, the username, and other parameters that interest us.\n",
    "\n",
    "What we are going to do is select that element in **html** that interests us and filter the content through regex (regular expressions)."
   ]
  },
  {
   "cell_type": "code",
   "execution_count": 24,
   "metadata": {},
   "outputs": [],
   "source": [
    "def get_data(pay_load, pattern_regex):\n",
    "    pay_load = str(pay_load)\n",
    "    pay_load = pay_load.lower()\n",
    "    \n",
    "    try:\n",
    "        data = re.search(pattern_regex, str(pay_load))\n",
    "        data = data.group()\n",
    "        \n",
    "    except AttributeError:\n",
    "        data = re.search(pattern_regex, str(pay_load))\n",
    "        \n",
    "    return data "
   ]
  },
  {
   "cell_type": "markdown",
   "metadata": {},
   "source": [
    "What we are going to do is read each over the ads that we save locally.\n",
    "<br>\n",
    "\n",
    "![hispa_4.png](hispa_4.png)\n",
    "\n",
    "<br>\n",
    "\n",
    "This is an ad where you can identify the fields we want to get:\n",
    "\n",
    "- **price**\n",
    "\n",
    "- **user**\n",
    "\n",
    "- **city**\n",
    "\n",
    "- **times seen**\n",
    "\n",
    "- **date expire**\n",
    "\n",
    "- **description**\n",
    "\n",
    "\n",
    "**Note:**\n",
    "\n",
    "The description or title of the advertisement shall be filtered to extract the manufacturer's brand the relevant **model** or **description**."
   ]
  },
  {
   "cell_type": "code",
   "execution_count": 79,
   "metadata": {
    "scrolled": true
   },
   "outputs": [
    {
     "name": "stdout",
     "output_type": "stream",
     "text": [
      "Modal electronics Cobalt 5S\n",
      "Moog Little Phatty Stage 2\n",
      "(Último Precio)Doepfer A-100 6U\n",
      "Compro: E-MU Planet Earth\n",
      "SINTETIZADOR CASIO HT-3000\n",
      "Synthrotek Fold\n",
      "Roland Fantom G6\n",
      "ALESIS QX49 - Controlador midi\n",
      "ACCESS VIRUS B\n",
      "Korg Minilogue - Behringer RD6 - Vermona ER9 Drum Machine\n",
      "Kordbot Isla Instruments\n",
      "Compro: Roland Sound Library PCM1-06 Baroque\n",
      "Controlador MIDI/USB M-AUDIO Oxygen 88 teclas\n",
      "Novation bass station II com decksaver\n",
      "KETRON SD9 PRO\n",
      "Cambio: Patches de AnalogAudio1\n",
      "KORG M1\n",
      "Varios Eurorack\n",
      "Jomox T-Resonator MKII\n",
      "Piano Pearl River PD180D\n",
      "Nord Lead 4\n",
      "4ms Quad Pingable LFO+Quad Clock Distributor\n",
      "Behringer 921 VC Oscillator\n",
      "Shakmat Modular Clock O'Pawn (nuevo)\n",
      "Moog Sub Phatty\n",
      "Make Noise DPO\n",
      "Set de tres sintes analógicos enracados Behringer\n",
      "Sintetizador Modular\n",
      "Dos tarjetas Para Roland R8;  Memory Card M-256E y Contemporary Percusion\n",
      "NEUTRON semimodular analógico\n",
      "KORG MODWAVE + LIBRERIAS\n",
      "Stand AKAI MPC LIVE 1 (Fuera Stock)(Env incl)\n",
      "Roland MV30\n",
      "Groovebox Roland D2\n",
      "Cambio: Ketron sd 1000\n",
      "Modulos Eurorack ULTIMOS-REBAJADOS\n",
      "Korg Krome 61\n",
      "Akai MPK88\n",
      "KORG TRITON EXTREME 88\n",
      "Befaco Kickall\n",
      "Compro: Nord stage 3 compact o electro 6d 73\n",
      "Tarjetas Roland SN-U110 02 y 12\n",
      "Transient 8s secuenciador Eurorack de 8 pasos\n",
      "VENDO Novation XIO 25 2-Octave – sintetizador y audio us\n",
      "Teenage Engineering OP-1 + funda oficial\n",
      "Korg NS5r Modulo de Sonido del Korg N264\n",
      "Sequential Prophet 5 REV4\n",
      "Jaspers KR200-6-120RS\n",
      "AKAI APC KEY25 en muy buen estado\n",
      "Regalo: Casio PT-10\n",
      "Vendo Yamaha Moxf 8\n",
      "Korg Wavestate\n",
      "Roland Memory Card 256\n",
      "Swissonic EasyKey 25\n",
      "Roland System 8\n",
      "Arturia Drumbrute\n",
      "Intellijel buff multiple · Eurorack\n",
      "Roland Fantom S 61\n",
      "Doepfer A-100LC3v Low Cost Case Vintage Edition\n",
      "Korg sp250 nuevo sin uso con atril y banqueta\n",
      "Korg Kronos 2\n",
      "Yamaha Vrc 101 Keyboard Plucked & Tuned Percussion Group\n",
      "Vendo varios módulos Make Noise, Mutable, Cwejman en estado impecable\n",
      "Cambio: Roland S-220 Sampler\n",
      "Modal Argon8\n",
      "Zoom Arq Anillo Sintetizador (Nuevo)\n",
      "Soma Lyra 8\n",
      "Compro: Doepfer A-106-5 Sem filter\n",
      "Prophet sequential X\n",
      "Expert Sleepers Disting MK4 - Módulo Eurorack\n",
      "Mutable Instruments Braids (clone)\n",
      "NORD LEAD 3\n",
      "Moog Werkstatt 01 + CV Expander\n",
      "Sintetizador Kawai SX-210\n",
      "Waldorf Micro Q [último precio]\n",
      "Access Virus TI Snow\n",
      "Hammond L122 recien restaurado\n",
      "ASM HYDRASYNTH\n",
      "Korg Electribe S Mk2\n",
      "Maleta Sintetizador 61 Aluminio\n",
      "Flightcase Yamaha P 80\n",
      "Yamaha Rev 500\n",
      "Cambio: Soporte Quiklok en perfecto estado\n",
      "Toms 000 eurorack\n",
      "Fairfield Circuitry Meet Maude Analog Delay\n",
      "Roland Mc 101\n",
      "ROLAND XV 5080 Actualizado\n",
      "Clavia Nord Lead 1 Rack - 12 voces\n",
      "Sintetizador Moog Subsequent 25 impoluto\n",
      "Funda Clavia Nord 76\n",
      "korg MS20 original\n",
      "Vendo o cambió RD 8 MKI Berhinger\n",
      "ROLAND MV30\n",
      "Roland RD300SX\n",
      "Elektron Machinedrum SPS-1 UW MK1\n",
      "Cre8audio Cellz + Chipz\n",
      "Native Instruments Maschine Mark 1 Controlador USB MIDI sin licencia\n",
      "ARP 2600 + 3620 keyboard\n",
      "Compro: Varios módulos eurorack\n",
      "Yamaha Sy77\n",
      "Cambio: Cambio tripode pro por sintetizador\n",
      "Módulo Eurorack Behringer 911 Envelope Generator\n",
      "Synthesis Technology E370 Quad Morphing Vco Black\n",
      "Make Noise Phonogene\n",
      "Nord Electro HP 5\n",
      "Cambio: Roland EG-101 GrooveKeyboard (o 300€)\n",
      "Arp 2600M  Nuevo ( TAMBIEN CAMBIOS)\n",
      "Zip Iomega 100 SCSI\n",
      "Sonidos Custom para Nord Lead A1\n",
      "Hammond  E-262 de 1968.\n",
      "Módulos Eurorack (NUEVOS Módulos Añadidos)\n",
      "Intellijel Metropolis\n",
      "Roland juno DS 88\n",
      "Yamaha Master Group\n",
      "Hammond M100 año 1962\n",
      "YAMAHA CP40 con funda y pedal original. Impecable!\n",
      "Teclado Waldorf Blofeld Keyboard\n",
      "E-MU Proformance 1 módulo de sonidos de piano\n",
      "Roland Tb 3\n",
      "Novation impulse 25\n",
      "Compro: Compro Kurzweil K2661\n",
      "Studio Electronics ATC-1 2600 Filter Cartridge\n",
      "Mutable instruments clouds completo\n",
      "DSI evolver\n",
      "Leslie 122 Clásico y Autónomo\n",
      "Analogue Systems RS-390\n",
      "Cambio: Erica Fusión VCO\n",
      "Arturia Minibrute 2\n",
      "Fuente alimentación eurorack + bus board\n",
      "piano roland vr-730\n",
      "WERSI EX10R Expander with 8-bit drums 1985\n",
      "ElectroVoice FX70 (emulador Leslie de rack, igual al Dynacord DLS223)\n",
      "Módulo de sonidos KORG 05R/W\n",
      "Yamaha P-125 B\n",
      "Orejas rack Neutron, PRO 1, K2 .. (80hp)(FIN STOCK)(ENV INCL)\n",
      "XAOC Moskwa II+ Ostankino II\n",
      "Modulo Eurorack Doepfer A-110-1\n",
      "Adam Hall Sks 22 Xb\n",
      "Sintetizador Piano Korg N1 88 teclas contrapesadas\n",
      "Cambio: Roland FA-06\n",
      "VENDO Korg Monotron\n",
      "Yamaha CS-5\n",
      "Teclado Nord Wave 2\n",
      "KORG KAOSSILATOR PRO +\n",
      "Novation Launchpad MKIII + deksaver\n",
      "Roland D 550\n",
      "Compro: Orejas Rack Korg DSM-1\n",
      "Erica Synths Bassline DB-01\n",
      "Elektron Monomachine SFX60 MK2\n",
      "Cambio: Roland VS 24000 CD + Monitor.\n",
      "Pack proyecto eurorack\n",
      "Funda para teclado de 5 octavas\n",
      "Grey Audio 3340\n",
      "Roland TR-707 / HKA Upgrade\n",
      "Roland Jx 3P + Mode Machine Dt 200\n",
      "Endorphin Milky Way\n",
      "Roland D110 – sintetizador digital + tarjeta PN-D10-01\n",
      "Compro: LANDSCAPE Stereo Field\n",
      "Yamaha RM50 Rhythm Sound Module\n",
      "Modulo Eurorack Doepfer A-142-1\n",
      "Elektron digitone con muy poco uso\n",
      "Caja Eurorack\n",
      "Compro: Doepfer A-160-2\n",
      "Novation Summit\n",
      "WALDORF Blofeld Negro + Arturia Minibrute (para reparar)\n",
      "AKAI XE8 Midi Drum Expander\n",
      "roland system 1m\n",
      "Twisted Electrons Acid 8 mkII\n",
      "Pedal de efecto Neo Ventilator II\n",
      "BEFACO Hexmix\n",
      "Doepfer A-106-1 Xtreme Filter (MS20)\n",
      "TARJETA SRX02 Concert Piano de Roland\n",
      "Instruo Troika triple VCO\n",
      "Buchla 208c Easel Command\n",
      "Módulo de sonidos y efectos SM Pro Audio VMachine reproductor de pluggins VST\n",
      "Flightcase 19\" Thon Rack 5U Eco II Compact 23\n",
      "Yamaha Vrc 103 Sustain Group\n",
      "Dreadbox lil’ Erebus\n",
      "Electribe ESX-1SD (Versión SD)\n",
      "Elektron Digitakt\n",
      "Oferta Rebajado Roland fantom x88\n",
      "Compro: Doepfer A-103 VCF 6\n",
      "KIT Controlador para LESLIES de 6 PINES 122 Y 147 (familias 6H Y 6W)\n",
      "Teenage Engineering Op-1\n",
      "AKAI S3000XL + Tarjeta EB16 + Zip Omega + Manuales y Cableado.\n",
      "Teclado midi MPE Linnstrument 200 teclas\n",
      "u warps eurorack\n",
      "Sintetizador ARP AVATAR original 1977\n",
      "Compro: Compro Modx\n",
      "Arturia minilab MkII\n",
      "Roland Tr 505\n",
      "VERMONA MKIII Drm1 version triggers con Garantia\n",
      "ROLAND MV30:\n",
      "Roland XP-80 + maleta aluminio (portes incluídos)\n",
      "Vendo roland ra-90\n",
      "Komplete Kontrol S61 mk2 y Komplete 13 Ultimate\n",
      "Teenage Enginering + Decksaver + Funda\n",
      "Kodamo Essence FM – sintetizador multitímbrico FM\n",
      "Behringer Neutron + Orejas Rack\n",
      "Elektron Analog Four Sintetizador\n",
      "Maschine mk I\n",
      "Doboz touch sensing note memory eurorack\n",
      "Roland boutique  sh01a blue+extras\n",
      "Frequency Central Chronograf\n",
      "Eloquencer + midi expansion\n",
      "Doepfer A189-1\n",
      "Soporte teclado Ultimate AX48B\n",
      "Eminent Solina String Ensemble MK 1\n",
      "Dreadbox Nymphes\n",
      "Befaco Crush Delay\n",
      "OP-Z Teenage Engineering\n",
      "Jen SX-2000 Synthetone\n",
      "Polyend Tracker.\n",
      "Novation Mininova\n",
      "Sintetizador Roland Boutique SE-02\n",
      "Arturia KeyLab 49 MkII Black\n",
      "Waldorf Blofeld Desktop negro + licencia SL\n",
      "PIANO MIDI YAMAHA P-95\n",
      "Kassutronics VCO 3340\n",
      "VCO eurorack analogico Magerit (tb cambio)\n",
      "Alesis V61 + Soporte de tijera\n",
      "Sequential Prophet X\n",
      "Piano eléctrico de escenario Kawai MP-5 + fligth case\n",
      "Cambio: Mpc live2 x One\n",
      "Critter & Guitari Organelle\n",
      "Befaco Vc Adsr\n",
      "Compro: Behringer TD-3-MO-SR\n",
      "Waldorf Blofeld Black\n",
      "Roland Eg 101\n",
      "BOSS Flanger BF3\n",
      "Roland V-Synth GT 2.0\n",
      "Vendo Moog Minitaur\n",
      "CASIO CZ 3000\n",
      "Varios módulos\n",
      "Roland MT-32 Lista de Presets\n",
      "Detachment 3 Archangel\n",
      "Bastl Instruments Bit Ranger\n",
      "Roland Tb 03\n",
      "Nord Lead 4 Rack\n",
      "Roland Verselab MV-1 + Decksaver\n",
      "Squarp Pyramid MK1\n",
      "CME UF7 Controlador MIDI de 76 teclas Teclado MIDI USB Teclado electrónico\n",
      "Tarjetas de memoria ROLAND M-256\n",
      "Tarjetas Voice Crystal 1+2 para SQ2 SQR+,SQ1+\n",
      "Endorphin.es Airstreamer\n",
      "Korg Volca Bass\n",
      "Korg microKORG XL Synthesizer-Vocoder Limited Edition Red\n",
      "Moog Subsequent 37 (Sub37)\n",
      "Libros de desarrollo de plugins y audio\n",
      "Roland Tr 8s\n",
      "Roland Varios\n",
      "Arp Odyssey MkIII\n",
      "Akai S6000\n",
      "Compro: Placa principal Motherboard Roland XP50\n",
      "Sintetizador modular completo a estrenar\n",
      "EMU Proteus 1 – sintetizador en rack\n",
      "Yamaha PSR 3000 - Librería para NI Kontakt\n",
      "Tip Top Mix Z\n",
      "Akai CD-Rom Sound Library MPC2000XL Vol.1\n",
      "Endorphin.es Godspeed +\n",
      "Doepfer A-160 -5V Clock Multiplier\n",
      "Caja de ritmos Yamaha Rx7\n",
      "Teclado Korg DS-8 1986\n",
      "Instruo TS-L\n",
      "Transient Modules 8S Sequencer\n",
      "Korg Kossilator Pro\n",
      "Virus TI2 darkstar\n",
      "Yamaha RM50 (versión rack de RY30)\n",
      "Frequency Central Bartos Flur II\n",
      "Piano digital Yamaha P140 en Sevilla\n",
      "Eurorack VCA Mixer\n",
      "Funda cubrepolvo a la medida para Korg Monopoly\n",
      "VENDO TORAIZ SQUID\n",
      "DREADBOX HYPNOSIS\n",
      "Intellijel Shapeshifter\n",
      "Amplificador Type Leslie 142/145\n",
      "Yamaha moxf 6,\n",
      "Elektron Analog Keys NUEVO\n",
      "Modulo Eurorack Doepfer A-190-2 MIDI To CV & Gate\n"
     ]
    },
    {
     "name": "stdout",
     "output_type": "stream",
     "text": [
      "Compro: Compro Roland Xp30\n",
      "Korg M1 Workstation\n",
      "nerdseq y midi expander\n",
      "Lemi Midi Mixer\n",
      "Sound Labs Raagini Digital Electronic Tanpura\n",
      "filtro 6U uVCF INTELLIJEL\n",
      "ROLAND GW8L\n",
      "joystic befaco\n",
      "sintetizador analogico\n",
      "Cirklon v1.0\n",
      "Teclado maestro Behringer UMX490\n",
      "MODAL COBALT 8X\n",
      "tarjetas ROland SRX SRX-05 Supreme Dance - 100 euros\n",
      "Befaco Midi Thing\n",
      "Roland Tr 808\n",
      "Órgano/sintetizador Rhodes VK-1000\n",
      "Órgano Hammond The Sounder REBAJADO!\n",
      "Winter Modular Eloquencer\n",
      "Temps Utile\n",
      "Roland VR700 V-Combo\n",
      "Kawai VPC1 en perfecto estado.\n",
      "Sintetizador Ver­mona DRM1 MK3 Trigger\n",
      "Bastl Instruments Micro Granny 2.0\n",
      "Korg Sq10 Secuenciador\n",
      "Sinte Korg MS-20 Mini \" NUEVO\"\n",
      "Elektron Digitone\n",
      "Piano digital Kurzweil X-Pro Up 88 teclas\n",
      "Cambio: Cambio Nord Wave 2 por Hammond SK Pro\n",
      "Eurorack performance case 84hp 12U\n",
      "Box11 Cabinet mas laterales\n",
      "Behringer 121 Dual VCF\n",
      "Ableton Push - primera versión\n",
      "Waldorf Iridium rack version\n",
      "Compro: Compro/Cambio Make Noise Woggeblug + Morphagene + Optomix\n",
      "Antimatter Audio Crossfold\n",
      "Vendo MS MATRIX Alyseum\n",
      "Nektar Impact LX49+ Teclado Controlador\n",
      "Twisted Electrons Cells\n",
      "Pedal de expresión EV-5\n",
      "E-MU Orbit V2 9090\n",
      "Nano Rand V2 Qu-bit modulo Eurorack aleatorio sample and hold\n",
      "YAMAHA MOTIF XS 6\n",
      "Teclado KORG X3\n",
      "Leslie 322\n",
      "Doepfer A-106-5 SEM Filter Special Edition\n",
      "Sequential Prophet X\n",
      "Roland Kc 200\n",
      "AKAI MPK61\n",
      "ACCESS VIRUS TI2 POLAR\n",
      "Roland JUNO DS-76\n",
      "Endorphin Milky Way\n",
      "Doepfer A 116 Vc Waveform Processor\n",
      "Endorphin.es Total Recall\n",
      "Novation Launchkey 37 MK3\n",
      "Extras Kurzweil K2000\n",
      "Cambio: presets bancos  de sintetizadores\n",
      "Teclado Yamaha PSR-E263\n",
      "Compro: Laterales de aluminio para Roland System-8\n",
      "Quiklok M-2  para Teclado complementario. add-on for M-91\n",
      "Maleta FLIGHT-CASE - Estuche para teclado\n",
      "Roland SC-33\n",
      "Korg Minilogue XD\n",
      "Novation Bass Station Rack\n",
      "Yamaha Motif XF8\n",
      "Waldorf Pulse 2\n",
      "Befaco Muxlicer\n",
      "Error Box Adm03\n",
      "Cambio: Ginkosynthese Samplerslicer\n",
      "CASIO VL-TONE VL-1\n",
      "HAMMOND C3 1961 CHOP DOWN (PORTABLE)\n",
      "Analog Xperience para Yamaha MODX y Montage\n",
      "Korg Minilogue\n",
      "Erica Synths Black Spring Reverb\n",
      "Casio VL-5 (VL1 poly) con lector y funda\n",
      "Sintetizador NORD LEAD Virtual Analógico\n",
      "Behringer Wasp Deluxe\n",
      "Moog Mother 32\n",
      "MPC Live para reparar o piezas\n",
      "Piano electrónico Celviano AP-22s\n",
      "waldorf blofeld para reparar\n",
      "MOCHIKA X2 AtomoSynth\n",
      "Kurzweil PC2X\n",
      "Access Matrix Programmer\n",
      "Korg/Arp Odyssey módulo rev.3.\n",
      "Dreadbox Hades\n",
      "Korg Microkorg XL\n",
      "TASCAM 246 PINCH ROLLER\n",
      "Sintetizador Yamaha SY22\n",
      "Delptronics Trigger man, ldb 2e, ldb 2x\n",
      "Compro: E-MU ORBIT 3\n",
      "Korg Volca Drum\n",
      "Moog vx-352\n",
      "Cartucho ROM yamaha dx7s\n",
      "Modcan Triple Oscilator\n",
      "Jomox Airbase 99\n",
      "Compro: Op-lab\n",
      "M Audio Keystation 61 MK3\n",
      "KORG M3-M XPANDED\n",
      "Yamaha Vrc 102 Wind Instrument Group\n",
      "Korg MS-10\n",
      "Secuenciador analógico Befaco Slicer V3\n",
      "Eowave Case\n",
      "Strymon AA1 (eurorack)\n",
      "Módulo de sonidos Pianobox USB de Miditech\n",
      "Dreadbox Erebus V2\n",
      "Vermona qMi eurorack como nuevo\n",
      "Roland JX-3P - Librería para NI Kontakt y Reason\n",
      "Korg Arp Odyssey Rev 3\n",
      "Roland Jd 800\n",
      "Teclado controlador Novation Launchkey 61 MK3\n",
      "Moog Moogerfooger MF-102 ring modulator\n",
      "E Mu Xtreme Lead 1\n",
      "Roland R8 Caja de Ritmos.\n",
      "MODAL COBALT 8\n",
      "Vendo Roland Superjupiter MKS 80 + Programmer MPG 80 en perfecto estado\n",
      "Compro: Compro Korg PA4x 76 teclas\n",
      "Roland fantom 07\n",
      "Flight Case Gator\n",
      "Hammond XK3c\n",
      "Akai MPC Live\n",
      "KORG 01W FD\n",
      "KORG SQ-64 secuenciador\n",
      "Arturia Matrix Brute\n",
      "Sintetizador Yamaha MO6\n",
      "Virus Indigo 2\n",
      "Nord electro 3 61\n",
      "Doepfer A 110 1 Vco\n",
      "Analogue Solutions Vostok 2020\n",
      "REBAJADO - Vendo Mutable Instruments Clouds original\n",
      "Korg P3 Piano Module\n",
      "Befaco Muxlicer + Mex Modulos\n",
      "Se vende King Korg\n",
      "Vendo Workstation Roland Fantom G8\n",
      "Arturia Matrixbrute\n",
      "Noise Engineering Basimilus Iteritas Alter BIA (eurorack)\n",
      "Compro: Korg Lambda\n",
      "Cambio: Korg MicroKorg\n",
      "Hammond XK3 System\n",
      "Soporte Guil\n",
      "Waldorf M Sintetizador Wavetable\n",
      "Korg Karma Full Expanded\n",
      "Knobula Poly Cinematic\n",
      "Yamaha Dx7s . Cambio\n",
      "Akai Advance 49\n",
      "Piano de escenario - teclado master DEXIBELL VIVO S7 PRO\n",
      "Novation 25 SL mk2 custom moog\n",
      "Maschine plus. y komplete Kontrol A 25\n",
      "Step Fader is a dual sequencer, here is a CV basic offset\n",
      "YAMAHA CP70 PIANOS para Yamaha Motif XF, Moxf, Montage y Modx\n",
      "Dreadbox NYX\n",
      "Compro: Squarp instruments Hermod\n",
      "Jaspers KR200-6-150RS\n",
      "Compro: Sensel Morph\n",
      "Teclado  Korg M-1(pila nueva y revision completa en s.tecnico + 5 tarjetas\n",
      "Sintetizador monofónico Korg MS-10 de los 70`s\n",
      "Electrofaustus Blackfly + Mooer reecho\n",
      "Korg  Karma\n",
      "Korg Volca Keys\n",
      "Compro: Kurzweil K2600 (76 teclas)\n",
      "Proyecto eurorack inacabado 6U 84HP\n",
      "Hammond A100  con Leslie 760\n",
      "Casio HZ-600 SD Synthesizer\n",
      "Leploop Multicassa v2\n",
      "Casio CT6000 REBAJA\n",
      "Waldorf Quantum\n",
      "Roland TR-727\n",
      "Soporte teclados / sintetizadores K&M Spider PRO. Accesorio IPAD\n",
      "Midi Fighter 3D\n",
      "Elektron Analog Keys\n",
      "Arturia Microlab\n",
      "Perceptron Atomo Synth semimodular(tambien cambio)\n",
      "MM Micromust\n",
      "Yamaha SY 77  +  Tarjetas de expansión\n",
      "Ik Multimedia Uno Synth Pro Desktop + Accesorios\n",
      "Roland A6\n",
      "Cambio: Busco alguno de estos sintes y caja de ritmo\n",
      "Roland Sh 101\n",
      "Korg pa4x 61\n",
      "Diskette sonidos para el sampler Korg DSM1\n",
      "Roland Pn Gr 50 01\n",
      "Korg Triton Le\n",
      "Sonidos Roland Jupiter X/Xm series y Zenology Pro Software\n",
      "Nord Stage 2 HA 88\n",
      "Ultimate Ax 48 Pro B\n",
      "Roland FA 08\n",
      "Tip Top Audio Circadian Rhythm\n",
      "Mutable Instruments Grids\n",
      "Dave Smith Mopho (Reservado)\n",
      "Módulos Mutant Hihats & Mutant Bassdrum\n",
      "Doepfer A100Lc9\n",
      "Grand piano Yamaha DGX 650\n",
      "Stand Digitakt + Digitone (ULTIMA UNIDAD)(ENV INCL)\n",
      "Befaco Rampage\n",
      "Cambio: CAMBIO MODX7 (o KORG PA3X LE) POR MODX8\n",
      "Módulos eurorack + cables y accesorios\n",
      "Komplete MKII S49\n",
      "Keytar inalámbrico ALESIS\n",
      "Yamaha Dx9\n",
      "Cassette datos para Korg DW6000\n",
      "DIGITONE Impecable\n",
      "4MS Stereo Triggered Sampler\n",
      "Arturia Microfreak\n",
      "Korg Radias - R\n",
      "Modulo Sintetizador Prophet 08 David Smith\n",
      "TG 500 Yamaha\n",
      "Moog System 15\n",
      "Befaco Lich\n",
      "Sonicware ELZ_1 - Sintetizador portátil\n",
      "Korg Volca Kick\n",
      "Vendo o cambio Kurzweil PC3A8\n",
      "Colección VOLCA  (Casi completa)+ extras\n",
      "Kawai Card Ram Dc 16\n",
      "ROLAND FANTOM XR\n",
      "Roland MC-707- VENDO Y CAMBIO - RESERVADO -\n",
      "Analogue Solutions Leipzig V3\n",
      "Doepfer A-199 Spring Reverb\n",
      "Roland Pn D50 02\n",
      "Arturia Beatstep Pro\n",
      "Nord Stage 2 EX 76\n",
      "Behringer Model D\n",
      "Korg Microsampler\n",
      "Eric Synths Pico System III Desktop\n",
      "Procesador de Efectos Yamaha EMP-100 para GUITARRA / BAJO\n",
      "Korg Ms-20\n",
      "Compro: Mfb tanzbar 2\n",
      "Akai Pro MPD 32\n",
      "Yamaha Moxf8\n",
      "Quasimidi SIRIUS\n",
      "Vendo chipzs\n",
      "Teclado Controlador NI Komplete Kontrol MK3 49\n",
      "Korg M3 - Librería para NI Kontakt y Reason\n",
      "ACCESS VIRUS SNOW\n",
      "Deckard´s Dream\n",
      "YAMAHA RX-17. Caja de ritmos desktop digital. Posterior a RX11 / RX15\n",
      "MOTU MIDI Timepiece II\n",
      "Ajh Synth Dual Contour Black\n",
      "Eloquencer eurorack\n",
      "Akai MPK 88\n",
      "Sequential take 5\n",
      "Cassette datos para Korg Poly800-II\n",
      "Compro: compro ROLAND BOUTIQUE D-05\n",
      "Sintetizador  Roland Jupiter-4 Compuphonic\n",
      "Placa sampler SMP-R para Kurzweil K2000R\n",
      "Ob-06 con sonidos de pago\n",
      "Icon Ikeyboard 5X - teclado midi\n",
      "Dreadbox Hysteria\n",
      "M-AUDIO Keystation 49 MKIII\n",
      "Soma Lyra 8 Limited edition The Pacifist\n",
      "Secuenciador Analogue Systems RS-200 y Quantiser RS-260\n",
      "Mimeophon (eurorack)\n",
      "ALESIS ION\n",
      "Yamaha PSR-F51\n",
      "Korg Polysix\n",
      "Korg Volca FM\n",
      "Access VIRUS A\n",
      "Moog Voyager Electric Blue Edition\n",
      "Korg Trident mk I\n",
      "Maleta Sintetizador 61\n",
      "Cambio: Noise Engineering Basimilus Iteritas\n",
      "Roland VP 03 + K-25M + decksaver + envio\n",
      "Rebel Technology Chronos MkII\n",
      "Hardcase con ruedas para teclado de 76 teclas\n",
      "Roland Jupiter 4\n",
      "Compro: Tarjeta Korg Wavestation WSC-3S Synth & Time Slice\n",
      "Arturia ORIGIN\n",
      "Funda cubrepolvo a la medida para Moog Prodigy\n",
      "Sequential Circuits Pro-One\n",
      "Behringer ms 1\n",
      "Yamaha SK20 String Machine\n",
      "UNO SYNTH PRO\n",
      "Mini Korg 700 Fs ( TAMBIEN CAMBIOS )\n",
      "Casiotone 701\n",
      "Órgano Realejo de tubos totalmente artesanal\n",
      "Clon de Mutable Instruments Frames\n",
      "Piano electrico vertical Thomann Dp- 51\n",
      "ELOQUENCER WINTER MODULAR\n",
      "Material a la venta en Moogchild Synthdrome\n",
      "Arturia Drumbrute Impact + decksaver\n",
      "Teclado midi 61 teclas\n",
      "4ms Row Power\n",
      "Novation Circuit\n",
      "Audiothingies CED tuner/afinador eurorack\n",
      "Yamaha EX5\n",
      "keylab 49 mk2 negro\n",
      "KORG PA2X - PA 3X  Tarjeta Ram 128mb  - MANUAL DE OPERARIO KORG PA2X\n",
      "Malekko Varigate 4+\n",
      "Leslie 760 N Autónomo.\n",
      "Yamaha Vrc 106 Data Rom\n",
      "Korg Volca Modular\n",
      "Roland boutique ju-06a + KM-25\n",
      "Korg MiniKorg 700 Fs - Nuevo\n",
      "Compro: Befaco Even VCO\n",
      "Thomann Keyboard Bag 6\n",
      "Elektron analog rytm mk1\n",
      "Yamaha KX-8\n",
      "2 buses y fuente para modular (la caja sale gratis)\n",
      "Op-1 2021 segunda generación\n",
      "Korg CX3 70's Hammond\n",
      "AKAI LPD 8\n",
      "Mutable Instruments Clouds\n",
      "Compro: Compro sintetizadores antiguos averiados, no importa el estado\n",
      "Clavia Nord Lead A1\n",
      "Korg Drv 2000\n"
     ]
    },
    {
     "name": "stdout",
     "output_type": "stream",
     "text": [
      "Doepfer A-199 Spring Reverb Vintage Edition\n",
      "arturia keylab essential 61 black\n",
      "Roland T-8 aira compact beat machine\n",
      "Elektron Octatrack MK1\n",
      "Erica Synths Zen Delay\n",
      "Doepfer A-156 Vintage Edition\n",
      "Roland jupiter Xm\n",
      "Módulo U-He CVilazation\n",
      "Studiologic VMK 176 Plus Midi Piano Controller\n",
      "Korg 05R/W – módulo sintetizador\n",
      "Phat Analog III para Yamaha Motif XS, Motif XF, Moxf, Montage y Modx\n",
      "Yamaha sy 55\n",
      "Roland R8 Caja de ritmos\n",
      "Behringer 960 Sequential Controller\n",
      "Arturia Origin Desktop en perfecto estado\n",
      "Acces Virus C\n",
      "Taburete de tambor acolchado\n",
      "Compro: Korg Monopoly\n",
      "Yamaha Cs1x\n",
      "Arturia Minibrute 2 Noir\n",
      "Elta Music Solar 50 Yellow + Soft Bag + 12 Cartridge\n",
      "Hammond B3 Portable + Leslie\n",
      "Befaco Chopping Kinky\n",
      "Moog theremini nuevo\n",
      "kurzweil pc3 le6\n",
      "PO-33 K.O! & PO-24 Office (teenage engineering)\n",
      "E-mu Audity 2000\n",
      "Erica Synths Pico Trigger patern generator\n",
      "Arranger Roland E-5 síntesis L/A en estado espectacular\n",
      "Tarjetas Roland SR-JV80 para Sintetizadores JV_XV_XP\n",
      "Bastl Instruments RUMBURACK 2 sintetizador modular nuevo\n",
      "Intellijel Rubicon\n",
      "C7  1  PIANOS para Yamaha Motif XF, MOXF, Montage y MODX\n",
      "Elektron Analog Four MKII\n",
      "Yamaha MOTIF XF x maleta\n",
      "Akai MPC1000 JJOS2 + 128 mb\n",
      "YAMANA MOXF6\n",
      "DEEPMIND 12\n",
      "M303 Acid lab\n",
      "K&M 18860 Spider Pro SI\n",
      "Sintetizador Yamaha CS5\n",
      "Amplificador para teclados Peavey KB-100\n",
      "Arturia RackBrute 3U\n",
      "Intellijel Umidi 1u\n",
      "Stardust Synth cover para Korg ARP Odyssey (mini)\n",
      "Novation Remote SL\n",
      "THE ORB FUTURE RETRO secuenciador MIDI y CV gate\n",
      "Paratek Neon Black\n",
      "Akai MPC Renaissance\n",
      "Mpc live 2\n",
      "Roland JD XA \"Reestreno\"\n",
      "Behringer Model D\n",
      "Roland MC 505 Groovebox (No Cambios)\n",
      "Qu bit Pulsar\n",
      "Roland Enhancia Neova  ( 3 Unidades disponibles )\n",
      "Yamaha RX7\n",
      "Elektron Rytm MKI\n",
      "Elektron analog Rythm MKII\n",
      "KORG  VOCODER VC10\n",
      "Mutable Instruments Beads Modulo Eurorack\n",
      "Teclado Casio vintage SK-1\n",
      "VERMONA  DRM1 MKiii versión triggers\n",
      "Sequential Prophet REV2-8\n",
      "Intellijel Audio 1/0 1U\n",
      "Lote de manuales EMU, Korg, Roland, Kawai\n",
      "Doepfer A-100 LC1 Case Eurorack\n",
      "NI Kore 2\n",
      "MXR Analog Chorus\n",
      "Moog Vx 351\n",
      "Elektron Machinedrum sps-1 mk1\n",
      "Leslie 815  Proline\n",
      "Roland Tr 08\n",
      "MONTAGE 6 ¡¡ Sin desembalar !!\n",
      "Korg Minilogue XD Module\n",
      "Compro: Roland MC 505 averiada\n",
      "Compro: Compro MOOG CP-251\n",
      "Ladik Q 010 Easy Quantizer\n",
      "Galactic Ascensión para MODX y Montage + regalo\n",
      "Cassette datos para el Korg DW8000\n",
      "KORG SV-1 (88 teclas)\n",
      "Roland JX3P + flight case a medida\n",
      "Roland JU 06A\n",
      "Arranger vintage Yamaha PSR-6300\n",
      "Piano eléctrico YAMAHA YPT-200\n",
      "QU-BIT RT60 (eurorack)\n",
      "Mode Maschines Xoxbox\n",
      "Mutable Instruments Grids modular - eurorack\n",
      "Korg NanoKey Studio\n",
      "Teclado TYROS3 YAMAHA en muy buenas condiciones\n",
      "Endorphin.es Queen of Pentacles\n",
      "Elektron analogrytm MKI\n",
      "Electribe 2 Sampler roja, impoluta con extras\n",
      "XAOC Odesza+ Hel Expander\n",
      "Yamaha DX7 II D\n",
      "ROYAL 1 PIANOS para Yamaha Motif XS, Motif XF, Moxf y Montage/Modx\n",
      "Roland JD XI\n",
      "Amplificador 122 Type Classictone\n",
      "Nord Stage 3 HP venta\n",
      "Roland Sonic Cell - Tarjeta de Sonido - Envío incluido.\n",
      "Black Corporation Deckard´s Voice\n",
      "Moog Grandmother\n",
      "Addac 804 Audio Integrator\n",
      "Doepfer A199 Spring Reverb\n",
      "KOR WAVESTATION - Tarjetas\n",
      "Roland Pn D50 00\n",
      "Soma Lyra 8 White Angel\n",
      "MEDELI AKX10\n",
      "Tarjeta Roland SR-JV80-01 POP\n",
      "YAMAHA MOTIF XF7\n",
      "Piano KAWAI\n",
      "Arturia Keylab 61 MkII\n",
      "Tip Top Audio Rs 909\n",
      "Korg Triton Le (tambien cambio) y cartuchoCasio CZ\n",
      "Erica Synths Bass Drums\n",
      "Cable IK multimedia adaptador midi a microjack (original)\n",
      "Doepfer A 118 Noise\n",
      "Behringer RD8\n",
      "Roland MC-303\n",
      "SonicCell Roland\n",
      "Roland Boutique TR-08 y Erica Synths PICO VCO2\n",
      "Teclado controlador Roland A-800 PRO\n",
      "Moog Prodigy\n",
      "Doepfer A-131\n",
      "O cambio Módulos Eurorack\n",
      "Sintetizador analógico Oberheim Matrix 6\n",
      "Controlador Midi Roland A88 Ivory Feel\n",
      "Estuche funda para teclado\n",
      "Arturia Matrixbrute\n",
      "Korg Ms20 IC\n",
      "DSI Prophet 08 - Librería para NI Kontakt y Reason\n",
      "Cambio: Virus ti  Soundbanks Todos los bancos hasta la fecha  \" Ahora también con Viper vst \"\n",
      "Roland Fantom 6\n",
      "Proteus/2 E-mu Systems 16 bit Multi-Timbral Digital Sound Module XR\n",
      "Korg T3 Workstation\n",
      "Eurorack Case de aluminio (3 filas 85hp) +  Yarns (Mutable Instruments)\n",
      "Roland JX3p\n",
      "Modulo Eurorack Waldorf Dual VCA\n",
      "Lote 10 revistas Keyboard Musica y Tecnología\n",
      "Banananuts pack Befaco Eurorack\n",
      "Arturia Drumbrute Impact\n",
      "Sequenz Standard-M-Sv Medium\n",
      "Teclas y piezas para Roland, Korg, Yamaha, Novation... (Update 11/2/2022)\n",
      "Korg Volca Keys\n",
      "Packs de sonidos para máquinas Elektron\n",
      "Ferrofish A32 Ad/Da Converter\n",
      "Roland MSL-15 Supercard MSL15 Tarjetas TN-SC1 del 1 al 14\n",
      "Yamaha Motif xs8\n",
      "Tarjeta Smart media 128mb mas adaptador\n",
      "módulo pianos roland p-330\n",
      "Akemie Castle - ALM Busy Circuits\n",
      "Compro: Studiologic 73\n",
      "Waldorf micro Q keyboard\n",
      "Kurzweil Pc3 LE8\n",
      "Groovebox MC 303\n",
      "Compro: Proteus 2000\n",
      "Korg Arp Odyssey\n",
      "Akai S3000XL\n",
      "vendo SANSON Sistema de presentación Concert 288\n"
     ]
    }
   ],
   "source": [
    "list_brand = []\n",
    "list_model = []\n",
    "list_price = []\n",
    "list_user = []\n",
    "list_city = []\n",
    "list_published = []\n",
    "list_expire = []\n",
    "list_times_seen= [] \n",
    "list_date = []\n",
    "list_dates = []\n",
    "list_sebusca = []\n",
    "\n",
    "\n",
    "for i in os.listdir('.'): # '.' hace referencia al directorio donde está apuntando en htmls\n",
    "\n",
    "    with open(i, 'r') as f:\n",
    "        pagina = f.read()\n",
    "        soup = BeautifulSoup(pagina, 'html.parser')\n",
    "        descripcion = soup.find('h1').text\n",
    "        \n",
    "        \n",
    "        # ---   title\n",
    "        title = soup.find('h1',class_='title') \n",
    "        pattern_title = \"(?<=\\\">).+(?=<\\/)\"\n",
    "        \n",
    "        title = get_data(title,pattern_title)\n",
    "        \n",
    "        print(descripcion)\n",
    "        \n",
    "        # ---   brand\n",
    "        #pattern_brand = \"^\\w+(?=\\s)\"\n",
    "        #brand = get_data(descripcion,pattern_brand) # brand\n",
    "        #list_brand.append(brand)\n",
    "        \n",
    "            \n",
    "\n",
    "        # ---   model\n",
    "        pattern_model = '(?<=\\s)\\w.+(?=\\s)'\n",
    "        model = get_data(descripcion, pattern_model) # model\n",
    "        # list_model.append(model)\n",
    "        \n",
    "        if descripcion in sintes:\n",
    "            list_brand.append(descripcion)\n",
    "            list_model.append(model)\n",
    "            \n",
    "            print()\n",
    "        \n",
    "        # --- price\n",
    "    \n",
    "        try:\n",
    "            price = soup.find('div',class_='ad-price').text\n",
    "            price = int(price.split()[0])\n",
    "            list_price.append(price)\n",
    "        except:\n",
    "            price = 0\n",
    "            list_price.append(price)\n",
    "            \n",
    "            \n",
    "        # --- user name\n",
    "\n",
    "        user = soup.find('div',class_='col-lg-7').a.text\n",
    "        list_user.append(user)\n",
    "    \n",
    "        # --- city\n",
    "    \n",
    "        city = soup.find('div',class_='col-lg-7').div.strong.text\n",
    "        list_city.append(city)\n",
    "        \n",
    "        # --- published\n",
    "    \n",
    "        published = soup.find('div',class_='col-lg-7').div.text.split()[3]\n",
    "        list_published.append(published)\n",
    "        \n",
    "        # --- expire \n",
    "    \n",
    "        expire = soup.find('div',class_=\"expira\").text.split()[1]\n",
    "        list_expire.append(expire)\n",
    "        \n",
    "        # --- times seen\n",
    "        seen = soup.find('div',class_=\"expira\").text.split()[4]\n",
    "        list_times_seen.append(seen)\n",
    "    "
   ]
  },
  {
   "cell_type": "markdown",
   "metadata": {},
   "source": [
    "### Data extraction\n",
    "\n",
    "The next step is to know what date we have on the day on which the data extraction is done, this an important fact since it can be useful when doing the analysis as to have a record of the ads over time."
   ]
  },
  {
   "cell_type": "code",
   "execution_count": 28,
   "metadata": {},
   "outputs": [
    {
     "data": {
      "text/plain": [
       "'12/8/2022'"
      ]
     },
     "execution_count": 28,
     "metadata": {},
     "output_type": "execute_result"
    }
   ],
   "source": [
    "hoy = dt.datetime.now()\n",
    "year=str(hoy.year)\n",
    "\n",
    "month=str(hoy.month)\n",
    "day=str(hoy.day)\n",
    "\n",
    "date_scrapped = day + '/' + month + '/' + year\n",
    "\n",
    "date_scrapped"
   ]
  },
  {
   "cell_type": "code",
   "execution_count": 41,
   "metadata": {},
   "outputs": [
    {
     "data": {
      "text/plain": [
       "6"
      ]
     },
     "execution_count": 41,
     "metadata": {},
     "output_type": "execute_result"
    }
   ],
   "source": [
    "len(description_splited)"
   ]
  },
  {
   "cell_type": "code",
   "execution_count": null,
   "metadata": {},
   "outputs": [],
   "source": []
  },
  {
   "cell_type": "code",
   "execution_count": 80,
   "metadata": {
    "scrolled": true
   },
   "outputs": [
    {
     "ename": "ValueError",
     "evalue": "Empty data passed with indices specified.",
     "output_type": "error",
     "traceback": [
      "\u001b[0;31m---------------------------------------------------------------------------\u001b[0m",
      "\u001b[0;31mValueError\u001b[0m                                Traceback (most recent call last)",
      "\u001b[0;32m~/anaconda3/envs/dataquest/lib/python3.8/site-packages/pandas/core/internals/managers.py\u001b[0m in \u001b[0;36mcreate_block_manager_from_arrays\u001b[0;34m(arrays, names, axes)\u001b[0m\n\u001b[1;32m   1670\u001b[0m         \u001b[0mblocks\u001b[0m \u001b[0;34m=\u001b[0m \u001b[0mform_blocks\u001b[0m\u001b[0;34m(\u001b[0m\u001b[0marrays\u001b[0m\u001b[0;34m,\u001b[0m \u001b[0mnames\u001b[0m\u001b[0;34m,\u001b[0m \u001b[0maxes\u001b[0m\u001b[0;34m)\u001b[0m\u001b[0;34m\u001b[0m\u001b[0;34m\u001b[0m\u001b[0m\n\u001b[0;32m-> 1671\u001b[0;31m         \u001b[0mmgr\u001b[0m \u001b[0;34m=\u001b[0m \u001b[0mBlockManager\u001b[0m\u001b[0;34m(\u001b[0m\u001b[0mblocks\u001b[0m\u001b[0;34m,\u001b[0m \u001b[0maxes\u001b[0m\u001b[0;34m)\u001b[0m\u001b[0;34m\u001b[0m\u001b[0;34m\u001b[0m\u001b[0m\n\u001b[0m\u001b[1;32m   1672\u001b[0m         \u001b[0mmgr\u001b[0m\u001b[0;34m.\u001b[0m\u001b[0m_consolidate_inplace\u001b[0m\u001b[0;34m(\u001b[0m\u001b[0;34m)\u001b[0m\u001b[0;34m\u001b[0m\u001b[0;34m\u001b[0m\u001b[0m\n",
      "\u001b[0;32m~/anaconda3/envs/dataquest/lib/python3.8/site-packages/pandas/core/internals/managers.py\u001b[0m in \u001b[0;36m__init__\u001b[0;34m(self, blocks, axes, do_integrity_check)\u001b[0m\n\u001b[1;32m    138\u001b[0m         \u001b[0;32mif\u001b[0m \u001b[0mdo_integrity_check\u001b[0m\u001b[0;34m:\u001b[0m\u001b[0;34m\u001b[0m\u001b[0;34m\u001b[0m\u001b[0m\n\u001b[0;32m--> 139\u001b[0;31m             \u001b[0mself\u001b[0m\u001b[0;34m.\u001b[0m\u001b[0m_verify_integrity\u001b[0m\u001b[0;34m(\u001b[0m\u001b[0;34m)\u001b[0m\u001b[0;34m\u001b[0m\u001b[0;34m\u001b[0m\u001b[0m\n\u001b[0m\u001b[1;32m    140\u001b[0m \u001b[0;34m\u001b[0m\u001b[0m\n",
      "\u001b[0;32m~/anaconda3/envs/dataquest/lib/python3.8/site-packages/pandas/core/internals/managers.py\u001b[0m in \u001b[0;36m_verify_integrity\u001b[0;34m(self)\u001b[0m\n\u001b[1;32m    333\u001b[0m             \u001b[0;32mif\u001b[0m \u001b[0mblock\u001b[0m\u001b[0;34m.\u001b[0m\u001b[0m_verify_integrity\u001b[0m \u001b[0;32mand\u001b[0m \u001b[0mblock\u001b[0m\u001b[0;34m.\u001b[0m\u001b[0mshape\u001b[0m\u001b[0;34m[\u001b[0m\u001b[0;36m1\u001b[0m\u001b[0;34m:\u001b[0m\u001b[0;34m]\u001b[0m \u001b[0;34m!=\u001b[0m \u001b[0mmgr_shape\u001b[0m\u001b[0;34m[\u001b[0m\u001b[0;36m1\u001b[0m\u001b[0;34m:\u001b[0m\u001b[0;34m]\u001b[0m\u001b[0;34m:\u001b[0m\u001b[0;34m\u001b[0m\u001b[0;34m\u001b[0m\u001b[0m\n\u001b[0;32m--> 334\u001b[0;31m                 \u001b[0mconstruction_error\u001b[0m\u001b[0;34m(\u001b[0m\u001b[0mtot_items\u001b[0m\u001b[0;34m,\u001b[0m \u001b[0mblock\u001b[0m\u001b[0;34m.\u001b[0m\u001b[0mshape\u001b[0m\u001b[0;34m[\u001b[0m\u001b[0;36m1\u001b[0m\u001b[0;34m:\u001b[0m\u001b[0;34m]\u001b[0m\u001b[0;34m,\u001b[0m \u001b[0mself\u001b[0m\u001b[0;34m.\u001b[0m\u001b[0maxes\u001b[0m\u001b[0;34m)\u001b[0m\u001b[0;34m\u001b[0m\u001b[0;34m\u001b[0m\u001b[0m\n\u001b[0m\u001b[1;32m    335\u001b[0m         \u001b[0;32mif\u001b[0m \u001b[0mlen\u001b[0m\u001b[0;34m(\u001b[0m\u001b[0mself\u001b[0m\u001b[0;34m.\u001b[0m\u001b[0mitems\u001b[0m\u001b[0;34m)\u001b[0m \u001b[0;34m!=\u001b[0m \u001b[0mtot_items\u001b[0m\u001b[0;34m:\u001b[0m\u001b[0;34m\u001b[0m\u001b[0;34m\u001b[0m\u001b[0m\n",
      "\u001b[0;32m~/anaconda3/envs/dataquest/lib/python3.8/site-packages/pandas/core/internals/managers.py\u001b[0m in \u001b[0;36mconstruction_error\u001b[0;34m(tot_items, block_shape, axes, e)\u001b[0m\n\u001b[1;32m   1692\u001b[0m     \u001b[0;32mif\u001b[0m \u001b[0mblock_shape\u001b[0m\u001b[0;34m[\u001b[0m\u001b[0;36m0\u001b[0m\u001b[0;34m]\u001b[0m \u001b[0;34m==\u001b[0m \u001b[0;36m0\u001b[0m\u001b[0;34m:\u001b[0m\u001b[0;34m\u001b[0m\u001b[0;34m\u001b[0m\u001b[0m\n\u001b[0;32m-> 1693\u001b[0;31m         \u001b[0;32mraise\u001b[0m \u001b[0mValueError\u001b[0m\u001b[0;34m(\u001b[0m\u001b[0;34m\"Empty data passed with indices specified.\"\u001b[0m\u001b[0;34m)\u001b[0m\u001b[0;34m\u001b[0m\u001b[0;34m\u001b[0m\u001b[0m\n\u001b[0m\u001b[1;32m   1694\u001b[0m     \u001b[0;32mraise\u001b[0m \u001b[0mValueError\u001b[0m\u001b[0;34m(\u001b[0m\u001b[0;34mf\"Shape of passed values is {passed}, indices imply {implied}\"\u001b[0m\u001b[0;34m)\u001b[0m\u001b[0;34m\u001b[0m\u001b[0;34m\u001b[0m\u001b[0m\n",
      "\u001b[0;31mValueError\u001b[0m: Empty data passed with indices specified.",
      "\nDuring handling of the above exception, another exception occurred:\n",
      "\u001b[0;31mValueError\u001b[0m                                Traceback (most recent call last)",
      "\u001b[0;32m<ipython-input-80-bbf338777017>\u001b[0m in \u001b[0;36m<module>\u001b[0;34m\u001b[0m\n\u001b[0;32m----> 1\u001b[0;31m df = pd.DataFrame({'brand':list_brand,\n\u001b[0m\u001b[1;32m      2\u001b[0m                    \u001b[0;34m'model'\u001b[0m\u001b[0;34m:\u001b[0m\u001b[0mlist_model\u001b[0m\u001b[0;34m,\u001b[0m\u001b[0;34m\u001b[0m\u001b[0;34m\u001b[0m\u001b[0m\n\u001b[1;32m      3\u001b[0m                    \u001b[0;34m'price'\u001b[0m\u001b[0;34m:\u001b[0m\u001b[0mlist_price\u001b[0m\u001b[0;34m,\u001b[0m\u001b[0;34m\u001b[0m\u001b[0;34m\u001b[0m\u001b[0m\n\u001b[1;32m      4\u001b[0m                    \u001b[0;34m'user'\u001b[0m\u001b[0;34m:\u001b[0m\u001b[0mlist_user\u001b[0m\u001b[0;34m,\u001b[0m\u001b[0;34m\u001b[0m\u001b[0;34m\u001b[0m\u001b[0m\n\u001b[1;32m      5\u001b[0m                    \u001b[0;34m'city'\u001b[0m\u001b[0;34m:\u001b[0m\u001b[0mlist_city\u001b[0m\u001b[0;34m,\u001b[0m\u001b[0;34m\u001b[0m\u001b[0;34m\u001b[0m\u001b[0m\n",
      "\u001b[0;32m~/anaconda3/envs/dataquest/lib/python3.8/site-packages/pandas/core/frame.py\u001b[0m in \u001b[0;36m__init__\u001b[0;34m(self, data, index, columns, dtype, copy)\u001b[0m\n\u001b[1;32m    433\u001b[0m             )\n\u001b[1;32m    434\u001b[0m         \u001b[0;32melif\u001b[0m \u001b[0misinstance\u001b[0m\u001b[0;34m(\u001b[0m\u001b[0mdata\u001b[0m\u001b[0;34m,\u001b[0m \u001b[0mdict\u001b[0m\u001b[0;34m)\u001b[0m\u001b[0;34m:\u001b[0m\u001b[0;34m\u001b[0m\u001b[0;34m\u001b[0m\u001b[0m\n\u001b[0;32m--> 435\u001b[0;31m             \u001b[0mmgr\u001b[0m \u001b[0;34m=\u001b[0m \u001b[0minit_dict\u001b[0m\u001b[0;34m(\u001b[0m\u001b[0mdata\u001b[0m\u001b[0;34m,\u001b[0m \u001b[0mindex\u001b[0m\u001b[0;34m,\u001b[0m \u001b[0mcolumns\u001b[0m\u001b[0;34m,\u001b[0m \u001b[0mdtype\u001b[0m\u001b[0;34m=\u001b[0m\u001b[0mdtype\u001b[0m\u001b[0;34m)\u001b[0m\u001b[0;34m\u001b[0m\u001b[0;34m\u001b[0m\u001b[0m\n\u001b[0m\u001b[1;32m    436\u001b[0m         \u001b[0;32melif\u001b[0m \u001b[0misinstance\u001b[0m\u001b[0;34m(\u001b[0m\u001b[0mdata\u001b[0m\u001b[0;34m,\u001b[0m \u001b[0mma\u001b[0m\u001b[0;34m.\u001b[0m\u001b[0mMaskedArray\u001b[0m\u001b[0;34m)\u001b[0m\u001b[0;34m:\u001b[0m\u001b[0;34m\u001b[0m\u001b[0;34m\u001b[0m\u001b[0m\n\u001b[1;32m    437\u001b[0m             \u001b[0;32mimport\u001b[0m \u001b[0mnumpy\u001b[0m\u001b[0;34m.\u001b[0m\u001b[0mma\u001b[0m\u001b[0;34m.\u001b[0m\u001b[0mmrecords\u001b[0m \u001b[0;32mas\u001b[0m \u001b[0mmrecords\u001b[0m\u001b[0;34m\u001b[0m\u001b[0;34m\u001b[0m\u001b[0m\n",
      "\u001b[0;32m~/anaconda3/envs/dataquest/lib/python3.8/site-packages/pandas/core/internals/construction.py\u001b[0m in \u001b[0;36minit_dict\u001b[0;34m(data, index, columns, dtype)\u001b[0m\n\u001b[1;32m    252\u001b[0m             \u001b[0marr\u001b[0m \u001b[0;32mif\u001b[0m \u001b[0;32mnot\u001b[0m \u001b[0mis_datetime64tz_dtype\u001b[0m\u001b[0;34m(\u001b[0m\u001b[0marr\u001b[0m\u001b[0;34m)\u001b[0m \u001b[0;32melse\u001b[0m \u001b[0marr\u001b[0m\u001b[0;34m.\u001b[0m\u001b[0mcopy\u001b[0m\u001b[0;34m(\u001b[0m\u001b[0;34m)\u001b[0m \u001b[0;32mfor\u001b[0m \u001b[0marr\u001b[0m \u001b[0;32min\u001b[0m \u001b[0marrays\u001b[0m\u001b[0;34m\u001b[0m\u001b[0;34m\u001b[0m\u001b[0m\n\u001b[1;32m    253\u001b[0m         ]\n\u001b[0;32m--> 254\u001b[0;31m     \u001b[0;32mreturn\u001b[0m \u001b[0marrays_to_mgr\u001b[0m\u001b[0;34m(\u001b[0m\u001b[0marrays\u001b[0m\u001b[0;34m,\u001b[0m \u001b[0mdata_names\u001b[0m\u001b[0;34m,\u001b[0m \u001b[0mindex\u001b[0m\u001b[0;34m,\u001b[0m \u001b[0mcolumns\u001b[0m\u001b[0;34m,\u001b[0m \u001b[0mdtype\u001b[0m\u001b[0;34m=\u001b[0m\u001b[0mdtype\u001b[0m\u001b[0;34m)\u001b[0m\u001b[0;34m\u001b[0m\u001b[0;34m\u001b[0m\u001b[0m\n\u001b[0m\u001b[1;32m    255\u001b[0m \u001b[0;34m\u001b[0m\u001b[0m\n\u001b[1;32m    256\u001b[0m \u001b[0;34m\u001b[0m\u001b[0m\n",
      "\u001b[0;32m~/anaconda3/envs/dataquest/lib/python3.8/site-packages/pandas/core/internals/construction.py\u001b[0m in \u001b[0;36marrays_to_mgr\u001b[0;34m(arrays, arr_names, index, columns, dtype)\u001b[0m\n\u001b[1;32m     72\u001b[0m     \u001b[0maxes\u001b[0m \u001b[0;34m=\u001b[0m \u001b[0;34m[\u001b[0m\u001b[0mensure_index\u001b[0m\u001b[0;34m(\u001b[0m\u001b[0mcolumns\u001b[0m\u001b[0;34m)\u001b[0m\u001b[0;34m,\u001b[0m \u001b[0mindex\u001b[0m\u001b[0;34m]\u001b[0m\u001b[0;34m\u001b[0m\u001b[0;34m\u001b[0m\u001b[0m\n\u001b[1;32m     73\u001b[0m \u001b[0;34m\u001b[0m\u001b[0m\n\u001b[0;32m---> 74\u001b[0;31m     \u001b[0;32mreturn\u001b[0m \u001b[0mcreate_block_manager_from_arrays\u001b[0m\u001b[0;34m(\u001b[0m\u001b[0marrays\u001b[0m\u001b[0;34m,\u001b[0m \u001b[0marr_names\u001b[0m\u001b[0;34m,\u001b[0m \u001b[0maxes\u001b[0m\u001b[0;34m)\u001b[0m\u001b[0;34m\u001b[0m\u001b[0;34m\u001b[0m\u001b[0m\n\u001b[0m\u001b[1;32m     75\u001b[0m \u001b[0;34m\u001b[0m\u001b[0m\n\u001b[1;32m     76\u001b[0m \u001b[0;34m\u001b[0m\u001b[0m\n",
      "\u001b[0;32m~/anaconda3/envs/dataquest/lib/python3.8/site-packages/pandas/core/internals/managers.py\u001b[0m in \u001b[0;36mcreate_block_manager_from_arrays\u001b[0;34m(arrays, names, axes)\u001b[0m\n\u001b[1;32m   1673\u001b[0m         \u001b[0;32mreturn\u001b[0m \u001b[0mmgr\u001b[0m\u001b[0;34m\u001b[0m\u001b[0;34m\u001b[0m\u001b[0m\n\u001b[1;32m   1674\u001b[0m     \u001b[0;32mexcept\u001b[0m \u001b[0mValueError\u001b[0m \u001b[0;32mas\u001b[0m \u001b[0me\u001b[0m\u001b[0;34m:\u001b[0m\u001b[0;34m\u001b[0m\u001b[0;34m\u001b[0m\u001b[0m\n\u001b[0;32m-> 1675\u001b[0;31m         \u001b[0mconstruction_error\u001b[0m\u001b[0;34m(\u001b[0m\u001b[0mlen\u001b[0m\u001b[0;34m(\u001b[0m\u001b[0marrays\u001b[0m\u001b[0;34m)\u001b[0m\u001b[0;34m,\u001b[0m \u001b[0marrays\u001b[0m\u001b[0;34m[\u001b[0m\u001b[0;36m0\u001b[0m\u001b[0;34m]\u001b[0m\u001b[0;34m.\u001b[0m\u001b[0mshape\u001b[0m\u001b[0;34m,\u001b[0m \u001b[0maxes\u001b[0m\u001b[0;34m,\u001b[0m \u001b[0me\u001b[0m\u001b[0;34m)\u001b[0m\u001b[0;34m\u001b[0m\u001b[0;34m\u001b[0m\u001b[0m\n\u001b[0m\u001b[1;32m   1676\u001b[0m \u001b[0;34m\u001b[0m\u001b[0m\n\u001b[1;32m   1677\u001b[0m \u001b[0;34m\u001b[0m\u001b[0m\n",
      "\u001b[0;32m~/anaconda3/envs/dataquest/lib/python3.8/site-packages/pandas/core/internals/managers.py\u001b[0m in \u001b[0;36mconstruction_error\u001b[0;34m(tot_items, block_shape, axes, e)\u001b[0m\n\u001b[1;32m   1691\u001b[0m         \u001b[0;32mraise\u001b[0m \u001b[0me\u001b[0m\u001b[0;34m\u001b[0m\u001b[0;34m\u001b[0m\u001b[0m\n\u001b[1;32m   1692\u001b[0m     \u001b[0;32mif\u001b[0m \u001b[0mblock_shape\u001b[0m\u001b[0;34m[\u001b[0m\u001b[0;36m0\u001b[0m\u001b[0;34m]\u001b[0m \u001b[0;34m==\u001b[0m \u001b[0;36m0\u001b[0m\u001b[0;34m:\u001b[0m\u001b[0;34m\u001b[0m\u001b[0;34m\u001b[0m\u001b[0m\n\u001b[0;32m-> 1693\u001b[0;31m         \u001b[0;32mraise\u001b[0m \u001b[0mValueError\u001b[0m\u001b[0;34m(\u001b[0m\u001b[0;34m\"Empty data passed with indices specified.\"\u001b[0m\u001b[0;34m)\u001b[0m\u001b[0;34m\u001b[0m\u001b[0;34m\u001b[0m\u001b[0m\n\u001b[0m\u001b[1;32m   1694\u001b[0m     \u001b[0;32mraise\u001b[0m \u001b[0mValueError\u001b[0m\u001b[0;34m(\u001b[0m\u001b[0;34mf\"Shape of passed values is {passed}, indices imply {implied}\"\u001b[0m\u001b[0;34m)\u001b[0m\u001b[0;34m\u001b[0m\u001b[0;34m\u001b[0m\u001b[0m\n\u001b[1;32m   1695\u001b[0m \u001b[0;34m\u001b[0m\u001b[0m\n",
      "\u001b[0;31mValueError\u001b[0m: Empty data passed with indices specified."
     ]
    }
   ],
   "source": [
    "df = pd.DataFrame({'brand':list_brand,\n",
    "                   'model':list_model,\n",
    "                   'price':list_price,\n",
    "                   'user':list_user,\n",
    "                   'city':list_city,\n",
    "                   'published':list_published,\n",
    "                   'expires':list_expire,\n",
    "                   'date_scraped':date_scrapped,\n",
    "                   'times_seen':list_times_seen,\n",
    "                  },index = list(range(1,len(list_expire)+1)))\n",
    "\n",
    "df"
   ]
  },
  {
   "cell_type": "code",
   "execution_count": null,
   "metadata": {},
   "outputs": [],
   "source": [
    "len(list_brand)"
   ]
  },
  {
   "cell_type": "code",
   "execution_count": 78,
   "metadata": {},
   "outputs": [],
   "source": [
    "list_brand.clear()\n",
    "list_model.clear()\n",
    "list_price.clear()\n",
    "list_user.clear()\n",
    "list_city.clear()\n",
    "list_published.clear()\n",
    "list_expire.clear()\n",
    "list_times_seen.clear()\n",
    "list_date.clear()"
   ]
  },
  {
   "cell_type": "code",
   "execution_count": null,
   "metadata": {},
   "outputs": [],
   "source": [
    "len(list_model)"
   ]
  },
  {
   "cell_type": "code",
   "execution_count": null,
   "metadata": {},
   "outputs": [],
   "source": [
    "df['expires'].isnull().sum() # a row with no values"
   ]
  },
  {
   "cell_type": "code",
   "execution_count": null,
   "metadata": {
    "scrolled": true
   },
   "outputs": [],
   "source": [
    "df[df['expires'].isnull()] "
   ]
  },
  {
   "cell_type": "code",
   "execution_count": null,
   "metadata": {},
   "outputs": [],
   "source": [
    "df.dropna(inplace=True) # we delete the row"
   ]
  },
  {
   "cell_type": "code",
   "execution_count": null,
   "metadata": {},
   "outputs": [],
   "source": [
    "df.to_csv('df_hispasonic.csv'.format(date=date_scrapped), index = False)"
   ]
  }
 ],
 "metadata": {
  "kernelspec": {
   "display_name": "Python 3",
   "language": "python",
   "name": "python3"
  },
  "language_info": {
   "codemirror_mode": {
    "name": "ipython",
    "version": 3
   },
   "file_extension": ".py",
   "mimetype": "text/x-python",
   "name": "python",
   "nbconvert_exporter": "python",
   "pygments_lexer": "ipython3",
   "version": "3.8.2"
  },
  "vscode": {
   "interpreter": {
    "hash": "1b08ca7490639a610c09048f473d1b1514aaa85648d7e388c5f947d92672b22b"
   }
  }
 },
 "nbformat": 4,
 "nbformat_minor": 5
}
