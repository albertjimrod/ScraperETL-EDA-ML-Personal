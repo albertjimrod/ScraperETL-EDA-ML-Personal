{
 "cells": [
  {
   "cell_type": "code",
   "execution_count": 1,
   "id": "aac4c533",
   "metadata": {},
   "outputs": [],
   "source": [
    "import os\n",
    "import pandas as pd\n",
    "import numpy as np\n",
    "import matplotlib as mpl\n",
    "from matplotlib import pyplot as plt\n",
    "import datetime as dt\n",
    "from sklearn.model_selection import train_test_split"
   ]
  },
  {
   "cell_type": "code",
   "execution_count": 2,
   "id": "63e03470",
   "metadata": {},
   "outputs": [],
   "source": [
    "pd.set_option('display.max_columns', None)\n",
    "pd.set_option('display.max_rows', None)"
   ]
  },
  {
   "cell_type": "code",
   "execution_count": 3,
   "id": "b95b1c54",
   "metadata": {},
   "outputs": [],
   "source": [
    "df = pd.read_csv(\"../project_5/csv/df_jan_clean.csv\")"
   ]
  },
  {
   "cell_type": "code",
   "execution_count": 4,
   "id": "b177b993",
   "metadata": {},
   "outputs": [
    {
     "name": "stdout",
     "output_type": "stream",
     "text": [
      "<class 'pandas.core.frame.DataFrame'>\n",
      "RangeIndex: 795 entries, 0 to 794\n",
      "Data columns (total 17 columns):\n",
      " #   Column            Non-Null Count  Dtype \n",
      "---  ------            --------------  ----- \n",
      " 0   Unnamed: 0        795 non-null    int64 \n",
      " 1   urgent            795 non-null    int64 \n",
      " 2   buy               795 non-null    int64 \n",
      " 3   change            795 non-null    int64 \n",
      " 4   sell              795 non-null    int64 \n",
      " 5   price             795 non-null    int64 \n",
      " 6   gift              795 non-null    int64 \n",
      " 7   search            795 non-null    int64 \n",
      " 8   repair            795 non-null    int64 \n",
      " 9   parts             795 non-null    int64 \n",
      " 10  synt_brand        795 non-null    object\n",
      " 11  description       794 non-null    object\n",
      " 12  city              795 non-null    object\n",
      " 13  seen              795 non-null    int64 \n",
      " 14  published_dt      795 non-null    object\n",
      " 15  expire_dt         795 non-null    object\n",
      " 16  date_scrapped_dt  795 non-null    object\n",
      "dtypes: int64(11), object(6)\n",
      "memory usage: 105.7+ KB\n"
     ]
    }
   ],
   "source": [
    "df.info()"
   ]
  },
  {
   "cell_type": "code",
   "execution_count": 5,
   "id": "30e9139c",
   "metadata": {},
   "outputs": [
    {
     "data": {
      "text/html": [
       "<div>\n",
       "<style scoped>\n",
       "    .dataframe tbody tr th:only-of-type {\n",
       "        vertical-align: middle;\n",
       "    }\n",
       "\n",
       "    .dataframe tbody tr th {\n",
       "        vertical-align: top;\n",
       "    }\n",
       "\n",
       "    .dataframe thead th {\n",
       "        text-align: right;\n",
       "    }\n",
       "</style>\n",
       "<table border=\"1\" class=\"dataframe\">\n",
       "  <thead>\n",
       "    <tr style=\"text-align: right;\">\n",
       "      <th></th>\n",
       "      <th>Unnamed: 0</th>\n",
       "      <th>urgent</th>\n",
       "      <th>buy</th>\n",
       "      <th>change</th>\n",
       "      <th>sell</th>\n",
       "      <th>price</th>\n",
       "      <th>gift</th>\n",
       "      <th>search</th>\n",
       "      <th>repair</th>\n",
       "      <th>parts</th>\n",
       "      <th>seen</th>\n",
       "    </tr>\n",
       "  </thead>\n",
       "  <tbody>\n",
       "    <tr>\n",
       "      <th>count</th>\n",
       "      <td>795.000000</td>\n",
       "      <td>795.000000</td>\n",
       "      <td>795.000000</td>\n",
       "      <td>795.000000</td>\n",
       "      <td>795.000000</td>\n",
       "      <td>795.000000</td>\n",
       "      <td>795.000000</td>\n",
       "      <td>795.000000</td>\n",
       "      <td>795.0</td>\n",
       "      <td>795.000000</td>\n",
       "      <td>795.000000</td>\n",
       "    </tr>\n",
       "    <tr>\n",
       "      <th>mean</th>\n",
       "      <td>405.500629</td>\n",
       "      <td>0.001258</td>\n",
       "      <td>0.021384</td>\n",
       "      <td>0.040252</td>\n",
       "      <td>0.943396</td>\n",
       "      <td>624.564780</td>\n",
       "      <td>0.001258</td>\n",
       "      <td>0.006289</td>\n",
       "      <td>0.0</td>\n",
       "      <td>0.001258</td>\n",
       "      <td>609.144654</td>\n",
       "    </tr>\n",
       "    <tr>\n",
       "      <th>std</th>\n",
       "      <td>234.108343</td>\n",
       "      <td>0.035466</td>\n",
       "      <td>0.144751</td>\n",
       "      <td>0.196672</td>\n",
       "      <td>0.231229</td>\n",
       "      <td>987.873816</td>\n",
       "      <td>0.035466</td>\n",
       "      <td>0.079105</td>\n",
       "      <td>0.0</td>\n",
       "      <td>0.035466</td>\n",
       "      <td>1323.739430</td>\n",
       "    </tr>\n",
       "    <tr>\n",
       "      <th>min</th>\n",
       "      <td>1.000000</td>\n",
       "      <td>0.000000</td>\n",
       "      <td>0.000000</td>\n",
       "      <td>0.000000</td>\n",
       "      <td>0.000000</td>\n",
       "      <td>0.000000</td>\n",
       "      <td>0.000000</td>\n",
       "      <td>0.000000</td>\n",
       "      <td>0.0</td>\n",
       "      <td>0.000000</td>\n",
       "      <td>4.000000</td>\n",
       "    </tr>\n",
       "    <tr>\n",
       "      <th>25%</th>\n",
       "      <td>202.500000</td>\n",
       "      <td>0.000000</td>\n",
       "      <td>0.000000</td>\n",
       "      <td>0.000000</td>\n",
       "      <td>1.000000</td>\n",
       "      <td>120.000000</td>\n",
       "      <td>0.000000</td>\n",
       "      <td>0.000000</td>\n",
       "      <td>0.0</td>\n",
       "      <td>0.000000</td>\n",
       "      <td>152.000000</td>\n",
       "    </tr>\n",
       "    <tr>\n",
       "      <th>50%</th>\n",
       "      <td>404.000000</td>\n",
       "      <td>0.000000</td>\n",
       "      <td>0.000000</td>\n",
       "      <td>0.000000</td>\n",
       "      <td>1.000000</td>\n",
       "      <td>300.000000</td>\n",
       "      <td>0.000000</td>\n",
       "      <td>0.000000</td>\n",
       "      <td>0.0</td>\n",
       "      <td>0.000000</td>\n",
       "      <td>312.000000</td>\n",
       "    </tr>\n",
       "    <tr>\n",
       "      <th>75%</th>\n",
       "      <td>609.500000</td>\n",
       "      <td>0.000000</td>\n",
       "      <td>0.000000</td>\n",
       "      <td>0.000000</td>\n",
       "      <td>1.000000</td>\n",
       "      <td>700.000000</td>\n",
       "      <td>0.000000</td>\n",
       "      <td>0.000000</td>\n",
       "      <td>0.0</td>\n",
       "      <td>0.000000</td>\n",
       "      <td>621.500000</td>\n",
       "    </tr>\n",
       "    <tr>\n",
       "      <th>max</th>\n",
       "      <td>809.000000</td>\n",
       "      <td>1.000000</td>\n",
       "      <td>1.000000</td>\n",
       "      <td>1.000000</td>\n",
       "      <td>1.000000</td>\n",
       "      <td>12000.000000</td>\n",
       "      <td>1.000000</td>\n",
       "      <td>1.000000</td>\n",
       "      <td>0.0</td>\n",
       "      <td>1.000000</td>\n",
       "      <td>22551.000000</td>\n",
       "    </tr>\n",
       "  </tbody>\n",
       "</table>\n",
       "</div>"
      ],
      "text/plain": [
       "       Unnamed: 0      urgent         buy      change        sell  \\\n",
       "count  795.000000  795.000000  795.000000  795.000000  795.000000   \n",
       "mean   405.500629    0.001258    0.021384    0.040252    0.943396   \n",
       "std    234.108343    0.035466    0.144751    0.196672    0.231229   \n",
       "min      1.000000    0.000000    0.000000    0.000000    0.000000   \n",
       "25%    202.500000    0.000000    0.000000    0.000000    1.000000   \n",
       "50%    404.000000    0.000000    0.000000    0.000000    1.000000   \n",
       "75%    609.500000    0.000000    0.000000    0.000000    1.000000   \n",
       "max    809.000000    1.000000    1.000000    1.000000    1.000000   \n",
       "\n",
       "              price        gift      search  repair       parts          seen  \n",
       "count    795.000000  795.000000  795.000000   795.0  795.000000    795.000000  \n",
       "mean     624.564780    0.001258    0.006289     0.0    0.001258    609.144654  \n",
       "std      987.873816    0.035466    0.079105     0.0    0.035466   1323.739430  \n",
       "min        0.000000    0.000000    0.000000     0.0    0.000000      4.000000  \n",
       "25%      120.000000    0.000000    0.000000     0.0    0.000000    152.000000  \n",
       "50%      300.000000    0.000000    0.000000     0.0    0.000000    312.000000  \n",
       "75%      700.000000    0.000000    0.000000     0.0    0.000000    621.500000  \n",
       "max    12000.000000    1.000000    1.000000     0.0    1.000000  22551.000000  "
      ]
     },
     "execution_count": 5,
     "metadata": {},
     "output_type": "execute_result"
    }
   ],
   "source": [
    "df.describe()"
   ]
  },
  {
   "cell_type": "code",
   "execution_count": 6,
   "id": "851f6c64",
   "metadata": {},
   "outputs": [],
   "source": [
    "df = df.drop(labels=['description'], axis = 1)"
   ]
  },
  {
   "cell_type": "code",
   "execution_count": 7,
   "id": "59806ed9",
   "metadata": {
    "slideshow": {
     "slide_type": "notes"
    }
   },
   "outputs": [
    {
     "data": {
      "text/plain": [
       "Unnamed: 0          0\n",
       "urgent              0\n",
       "buy                 0\n",
       "change              0\n",
       "sell                0\n",
       "price               0\n",
       "gift                0\n",
       "search              0\n",
       "repair              0\n",
       "parts               0\n",
       "synt_brand          0\n",
       "city                0\n",
       "seen                0\n",
       "published_dt        0\n",
       "expire_dt           0\n",
       "date_scrapped_dt    0\n",
       "dtype: int64"
      ]
     },
     "execution_count": 7,
     "metadata": {},
     "output_type": "execute_result"
    }
   ],
   "source": [
    "df.isna().sum()"
   ]
  },
  {
   "cell_type": "code",
   "execution_count": 8,
   "id": "255b4f5a",
   "metadata": {},
   "outputs": [],
   "source": [
    "ndf = df.copy()"
   ]
  },
  {
   "cell_type": "code",
   "execution_count": 9,
   "id": "5b2cecb0",
   "metadata": {},
   "outputs": [],
   "source": [
    "ndf['published_dt'] = pd.to_datetime(df['published_dt'])\n",
    "ndf['expire_dt'] = pd.to_datetime(df['expire_dt'])\n",
    "ndf['date_scrapped_dt'] = pd.to_datetime(df['date_scrapped_dt'])"
   ]
  },
  {
   "cell_type": "code",
   "execution_count": 10,
   "id": "9c0fc83b",
   "metadata": {},
   "outputs": [
    {
     "name": "stdout",
     "output_type": "stream",
     "text": [
      "<class 'pandas.core.frame.DataFrame'>\n",
      "RangeIndex: 795 entries, 0 to 794\n",
      "Data columns (total 16 columns):\n",
      " #   Column            Non-Null Count  Dtype         \n",
      "---  ------            --------------  -----         \n",
      " 0   Unnamed: 0        795 non-null    int64         \n",
      " 1   urgent            795 non-null    int64         \n",
      " 2   buy               795 non-null    int64         \n",
      " 3   change            795 non-null    int64         \n",
      " 4   sell              795 non-null    int64         \n",
      " 5   price             795 non-null    int64         \n",
      " 6   gift              795 non-null    int64         \n",
      " 7   search            795 non-null    int64         \n",
      " 8   repair            795 non-null    int64         \n",
      " 9   parts             795 non-null    int64         \n",
      " 10  synt_brand        795 non-null    object        \n",
      " 11  city              795 non-null    object        \n",
      " 12  seen              795 non-null    int64         \n",
      " 13  published_dt      795 non-null    datetime64[ns]\n",
      " 14  expire_dt         795 non-null    datetime64[ns]\n",
      " 15  date_scrapped_dt  795 non-null    datetime64[ns]\n",
      "dtypes: datetime64[ns](3), int64(11), object(2)\n",
      "memory usage: 99.5+ KB\n"
     ]
    }
   ],
   "source": [
    "ndf.info()"
   ]
  },
  {
   "cell_type": "markdown",
   "id": "f0e98304-3de3-4a37-bdb9-4ea4173f53e7",
   "metadata": {},
   "source": [
    "Instead of using an exploratory data visualization, we can use a quantifiable measure to detect the presence of outliers.\n",
    "\n",
    "- **The skewness value**: When the skewness value is between -1 and +1, it indicates that the variable has no significant outliers to worry about. We obtain the `skew()'` value of a variable as shown below:"
   ]
  },
  {
   "cell_type": "code",
   "execution_count": 11,
   "id": "ec662670",
   "metadata": {},
   "outputs": [
    {
     "name": "stdout",
     "output_type": "stream",
     "text": [
      "urgent:  28.19574435974338\n",
      "buy:  6.6296564811679985\n",
      "change:  4.687062525386084\n",
      "sell:  -3.844792060410648\n",
      "price:  4.590560045250744\n",
      "gift:  28.195744359743408\n",
      "search:  12.513872828053973\n",
      "repair:  0.0\n",
      "parts:  28.1957443597434\n",
      "seen:  10.562636123296826\n"
     ]
    }
   ],
   "source": [
    "asimetric_columns = ['urgent','buy','change','sell','price','gift','search','repair','parts','seen']\n",
    "\n",
    "for i in asimetric_columns:\n",
    "    print(f\"{i}: \",ndf[i].skew())"
   ]
  },
  {
   "cell_type": "markdown",
   "id": "2be50433-cc1c-4881-851c-4698c9abae2f",
   "metadata": {},
   "source": []
  },
  {
   "cell_type": "code",
   "execution_count": 12,
   "id": "b62de5d7-27bc-435d-8aa1-4d6497721471",
   "metadata": {},
   "outputs": [
    {
     "data": {
      "text/plain": [
       "count      795.000000\n",
       "mean       624.564780\n",
       "std        987.873816\n",
       "min          0.000000\n",
       "25%        120.000000\n",
       "50%        300.000000\n",
       "75%        700.000000\n",
       "max      12000.000000\n",
       "Name: price, dtype: float64"
      ]
     },
     "execution_count": 12,
     "metadata": {},
     "output_type": "execute_result"
    }
   ],
   "source": [
    "ndf[\"price\"].describe()"
   ]
  },
  {
   "cell_type": "markdown",
   "id": "857d7f25-8ff9-4511-98d7-9608ba7fddf8",
   "metadata": {},
   "source": [
    "### Eliminación de valores atípicos: uso del valor IQR\n",
    "\n",
    "El otro método popular para identificar valores atípicos es utilizar el valor del rango intercuartílico (**IQR**). \n",
    "\n",
    "**IQR** es una forma de detectar valores atípicos. Asume que todos los puntos de datos que están dentro de 1,5 veces un rango intercuartílico (RIC) de los cuartiles superior e inferior son \"normales\" y cualquier cosa fuera de ese rango debe considerarse un valor atípico. \n",
    "\n",
    "Para calcular el RIC, primero necesitamos encontrar el primer cuartil (Q1) y el tercer cuartil (Q3). A continuación, podemos calcular el RIC restando Q1 de Q3."
   ]
  },
  {
   "cell_type": "code",
   "execution_count": 13,
   "id": "3d25720f-1513-4017-bc43-ed65a4d995bd",
   "metadata": {},
   "outputs": [],
   "source": [
    "q1 = []\n",
    "q3 = []\n",
    "lower = []\n",
    "upper = []\n",
    "cnt = 0\n",
    "\n",
    "# Calcular Q1 y Q3 para cada columna asimétrica\n",
    "for col in asimetric_columns:\n",
    "    q1.append(ndf[col].quantile(q=0.25))\n",
    "    q3.append(ndf[col].quantile(q=0.75))\n",
    "\n",
    "# Calcular el IQR\n",
    "iqr = [q3[i] - q1[i] for i in range(len(q1))]\n",
    "\n",
    "# Calcular lower y upper\n",
    "for i in range(len(iqr)):\n",
    "    lower.append(q1[i] - 1.5 * iqr[i])\n",
    "    upper.append(q3[i] + 1.5 * iqr[i])\n",
    "\n",
    "# Eliminar outliers\n",
    "for idx, col in enumerate(asimetric_columns):\n",
    "    ndf[col] = ndf[col].clip(lower[cnt], upper[cnt])\n",
    "    cnt += 1\n"
   ]
  },
  {
   "cell_type": "code",
   "execution_count": 14,
   "id": "d0d129b1-b0b4-41ba-bfa5-9bef7acd6623",
   "metadata": {},
   "outputs": [
    {
     "data": {
      "text/plain": [
       "count     795.000000\n",
       "mean      494.003774\n",
       "std       492.275113\n",
       "min         0.000000\n",
       "25%       120.000000\n",
       "50%       300.000000\n",
       "75%       700.000000\n",
       "max      1570.000000\n",
       "Name: price, dtype: float64"
      ]
     },
     "execution_count": 14,
     "metadata": {},
     "output_type": "execute_result"
    }
   ],
   "source": [
    "ndf[\"price\"].describe()"
   ]
  },
  {
   "cell_type": "code",
   "execution_count": 15,
   "id": "4517d953-4968-43e1-b348-117d961da2b0",
   "metadata": {},
   "outputs": [],
   "source": [
    "ndf[\"ratio_seen_price\"] = ndf[\"seen\"] / ndf[\"price\"]"
   ]
  },
  {
   "cell_type": "code",
   "execution_count": 16,
   "id": "8ee3e90f-ca11-4846-ae10-be12baf4a9c3",
   "metadata": {},
   "outputs": [
    {
     "name": "stdout",
     "output_type": "stream",
     "text": [
      "<class 'pandas.core.frame.DataFrame'>\n",
      "RangeIndex: 795 entries, 0 to 794\n",
      "Data columns (total 17 columns):\n",
      " #   Column            Non-Null Count  Dtype         \n",
      "---  ------            --------------  -----         \n",
      " 0   Unnamed: 0        795 non-null    int64         \n",
      " 1   urgent            795 non-null    int64         \n",
      " 2   buy               795 non-null    int64         \n",
      " 3   change            795 non-null    int64         \n",
      " 4   sell              795 non-null    int64         \n",
      " 5   price             795 non-null    int64         \n",
      " 6   gift              795 non-null    int64         \n",
      " 7   search            795 non-null    int64         \n",
      " 8   repair            795 non-null    int64         \n",
      " 9   parts             795 non-null    int64         \n",
      " 10  synt_brand        795 non-null    object        \n",
      " 11  city              795 non-null    object        \n",
      " 12  seen              795 non-null    float64       \n",
      " 13  published_dt      795 non-null    datetime64[ns]\n",
      " 14  expire_dt         795 non-null    datetime64[ns]\n",
      " 15  date_scrapped_dt  795 non-null    datetime64[ns]\n",
      " 16  ratio_seen_price  795 non-null    float64       \n",
      "dtypes: datetime64[ns](3), float64(2), int64(10), object(2)\n",
      "memory usage: 105.7+ KB\n"
     ]
    }
   ],
   "source": [
    "ndf.info()"
   ]
  },
  {
   "cell_type": "code",
   "execution_count": 17,
   "id": "8693d164-0538-41d2-a391-a5735d9e97d7",
   "metadata": {},
   "outputs": [],
   "source": [
    "%matplotlib inline"
   ]
  },
  {
   "cell_type": "code",
   "execution_count": 18,
   "id": "0c17b0a3-bb67-4d4d-8bdf-0e25c1ba9a80",
   "metadata": {},
   "outputs": [],
   "source": [
    "mldf = ndf.copy()"
   ]
  },
  {
   "cell_type": "code",
   "execution_count": 19,
   "id": "1c11915b-7877-4bee-9886-362a05f3da9b",
   "metadata": {},
   "outputs": [],
   "source": [
    "mldf = mldf.drop(['published_dt','expire_dt','date_scrapped_dt','urgent','buy','change','sell','gift','search','repair','parts'],axis = 1)"
   ]
  },
  {
   "cell_type": "code",
   "execution_count": 20,
   "id": "8b0f0ca0-536a-4735-be56-b9303948a22e",
   "metadata": {},
   "outputs": [],
   "source": [
    "import numpy as np\n",
    "import numpy.random as rnd"
   ]
  },
  {
   "cell_type": "code",
   "execution_count": 21,
   "id": "b700c10e-41c4-45dc-ac94-2a7d9212d53c",
   "metadata": {},
   "outputs": [],
   "source": [
    "from sklearn.model_selection import train_test_split\n",
    "\n",
    "train_set, test_set = train_test_split(mldf, test_size=0.2, random_state=42)"
   ]
  },
  {
   "cell_type": "code",
   "execution_count": 23,
   "id": "1b1ceecd-6a3d-4e6d-9dfb-372ad4235ee0",
   "metadata": {},
   "outputs": [
    {
     "data": {
      "text/plain": [
       "636"
      ]
     },
     "execution_count": 23,
     "metadata": {},
     "output_type": "execute_result"
    }
   ],
   "source": [
    "len(train_set)"
   ]
  },
  {
   "cell_type": "code",
   "execution_count": 24,
   "id": "29812170-3da2-4ee5-8cb3-b1a53f0f266a",
   "metadata": {},
   "outputs": [
    {
     "data": {
      "text/plain": [
       "159"
      ]
     },
     "execution_count": 24,
     "metadata": {},
     "output_type": "execute_result"
    }
   ],
   "source": [
    "len(test_set)"
   ]
  },
  {
   "cell_type": "code",
   "execution_count": null,
   "id": "73a27fc5-3ee8-48c0-9ad1-d749d12238c9",
   "metadata": {},
   "outputs": [],
   "source": []
  },
  {
   "cell_type": "code",
   "execution_count": null,
   "id": "27a08473-8534-4882-9eb4-69b81bc7059e",
   "metadata": {},
   "outputs": [],
   "source": []
  },
  {
   "cell_type": "code",
   "execution_count": null,
   "id": "d2620c4f-d041-4442-950c-289a5d9e2618",
   "metadata": {},
   "outputs": [],
   "source": [
    "......................"
   ]
  },
  {
   "cell_type": "code",
   "execution_count": null,
   "id": "ee48866d-7578-4b51-9115-411a2cdbb6b0",
   "metadata": {},
   "outputs": [],
   "source": []
  },
  {
   "cell_type": "code",
   "execution_count": null,
   "id": "927441c9-7680-4039-9e2f-62806027fbb0",
   "metadata": {},
   "outputs": [],
   "source": [
    "synt_brand_cat = ndf[[\"synt_brand\"]]"
   ]
  },
  {
   "cell_type": "code",
   "execution_count": null,
   "id": "48e32bc2-2d07-4699-8154-e067a423cc3d",
   "metadata": {},
   "outputs": [],
   "source": [
    "synt_brand_cat.head(10)"
   ]
  },
  {
   "cell_type": "code",
   "execution_count": null,
   "id": "913547dd-bbb5-4357-a3f4-ecc7982143e9",
   "metadata": {},
   "outputs": [],
   "source": [
    "from sklearn.preprocessing import OneHotEncoder\n",
    "cat_encoder = OneHotEncoder()\n",
    "hispasonic_cat_1hot = cat_encoder.fit_transform(synt_brand_cat)\n",
    "hispasonic_cat_1hot"
   ]
  },
  {
   "cell_type": "code",
   "execution_count": null,
   "id": "b22f4586-c2db-4631-b993-02150c79c984",
   "metadata": {},
   "outputs": [],
   "source": [
    "hispasonic_cat_1hot.toarray()"
   ]
  },
  {
   "cell_type": "markdown",
   "id": "d6d5f1ca-f604-404c-a3c1-88d91806c34a",
   "metadata": {},
   "source": [
    "Lista de categorias haciendo utilizando la variable instancia categories_ del codificador"
   ]
  },
  {
   "cell_type": "code",
   "execution_count": null,
   "id": "c73e5756-b812-428d-94f7-b83b36f5235b",
   "metadata": {},
   "outputs": [],
   "source": [
    "cat_encoder.categories_"
   ]
  },
  {
   "cell_type": "code",
   "execution_count": null,
   "id": "398996ab-ca8d-4172-95ac-80f791d3bb07",
   "metadata": {},
   "outputs": [],
   "source": []
  },
  {
   "cell_type": "code",
   "execution_count": null,
   "id": "ca3e18ed-0d8b-49b7-9f74-42f0585d1846",
   "metadata": {},
   "outputs": [],
   "source": []
  },
  {
   "cell_type": "code",
   "execution_count": null,
   "id": "00e0f122-5552-4b84-9892-b4ce1d5a2b9d",
   "metadata": {},
   "outputs": [],
   "source": []
  },
  {
   "cell_type": "code",
   "execution_count": null,
   "id": "691e490f-cbad-480f-9dbf-af56078708cc",
   "metadata": {},
   "outputs": [],
   "source": []
  },
  {
   "cell_type": "code",
   "execution_count": null,
   "id": "5b76dd28-02be-45c3-85c6-6fe9f1cedfd4",
   "metadata": {},
   "outputs": [],
   "source": []
  },
  {
   "cell_type": "code",
   "execution_count": null,
   "id": "e3b9a2d8-4044-4c8e-9b27-738df245788e",
   "metadata": {},
   "outputs": [],
   "source": []
  },
  {
   "cell_type": "code",
   "execution_count": null,
   "id": "6be73830-65f9-47af-9bd2-f4897c28f5fa",
   "metadata": {},
   "outputs": [],
   "source": []
  },
  {
   "cell_type": "code",
   "execution_count": null,
   "id": "c355ef39-70bc-4140-9877-cef8d1d2893c",
   "metadata": {},
   "outputs": [],
   "source": []
  },
  {
   "cell_type": "code",
   "execution_count": null,
   "id": "9f39ad8d-8085-4693-ba71-499df7d08bce",
   "metadata": {},
   "outputs": [],
   "source": []
  },
  {
   "cell_type": "code",
   "execution_count": null,
   "id": "1cad617d-cd07-4660-a5dd-049a2c58c607",
   "metadata": {},
   "outputs": [],
   "source": []
  },
  {
   "cell_type": "code",
   "execution_count": null,
   "id": "b42f3a86-8db9-46ae-b275-1467f11d975a",
   "metadata": {},
   "outputs": [],
   "source": []
  },
  {
   "cell_type": "code",
   "execution_count": null,
   "id": "9781a3b7-cfae-489b-985d-659b783feb09",
   "metadata": {},
   "outputs": [],
   "source": []
  },
  {
   "cell_type": "code",
   "execution_count": null,
   "id": "f4e9145b-7a9e-4a0a-b026-5cb25a68ca8d",
   "metadata": {},
   "outputs": [],
   "source": []
  },
  {
   "cell_type": "code",
   "execution_count": null,
   "id": "01491453-3510-4627-87ef-95f1d889d1bb",
   "metadata": {},
   "outputs": [],
   "source": []
  },
  {
   "cell_type": "code",
   "execution_count": null,
   "id": "ab6fa696-0dee-4746-a4fd-9136ef087e5b",
   "metadata": {},
   "outputs": [],
   "source": []
  },
  {
   "cell_type": "code",
   "execution_count": null,
   "id": "60cd7d59-e83a-44d4-b8aa-12c1330d8160",
   "metadata": {},
   "outputs": [],
   "source": [
    "............."
   ]
  },
  {
   "cell_type": "code",
   "execution_count": null,
   "id": "aeb6adda-fde6-4bd4-bed7-6e151bf221a9",
   "metadata": {},
   "outputs": [],
   "source": [
    "mldf = ndf.copy()"
   ]
  },
  {
   "cell_type": "code",
   "execution_count": null,
   "id": "59970318-828f-40db-9cfb-d0adbfbf1025",
   "metadata": {},
   "outputs": [],
   "source": [
    "mldf = mldf.drop(['published_dt','expire_dt','date_scrapped_dt'],axis = 1)"
   ]
  },
  {
   "cell_type": "code",
   "execution_count": null,
   "id": "8aee709f-5624-4316-b327-88f82e5da42d",
   "metadata": {},
   "outputs": [],
   "source": [
    "mldf.info()"
   ]
  },
  {
   "cell_type": "code",
   "execution_count": null,
   "id": "0b913f83-6974-478f-96d5-6bff2fde8cb3",
   "metadata": {},
   "outputs": [],
   "source": []
  },
  {
   "cell_type": "code",
   "execution_count": null,
   "id": "48c5f76d-fb46-460e-944d-8381c5046bb5",
   "metadata": {},
   "outputs": [],
   "source": []
  },
  {
   "cell_type": "code",
   "execution_count": null,
   "id": "d5e809e6-7989-463a-ba99-d65759e3c277",
   "metadata": {},
   "outputs": [],
   "source": []
  },
  {
   "cell_type": "code",
   "execution_count": null,
   "id": "91c7fd19-4c2d-49bb-9e7b-7aba1df89611",
   "metadata": {},
   "outputs": [],
   "source": []
  },
  {
   "cell_type": "code",
   "execution_count": null,
   "id": "d8acfde6-0116-49e1-9b4c-6d0f908e0aea",
   "metadata": {},
   "outputs": [],
   "source": []
  },
  {
   "cell_type": "code",
   "execution_count": null,
   "id": "1da2ed6b-aab7-4fba-b7e6-9251780aa30c",
   "metadata": {},
   "outputs": [],
   "source": []
  },
  {
   "cell_type": "code",
   "execution_count": null,
   "id": "fcff204d-5730-43d9-9ebb-f76e847ecc1f",
   "metadata": {},
   "outputs": [],
   "source": [
    "#ndf['price'] = np.where(ndf['price'] > 900, 900, ndf['price']) # 900 force to be between +1 and -1\n",
    "#print(ndf['price'].skew())"
   ]
  },
  {
   "cell_type": "code",
   "execution_count": null,
   "id": "aabb8b1a-c8d1-488e-ae5b-78e330c0c848",
   "metadata": {},
   "outputs": [],
   "source": [
    "#ndf = pd.get_dummies(ndf, columns=['price'], drop_first=True, prefix='Price')\n",
    "#ndf = pd.get_dummies(ndf, columns=['seen'], drop_first=True, prefix='Seen')"
   ]
  },
  {
   "cell_type": "code",
   "execution_count": null,
   "id": "a70dc110-2144-4358-9304-1325c9c90a21",
   "metadata": {},
   "outputs": [],
   "source": [
    "#target_variable = ['Price'] \n",
    "#predictors = list(set(list(ndf.columns)) - set(target_variable))\n",
    "#predictors"
   ]
  },
  {
   "cell_type": "code",
   "execution_count": null,
   "id": "1cbcc3bd-b309-42cc-b1e3-2eaa609478b7",
   "metadata": {},
   "outputs": [],
   "source": [
    "#ndf[predictors] = ndf[predictors] / ndf[predictors].max()"
   ]
  },
  {
   "cell_type": "code",
   "execution_count": null,
   "id": "c705a793-11cb-46d0-bb47-d13cf037fa48",
   "metadata": {},
   "outputs": [],
   "source": []
  },
  {
   "cell_type": "code",
   "execution_count": null,
   "id": "6d31620e-0763-4fb5-aa22-5fb760c75aaf",
   "metadata": {},
   "outputs": [],
   "source": []
  },
  {
   "cell_type": "code",
   "execution_count": null,
   "id": "ec10e9ee-795e-493f-ad64-3c2f03f6cb3b",
   "metadata": {},
   "outputs": [],
   "source": []
  },
  {
   "cell_type": "code",
   "execution_count": null,
   "id": "e2d4d8ab-9dd1-4638-8eed-7655bd8737a1",
   "metadata": {},
   "outputs": [],
   "source": []
  },
  {
   "cell_type": "code",
   "execution_count": null,
   "id": "3ae27c6e-df24-4b24-a0e0-0610536e1707",
   "metadata": {},
   "outputs": [],
   "source": []
  },
  {
   "cell_type": "code",
   "execution_count": null,
   "id": "044c14e0-727d-44ac-9a0b-38acc9a597aa",
   "metadata": {},
   "outputs": [],
   "source": []
  },
  {
   "cell_type": "code",
   "execution_count": null,
   "id": "a51eaecf-68a3-4bb4-980c-35f649947d81",
   "metadata": {},
   "outputs": [],
   "source": []
  },
  {
   "cell_type": "code",
   "execution_count": null,
   "id": "1b43d854-a84f-41fe-a483-24101cf3bbd6",
   "metadata": {},
   "outputs": [],
   "source": []
  }
 ],
 "metadata": {
  "kernelspec": {
   "display_name": "Python 3 (ipykernel)",
   "language": "python",
   "name": "python3"
  },
  "language_info": {
   "codemirror_mode": {
    "name": "ipython",
    "version": 3
   },
   "file_extension": ".py",
   "mimetype": "text/x-python",
   "name": "python",
   "nbconvert_exporter": "python",
   "pygments_lexer": "ipython3",
   "version": "3.10.13"
  }
 },
 "nbformat": 4,
 "nbformat_minor": 5
}
