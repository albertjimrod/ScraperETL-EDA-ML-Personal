{
 "cells": [
  {
   "cell_type": "markdown",
   "id": "5d6bf01b-17a7-4d4a-8fc6-1213579fbef8",
   "metadata": {},
   "source": [
    "# EDA Hispasonic\n",
    "\n",
    "Exploratory Data Analysis is, on the one hand, a perspective or attitude on data analysis, in which it is urged that The researcher adopts an active attitude in and towards the analysis of them, as a means of suggesting new hypotheses of work. \n",
    "\n",
    "The more you know about the data, the better you can use it to make inferential () tests and develop the theories under study. In short, the A.E.D. seeks to maximize all the information offered by the data. The goal here is simply to dig into the data, get to know it better, and see what interesting nuggets we can uncover. No ulteriores motives, no sales pitches – just good old-fashioned data exploration! We're excited to put our knowledge to work and see what insights we can glean from this awesome dataset. Rest assured, we're not planning to use the data for anything shady. It's all about learning and expanding our understanding"
   ]
  },
  {
   "cell_type": "code",
   "execution_count": 1,
   "id": "66226e50-ef18-41d1-b77d-9b35913027fe",
   "metadata": {},
   "outputs": [],
   "source": [
    "import os\n",
    "import pandas as pd\n",
    "import numpy as np\n",
    "import seaborn as sns\n",
    "from bs4 import BeautifulSoup\n",
    "import matplotlib as mpl\n",
    "from matplotlib import pyplot as plt\n",
    "import datetime as dt"
   ]
  },
  {
   "cell_type": "code",
   "execution_count": 2,
   "id": "cb3d888f-b485-40b8-aeb9-b68cb223827c",
   "metadata": {},
   "outputs": [],
   "source": [
    "pd.set_option('display.max_rows', None)"
   ]
  },
  {
   "cell_type": "code",
   "execution_count": 3,
   "id": "942b9a48-7eb6-4840-a89a-82a9016685a6",
   "metadata": {},
   "outputs": [],
   "source": [
    "df = pd.read_csv(\"csv/hp_new202429.csv\")"
   ]
  },
  {
   "cell_type": "code",
   "execution_count": 4,
   "id": "df810454-b6c4-4ec0-8e10-a48798e03ed8",
   "metadata": {},
   "outputs": [
    {
     "data": {
      "text/plain": [
       "(809, 17)"
      ]
     },
     "execution_count": 4,
     "metadata": {},
     "output_type": "execute_result"
    }
   ],
   "source": [
    "df.shape"
   ]
  },
  {
   "cell_type": "markdown",
   "id": "64958f14-ebc4-4c25-9850-26775052e645",
   "metadata": {},
   "source": [
    "## 1. First contact\n",
    "\n",
    "A very important thing to keep in mind is that the dataframe has been built from the daily scrapping and that means that there is repeated data, an obvious proof is that the dataframe has a length of 148575 first of all we are going to correct this small problem\n",
    "\n",
    "We make a visualization of the first 5 rows.\n",
    "\n"
   ]
  },
  {
   "cell_type": "code",
   "execution_count": 5,
   "id": "aa7fba3d-86aa-4b30-8946-933e1aba38ba",
   "metadata": {},
   "outputs": [
    {
     "data": {
      "text/html": [
       "<div>\n",
       "<style scoped>\n",
       "    .dataframe tbody tr th:only-of-type {\n",
       "        vertical-align: middle;\n",
       "    }\n",
       "\n",
       "    .dataframe tbody tr th {\n",
       "        vertical-align: top;\n",
       "    }\n",
       "\n",
       "    .dataframe thead th {\n",
       "        text-align: right;\n",
       "    }\n",
       "</style>\n",
       "<table border=\"1\" class=\"dataframe\">\n",
       "  <thead>\n",
       "    <tr style=\"text-align: right;\">\n",
       "      <th></th>\n",
       "      <th>Unnamed: 0</th>\n",
       "      <th>urgent</th>\n",
       "      <th>buy</th>\n",
       "      <th>change</th>\n",
       "      <th>sell</th>\n",
       "      <th>price</th>\n",
       "      <th>gift</th>\n",
       "      <th>search</th>\n",
       "      <th>repair</th>\n",
       "      <th>parts</th>\n",
       "      <th>synt_brand</th>\n",
       "      <th>description</th>\n",
       "      <th>city</th>\n",
       "      <th>published</th>\n",
       "      <th>expire</th>\n",
       "      <th>date_scrapped</th>\n",
       "      <th>seen</th>\n",
       "    </tr>\n",
       "  </thead>\n",
       "  <tbody>\n",
       "    <tr>\n",
       "      <th>0</th>\n",
       "      <td>1</td>\n",
       "      <td>0</td>\n",
       "      <td>0</td>\n",
       "      <td>0</td>\n",
       "      <td>1</td>\n",
       "      <td>120</td>\n",
       "      <td>0</td>\n",
       "      <td>0</td>\n",
       "      <td>0</td>\n",
       "      <td>0</td>\n",
       "      <td>korg</td>\n",
       "      <td>korg volca sample 2</td>\n",
       "      <td>Zaragoza</td>\n",
       "      <td>2024/02/09</td>\n",
       "      <td>2024/07/08</td>\n",
       "      <td>2024/2/9</td>\n",
       "      <td>52</td>\n",
       "    </tr>\n",
       "    <tr>\n",
       "      <th>1</th>\n",
       "      <td>2</td>\n",
       "      <td>0</td>\n",
       "      <td>0</td>\n",
       "      <td>0</td>\n",
       "      <td>1</td>\n",
       "      <td>200</td>\n",
       "      <td>0</td>\n",
       "      <td>0</td>\n",
       "      <td>0</td>\n",
       "      <td>0</td>\n",
       "      <td>korg</td>\n",
       "      <td>korg 05r w módulo</td>\n",
       "      <td>Madrid</td>\n",
       "      <td>2023/07/27</td>\n",
       "      <td>2024/07/07</td>\n",
       "      <td>2024/2/9</td>\n",
       "      <td>834</td>\n",
       "    </tr>\n",
       "    <tr>\n",
       "      <th>2</th>\n",
       "      <td>3</td>\n",
       "      <td>0</td>\n",
       "      <td>0</td>\n",
       "      <td>0</td>\n",
       "      <td>1</td>\n",
       "      <td>3190</td>\n",
       "      <td>0</td>\n",
       "      <td>0</td>\n",
       "      <td>0</td>\n",
       "      <td>0</td>\n",
       "      <td>clavia</td>\n",
       "      <td>clavia nord stage 4 73 keys</td>\n",
       "      <td>Baleares</td>\n",
       "      <td>2024/02/02</td>\n",
       "      <td>2024/07/05</td>\n",
       "      <td>2024/2/9</td>\n",
       "      <td>385</td>\n",
       "    </tr>\n",
       "    <tr>\n",
       "      <th>3</th>\n",
       "      <td>4</td>\n",
       "      <td>0</td>\n",
       "      <td>0</td>\n",
       "      <td>1</td>\n",
       "      <td>0</td>\n",
       "      <td>0</td>\n",
       "      <td>0</td>\n",
       "      <td>0</td>\n",
       "      <td>0</td>\n",
       "      <td>0</td>\n",
       "      <td>roland</td>\n",
       "      <td>roland rd 2000</td>\n",
       "      <td>Madrid</td>\n",
       "      <td>2023/11/19</td>\n",
       "      <td>2024/07/02</td>\n",
       "      <td>2024/2/9</td>\n",
       "      <td>738</td>\n",
       "    </tr>\n",
       "    <tr>\n",
       "      <th>4</th>\n",
       "      <td>5</td>\n",
       "      <td>0</td>\n",
       "      <td>0</td>\n",
       "      <td>0</td>\n",
       "      <td>1</td>\n",
       "      <td>425</td>\n",
       "      <td>0</td>\n",
       "      <td>0</td>\n",
       "      <td>0</td>\n",
       "      <td>0</td>\n",
       "      <td>korg</td>\n",
       "      <td>korg drumlogue</td>\n",
       "      <td>Bizkaia</td>\n",
       "      <td>2023/01/24</td>\n",
       "      <td>2024/07/08</td>\n",
       "      <td>2024/2/9</td>\n",
       "      <td>1970</td>\n",
       "    </tr>\n",
       "  </tbody>\n",
       "</table>\n",
       "</div>"
      ],
      "text/plain": [
       "   Unnamed: 0  urgent  buy  change  sell  price  gift  search  repair  parts  \\\n",
       "0           1       0    0       0     1    120     0       0       0      0   \n",
       "1           2       0    0       0     1    200     0       0       0      0   \n",
       "2           3       0    0       0     1   3190     0       0       0      0   \n",
       "3           4       0    0       1     0      0     0       0       0      0   \n",
       "4           5       0    0       0     1    425     0       0       0      0   \n",
       "\n",
       "  synt_brand                   description      city   published      expire  \\\n",
       "0       korg          korg volca sample 2   Zaragoza  2024/02/09  2024/07/08   \n",
       "1       korg            korg 05r w módulo     Madrid  2023/07/27  2024/07/07   \n",
       "2     clavia  clavia nord stage 4 73 keys   Baleares  2024/02/02  2024/07/05   \n",
       "3     roland               roland rd 2000     Madrid  2023/11/19  2024/07/02   \n",
       "4       korg               korg drumlogue    Bizkaia  2023/01/24  2024/07/08   \n",
       "\n",
       "  date_scrapped  seen  \n",
       "0      2024/2/9    52  \n",
       "1      2024/2/9   834  \n",
       "2      2024/2/9   385  \n",
       "3      2024/2/9   738  \n",
       "4      2024/2/9  1970  "
      ]
     },
     "execution_count": 5,
     "metadata": {},
     "output_type": "execute_result"
    }
   ],
   "source": [
    "df.head(5)"
   ]
  },
  {
   "cell_type": "markdown",
   "id": "ec4fb242-804d-4c21-ab33-3dc43d8ff2ea",
   "metadata": {},
   "source": [
    "## 2. Dataframe Visualization Transposed Random Samples\n",
    "\n",
    "After loading, we randomly display and transpose the contents of the dataframe"
   ]
  },
  {
   "cell_type": "code",
   "execution_count": 6,
   "id": "5db38679-0506-4e1d-bc8e-983c67f44fb4",
   "metadata": {},
   "outputs": [
    {
     "data": {
      "text/html": [
       "<div>\n",
       "<style scoped>\n",
       "    .dataframe tbody tr th:only-of-type {\n",
       "        vertical-align: middle;\n",
       "    }\n",
       "\n",
       "    .dataframe tbody tr th {\n",
       "        vertical-align: top;\n",
       "    }\n",
       "\n",
       "    .dataframe thead th {\n",
       "        text-align: right;\n",
       "    }\n",
       "</style>\n",
       "<table border=\"1\" class=\"dataframe\">\n",
       "  <thead>\n",
       "    <tr style=\"text-align: right;\">\n",
       "      <th></th>\n",
       "      <th>487</th>\n",
       "      <th>104</th>\n",
       "      <th>648</th>\n",
       "      <th>397</th>\n",
       "      <th>231</th>\n",
       "    </tr>\n",
       "  </thead>\n",
       "  <tbody>\n",
       "    <tr>\n",
       "      <th>Unnamed: 0</th>\n",
       "      <td>488</td>\n",
       "      <td>105</td>\n",
       "      <td>649</td>\n",
       "      <td>398</td>\n",
       "      <td>232</td>\n",
       "    </tr>\n",
       "    <tr>\n",
       "      <th>urgent</th>\n",
       "      <td>0</td>\n",
       "      <td>0</td>\n",
       "      <td>0</td>\n",
       "      <td>0</td>\n",
       "      <td>0</td>\n",
       "    </tr>\n",
       "    <tr>\n",
       "      <th>buy</th>\n",
       "      <td>0</td>\n",
       "      <td>0</td>\n",
       "      <td>0</td>\n",
       "      <td>0</td>\n",
       "      <td>0</td>\n",
       "    </tr>\n",
       "    <tr>\n",
       "      <th>change</th>\n",
       "      <td>0</td>\n",
       "      <td>0</td>\n",
       "      <td>1</td>\n",
       "      <td>0</td>\n",
       "      <td>0</td>\n",
       "    </tr>\n",
       "    <tr>\n",
       "      <th>sell</th>\n",
       "      <td>1</td>\n",
       "      <td>1</td>\n",
       "      <td>0</td>\n",
       "      <td>1</td>\n",
       "      <td>1</td>\n",
       "    </tr>\n",
       "    <tr>\n",
       "      <th>price</th>\n",
       "      <td>3400</td>\n",
       "      <td>560</td>\n",
       "      <td>0</td>\n",
       "      <td>315</td>\n",
       "      <td>350</td>\n",
       "    </tr>\n",
       "    <tr>\n",
       "      <th>gift</th>\n",
       "      <td>0</td>\n",
       "      <td>0</td>\n",
       "      <td>0</td>\n",
       "      <td>0</td>\n",
       "      <td>0</td>\n",
       "    </tr>\n",
       "    <tr>\n",
       "      <th>search</th>\n",
       "      <td>0</td>\n",
       "      <td>0</td>\n",
       "      <td>1</td>\n",
       "      <td>0</td>\n",
       "      <td>0</td>\n",
       "    </tr>\n",
       "    <tr>\n",
       "      <th>repair</th>\n",
       "      <td>0</td>\n",
       "      <td>0</td>\n",
       "      <td>0</td>\n",
       "      <td>0</td>\n",
       "      <td>0</td>\n",
       "    </tr>\n",
       "    <tr>\n",
       "      <th>parts</th>\n",
       "      <td>0</td>\n",
       "      <td>0</td>\n",
       "      <td>0</td>\n",
       "      <td>0</td>\n",
       "      <td>0</td>\n",
       "    </tr>\n",
       "    <tr>\n",
       "      <th>synt_brand</th>\n",
       "      <td>roland</td>\n",
       "      <td>roland</td>\n",
       "      <td>roland</td>\n",
       "      <td>korg</td>\n",
       "      <td>komplete</td>\n",
       "    </tr>\n",
       "    <tr>\n",
       "      <th>description</th>\n",
       "      <td>roland mrs-2 promar compuphonic sintetizador a...</td>\n",
       "      <td>roland tr-606 drumatix caja de ritmos analógic...</td>\n",
       "      <td>roland fantom 06</td>\n",
       "      <td>korg electribe sampler</td>\n",
       "      <td>komplete s61 mk2</td>\n",
       "    </tr>\n",
       "    <tr>\n",
       "      <th>city</th>\n",
       "      <td>Madrid</td>\n",
       "      <td>Barcelona</td>\n",
       "      <td>Barcelona</td>\n",
       "      <td>Barcelona</td>\n",
       "      <td>Madrid</td>\n",
       "    </tr>\n",
       "    <tr>\n",
       "      <th>published</th>\n",
       "      <td>2024/02/05</td>\n",
       "      <td>2024/01/19</td>\n",
       "      <td>2024/02/07</td>\n",
       "      <td>2024/02/05</td>\n",
       "      <td>2024/02/07</td>\n",
       "    </tr>\n",
       "    <tr>\n",
       "      <th>expire</th>\n",
       "      <td>2024/07/22</td>\n",
       "      <td>2024/07/08</td>\n",
       "      <td>2024/02/25</td>\n",
       "      <td>2024/03/15</td>\n",
       "      <td>2024/07/07</td>\n",
       "    </tr>\n",
       "    <tr>\n",
       "      <th>date_scrapped</th>\n",
       "      <td>2024/2/9</td>\n",
       "      <td>2024/2/9</td>\n",
       "      <td>2024/2/9</td>\n",
       "      <td>2024/2/9</td>\n",
       "      <td>2024/2/9</td>\n",
       "    </tr>\n",
       "    <tr>\n",
       "      <th>seen</th>\n",
       "      <td>276</td>\n",
       "      <td>644</td>\n",
       "      <td>52</td>\n",
       "      <td>146</td>\n",
       "      <td>144</td>\n",
       "    </tr>\n",
       "  </tbody>\n",
       "</table>\n",
       "</div>"
      ],
      "text/plain": [
       "                                                             487  \\\n",
       "Unnamed: 0                                                   488   \n",
       "urgent                                                         0   \n",
       "buy                                                            0   \n",
       "change                                                         0   \n",
       "sell                                                           1   \n",
       "price                                                       3400   \n",
       "gift                                                           0   \n",
       "search                                                         0   \n",
       "repair                                                         0   \n",
       "parts                                                          0   \n",
       "synt_brand                                                roland   \n",
       "description    roland mrs-2 promar compuphonic sintetizador a...   \n",
       "city                                                      Madrid   \n",
       "published                                             2024/02/05   \n",
       "expire                                                2024/07/22   \n",
       "date_scrapped                                           2024/2/9   \n",
       "seen                                                         276   \n",
       "\n",
       "                                                             104  \\\n",
       "Unnamed: 0                                                   105   \n",
       "urgent                                                         0   \n",
       "buy                                                            0   \n",
       "change                                                         0   \n",
       "sell                                                           1   \n",
       "price                                                        560   \n",
       "gift                                                           0   \n",
       "search                                                         0   \n",
       "repair                                                         0   \n",
       "parts                                                          0   \n",
       "synt_brand                                                roland   \n",
       "description    roland tr-606 drumatix caja de ritmos analógic...   \n",
       "city                                                   Barcelona   \n",
       "published                                             2024/01/19   \n",
       "expire                                                2024/07/08   \n",
       "date_scrapped                                           2024/2/9   \n",
       "seen                                                         644   \n",
       "\n",
       "                             648                      397                231  \n",
       "Unnamed: 0                   649                      398                232  \n",
       "urgent                         0                        0                  0  \n",
       "buy                            0                        0                  0  \n",
       "change                         1                        0                  0  \n",
       "sell                           0                        1                  1  \n",
       "price                          0                      315                350  \n",
       "gift                           0                        0                  0  \n",
       "search                         1                        0                  0  \n",
       "repair                         0                        0                  0  \n",
       "parts                          0                        0                  0  \n",
       "synt_brand                roland                     korg           komplete  \n",
       "description    roland fantom 06   korg electribe sampler   komplete s61 mk2   \n",
       "city                   Barcelona                Barcelona             Madrid  \n",
       "published             2024/02/07               2024/02/05         2024/02/07  \n",
       "expire                2024/02/25               2024/03/15         2024/07/07  \n",
       "date_scrapped           2024/2/9                 2024/2/9           2024/2/9  \n",
       "seen                          52                      146                144  "
      ]
     },
     "execution_count": 6,
     "metadata": {},
     "output_type": "execute_result"
    }
   ],
   "source": [
    "df.sample(5).T"
   ]
  },
  {
   "cell_type": "markdown",
   "id": "1259815c-8b44-46d3-81a7-37c28458d648",
   "metadata": {},
   "source": [
    "## 3. Null Value Detection.\n",
    "\n",
    "The next step would be to check whether or not we have null values."
   ]
  },
  {
   "cell_type": "code",
   "execution_count": 7,
   "id": "75cfcc2f-7556-46c1-b9c1-4732876cc14b",
   "metadata": {},
   "outputs": [
    {
     "data": {
      "text/plain": [
       "Unnamed: 0       0\n",
       "urgent           0\n",
       "buy              0\n",
       "change           0\n",
       "sell             0\n",
       "price            0\n",
       "gift             0\n",
       "search           0\n",
       "repair           0\n",
       "parts            0\n",
       "synt_brand       0\n",
       "description      1\n",
       "city             0\n",
       "published        0\n",
       "expire           0\n",
       "date_scrapped    0\n",
       "seen             0\n",
       "dtype: int64"
      ]
     },
     "execution_count": 7,
     "metadata": {},
     "output_type": "execute_result"
    }
   ],
   "source": [
    "df.isnull().sum()"
   ]
  },
  {
   "cell_type": "markdown",
   "id": "65a75d27-0390-4e92-8388-b82f9b25c8ab",
   "metadata": {},
   "source": [
    "It looks like we don't have any null values in any of the columns in the dataset."
   ]
  },
  {
   "cell_type": "markdown",
   "id": "8f29e06e-8782-4414-9dc0-456b299fc0dd",
   "metadata": {},
   "source": [
    "## 4. Summary:\n",
    "\n",
    "- The dataset has a header column, this may seem obvious but there are datasets that don't have one, so it doesn't hurt to indicate it.\n",
    "\n",
    "- We don't have null `NaN` values (missing values)"
   ]
  },
  {
   "cell_type": "markdown",
   "id": "22953612-c520-49e0-ad26-2392db84efcb",
   "metadata": {},
   "source": [
    "## 5. Converting data to the right type\n",
    "\n",
    "If we do a quick inspection we can see that we only have data of numerical type and object type, but that we need to have the appropriate data type formatted in relation to the dates."
   ]
  },
  {
   "cell_type": "code",
   "execution_count": 8,
   "id": "7c985838-b854-42b0-943f-e07d5e4e8914",
   "metadata": {},
   "outputs": [
    {
     "name": "stdout",
     "output_type": "stream",
     "text": [
      "<class 'pandas.core.frame.DataFrame'>\n",
      "RangeIndex: 809 entries, 0 to 808\n",
      "Data columns (total 17 columns):\n",
      " #   Column         Non-Null Count  Dtype \n",
      "---  ------         --------------  ----- \n",
      " 0   Unnamed: 0     809 non-null    int64 \n",
      " 1   urgent         809 non-null    int64 \n",
      " 2   buy            809 non-null    int64 \n",
      " 3   change         809 non-null    int64 \n",
      " 4   sell           809 non-null    int64 \n",
      " 5   price          809 non-null    int64 \n",
      " 6   gift           809 non-null    int64 \n",
      " 7   search         809 non-null    int64 \n",
      " 8   repair         809 non-null    int64 \n",
      " 9   parts          809 non-null    int64 \n",
      " 10  synt_brand     809 non-null    object\n",
      " 11  description    808 non-null    object\n",
      " 12  city           809 non-null    object\n",
      " 13  published      809 non-null    object\n",
      " 14  expire         809 non-null    object\n",
      " 15  date_scrapped  809 non-null    object\n",
      " 16  seen           809 non-null    int64 \n",
      "dtypes: int64(11), object(6)\n",
      "memory usage: 107.6+ KB\n"
     ]
    }
   ],
   "source": [
    "df.info()"
   ]
  },
  {
   "cell_type": "markdown",
   "id": "02d61e37-bd36-4944-b391-ad6bf7ac82e0",
   "metadata": {},
   "source": [
    "Since we have to convert the date data to the correct format in order to work with it, we are going to check that all the data we have to convert does not give us any problems."
   ]
  },
  {
   "cell_type": "code",
   "execution_count": 9,
   "id": "5ebf35c6-81ae-482c-b6b3-f95dd2426935",
   "metadata": {},
   "outputs": [
    {
     "data": {
      "text/plain": [
       "published        0\n",
       "expire           0\n",
       "date_scrapped    0\n",
       "dtype: int64"
      ]
     },
     "execution_count": 9,
     "metadata": {},
     "output_type": "execute_result"
    }
   ],
   "source": [
    "df[['published','expire','date_scrapped']].isnull().sum()"
   ]
  },
  {
   "cell_type": "markdown",
   "id": "0d974b7c-debd-43a5-94f0-5024b67d3c17",
   "metadata": {},
   "source": [
    "Sure? 🤔"
   ]
  },
  {
   "cell_type": "code",
   "execution_count": 10,
   "id": "56ba7606-474b-4979-ae3c-9c6a89928b13",
   "metadata": {
    "scrolled": true
   },
   "outputs": [
    {
     "data": {
      "text/plain": [
       "published\n",
       "2024/02/09    79\n",
       "2024/02/07    62\n",
       "2024/02/06    52\n",
       "2024/02/02    43\n",
       "2024/02/05    37\n",
       "2024/02/08    37\n",
       "2024/02/04    31\n",
       "2024/02/03    30\n",
       "2024/01/19    30\n",
       "2024/01/26    29\n",
       "2024/01/12    17\n",
       "              14\n",
       "2023/12/04     9\n",
       "2023/12/10     7\n",
       "2023/09/14     6\n",
       "2023/09/08     6\n",
       "2023/12/07     6\n",
       "2023/12/12     5\n",
       "2023/11/29     5\n",
       "2023/12/09     5\n",
       "2023/10/09     5\n",
       "2023/10/22     5\n",
       "2023/12/08     5\n",
       "2023/12/18     4\n",
       "2023/11/16     4\n",
       "2023/12/11     4\n",
       "2023/11/13     4\n",
       "2023/10/27     4\n",
       "2023/12/05     4\n",
       "2023/11/21     4\n",
       "2023/11/20     4\n",
       "2023/09/30     4\n",
       "2023/11/19     4\n",
       "2023/10/29     3\n",
       "2023/11/30     3\n",
       "2023/11/17     3\n",
       "2023/07/27     3\n",
       "2023/12/02     3\n",
       "2023/09/20     3\n",
       "2023/11/06     3\n",
       "2023/07/12     3\n",
       "2023/10/11     3\n",
       "2023/07/10     3\n",
       "2023/11/01     3\n",
       "2023/09/17     3\n",
       "2023/03/31     3\n",
       "2023/09/06     3\n",
       "2023/10/06     3\n",
       "2023/11/23     3\n",
       "2022/01/03     2\n",
       "2023/12/06     2\n",
       "2023/09/23     2\n",
       "2023/10/20     2\n",
       "2023/09/21     2\n",
       "2023/07/08     2\n",
       "2023/10/05     2\n",
       "2023/09/27     2\n",
       "2023/11/26     2\n",
       "2023/10/02     2\n",
       "2023/10/31     2\n",
       "2023/10/19     2\n",
       "2023/11/05     2\n",
       "2023/06/18     2\n",
       "2023/12/01     2\n",
       "2023/11/08     2\n",
       "2023/07/31     2\n",
       "2023/11/22     2\n",
       "2023/10/13     2\n",
       "2023/09/13     2\n",
       "2023/01/04     2\n",
       "2023/08/30     2\n",
       "2023/12/14     2\n",
       "2023/07/03     2\n",
       "2023/10/16     2\n",
       "2023/05/26     2\n",
       "2023/06/16     2\n",
       "2023/06/21     2\n",
       "2023/10/10     2\n",
       "2022/06/08     2\n",
       "2023/09/25     2\n",
       "2023/11/14     2\n",
       "2023/01/05     2\n",
       "2023/12/13     2\n",
       "2023/11/18     2\n",
       "2023/11/03     2\n",
       "2023/05/16     2\n",
       "2023/07/18     2\n",
       "2023/11/28     2\n",
       "2023/01/20     2\n",
       "2015/03/03     1\n",
       "2023/10/18     1\n",
       "2022/02/22     1\n",
       "2023/08/28     1\n",
       "2022/04/29     1\n",
       "2022/04/05     1\n",
       "2022/02/25     1\n",
       "2023/11/25     1\n",
       "2021/04/13     1\n",
       "2023/11/07     1\n",
       "2023/07/07     1\n",
       "2023/05/15     1\n",
       "2022/12/16     1\n",
       "2023/03/11     1\n",
       "2023/08/09     1\n",
       "2023/09/11     1\n",
       "2023/03/12     1\n",
       "2023/02/03     1\n",
       "2023/01/15     1\n",
       "2023/01/14     1\n",
       "2023/06/24     1\n",
       "2022/03/17     1\n",
       "2023/09/12     1\n",
       "2022/11/04     1\n",
       "2023/07/05     1\n",
       "2023/12/19     1\n",
       "2023/11/04     1\n",
       "2022/06/09     1\n",
       "2023/03/17     1\n",
       "2021/04/01     1\n",
       "2023/04/17     1\n",
       "2023/11/12     1\n",
       "2023/09/28     1\n",
       "2023/05/11     1\n",
       "2023/12/23     1\n",
       "2023/08/06     1\n",
       "2023/09/16     1\n",
       "2023/11/10     1\n",
       "2022/10/08     1\n",
       "2023/10/25     1\n",
       "2023/10/30     1\n",
       "2023/05/28     1\n",
       "2023/10/07     1\n",
       "2023/02/12     1\n",
       "2022/11/15     1\n",
       "2022/01/27     1\n",
       "2021/12/21     1\n",
       "2023/03/20     1\n",
       "2022/01/22     1\n",
       "2023/04/16     1\n",
       "2023/09/03     1\n",
       "2022/05/25     1\n",
       "2023/10/24     1\n",
       "2023/02/23     1\n",
       "2020/10/03     1\n",
       "2023/09/18     1\n",
       "2023/03/08     1\n",
       "2023/06/05     1\n",
       "2023/03/15     1\n",
       "2023/08/27     1\n",
       "2021/12/24     1\n",
       "2023/04/14     1\n",
       "2021/03/04     1\n",
       "2021/09/21     1\n",
       "2023/02/13     1\n",
       "2022/02/24     1\n",
       "2016/11/07     1\n",
       "2023/03/30     1\n",
       "2023/06/15     1\n",
       "2023/10/12     1\n",
       "2023/10/01     1\n",
       "2023/06/01     1\n",
       "2023/06/07     1\n",
       "2023/08/15     1\n",
       "2023/01/25     1\n",
       "2022/05/15     1\n",
       "2020/08/28     1\n",
       "2021/08/25     1\n",
       "2023/02/15     1\n",
       "2023/09/04     1\n",
       "2023/01/24     1\n",
       "2021/02/17     1\n",
       "2021/07/10     1\n",
       "2023/08/20     1\n",
       "2023/11/11     1\n",
       "2023/12/20     1\n",
       "2023/07/26     1\n",
       "2023/09/26     1\n",
       "2023/06/13     1\n",
       "2023/10/03     1\n",
       "2018/04/11     1\n",
       "2022/05/10     1\n",
       "2022/01/21     1\n",
       "2023/01/16     1\n",
       "2023/02/07     1\n",
       "2023/07/22     1\n",
       "2022/12/29     1\n",
       "2023/11/24     1\n",
       "2022/12/23     1\n",
       "2022/01/20     1\n",
       "2020/11/03     1\n",
       "2020/11/06     1\n",
       "2023/09/02     1\n",
       "2023/10/15     1\n",
       "2023/08/21     1\n",
       "2023/11/15     1\n",
       "2020/04/26     1\n",
       "2023/10/14     1\n",
       "2021/03/29     1\n",
       "2023/10/04     1\n",
       "2022/12/31     1\n",
       "2019/02/09     1\n",
       "2022/12/30     1\n",
       "2023/02/20     1\n",
       "2023/07/20     1\n",
       "2022/12/09     1\n",
       "Name: count, dtype: int64"
      ]
     },
     "execution_count": 10,
     "metadata": {},
     "output_type": "execute_result"
    }
   ],
   "source": [
    "df['published'].value_counts(dropna=False)"
   ]
  },
  {
   "cell_type": "markdown",
   "id": "90f6dbf6-f065-4b36-b3d8-f31374197d54",
   "metadata": {},
   "source": [
    "Apparently **we have 14 blanks spaces** 🫨. \n",
    "\n",
    "This means that we obviously don't have null values, but white space is not a type of data that helps us.\n",
    "\n",
    "If we want to convert this series in time, **it won't be possible unless we eliminate it**."
   ]
  },
  {
   "cell_type": "code",
   "execution_count": 11,
   "id": "e7c9b21d-9508-4f78-a030-9b84d9d447cd",
   "metadata": {
    "scrolled": true
   },
   "outputs": [
    {
     "data": {
      "text/plain": [
       "expire\n",
       "2024/07/08    48\n",
       "2024/07/06    41\n",
       "2024/07/07    39\n",
       "2024/07/05    34\n",
       "2024/07/09    28\n",
       "2024/07/17    27\n",
       "2024/07/16    24\n",
       "2024/07/04    22\n",
       "2024/07/03    21\n",
       "2024/07/15    20\n",
       "2024/07/14    20\n",
       "2024/07/25    19\n",
       "2024/07/13    17\n",
       "2024/07/30    17\n",
       "2024/07/01    16\n",
       "2024/07/18    16\n",
       "2024/07/02    15\n",
       "2024/07/26    15\n",
       "2024/06/26    15\n",
       "2024/07/24    14\n",
       "2024/07/23    13\n",
       "2024/07/10    13\n",
       "2024/07/19    13\n",
       "2024/07/20    13\n",
       "2024/07/21    11\n",
       "2024/07/11    11\n",
       "2024/06/24    11\n",
       "2024/06/25    11\n",
       "2024/06/18    11\n",
       "2024/06/27    10\n",
       "2024/07/28    10\n",
       "2024/07/22    10\n",
       "2024/07/12     9\n",
       "2024/02/07     9\n",
       "2024/06/30     9\n",
       "2024/06/23     8\n",
       "2024/06/29     7\n",
       "2024/03/15     6\n",
       "2024/06/19     6\n",
       "2024/03/30     5\n",
       "2024/02/06     5\n",
       "2024/06/28     5\n",
       "2024/07/29     5\n",
       "2024/06/22     5\n",
       "2024/06/01     4\n",
       "2024/06/07     4\n",
       "2024/06/09     4\n",
       "2024/06/20     4\n",
       "2024/05/18     3\n",
       "2024/01/31     3\n",
       "2024/01/19     3\n",
       "2024/06/02     3\n",
       "2024/05/13     3\n",
       "2024/06/16     3\n",
       "2024/01/22     3\n",
       "2024/07/27     3\n",
       "2024/06/10     2\n",
       "2024/05/21     2\n",
       "2024/05/20     2\n",
       "2024/05/04     2\n",
       "2024/06/21     2\n",
       "2024/04/26     2\n",
       "2024/02/17     2\n",
       "2024/04/28     2\n",
       "2024/04/06     2\n",
       "2024/03/23     2\n",
       "2024/06/06     2\n",
       "2024/05/30     2\n",
       "2024/05/15     2\n",
       "2024/06/15     2\n",
       "2024/03/07     2\n",
       "2024/05/23     1\n",
       "2024/03/04     1\n",
       "2024/02/25     1\n",
       "2024/03/08     1\n",
       "2024/01/30     1\n",
       "2024/06/08     1\n",
       "2024/04/09     1\n",
       "2024/04/07     1\n",
       "2024/02/26     1\n",
       "2024/05/08     1\n",
       "2024/03/19     1\n",
       "2024/03/22     1\n",
       "2024/01/17     1\n",
       "2024/04/19     1\n",
       "2024/01/29     1\n",
       "2024/05/29     1\n",
       "2024/05/02     1\n",
       "2024/04/29     1\n",
       "2024/04/10     1\n",
       "2024/05/31     1\n",
       "2024/06/05     1\n",
       "2024/05/27     1\n",
       "2024/06/04     1\n",
       "2024/02/16     1\n",
       "2024/05/17     1\n",
       "2024/05/10     1\n",
       "2024/01/25     1\n",
       "2024/03/29     1\n",
       "2024/02/14     1\n",
       "2024/04/01     1\n",
       "2024/02/13     1\n",
       "2024/01/26     1\n",
       "2024/04/04     1\n",
       "2024/03/14     1\n",
       "2024/03/31     1\n",
       "2024/02/03     1\n",
       "2024/06/12     1\n",
       "2024/03/10     1\n",
       "2024/06/13     1\n",
       "2024/02/21     1\n",
       "2024/05/14     1\n",
       "2024/04/03     1\n",
       "2024/03/25     1\n",
       "2024/02/08     1\n",
       "2024/04/21     1\n",
       "2024/05/24     1\n",
       "2024/05/03     1\n",
       "2024/05/06     1\n",
       "2024/05/05     1\n",
       "2024/02/05     1\n",
       "2024/02/01     1\n",
       "2024/02/18     1\n",
       "2024/03/06     1\n",
       "2024/04/24     1\n",
       "2024/03/02     1\n",
       "Name: count, dtype: int64"
      ]
     },
     "execution_count": 11,
     "metadata": {},
     "output_type": "execute_result"
    }
   ],
   "source": [
    "df['expire'].value_counts(dropna=False)"
   ]
  },
  {
   "cell_type": "markdown",
   "id": "7c4d6869-d12d-4c19-87c9-0cabcfc3d203",
   "metadata": {},
   "source": [
    "its ok!"
   ]
  },
  {
   "cell_type": "code",
   "execution_count": 12,
   "id": "6dd02805-c52f-4c02-8ce0-9920b6ba20c6",
   "metadata": {},
   "outputs": [
    {
     "data": {
      "text/plain": [
       "urgent\n",
       "0    808\n",
       "1      1\n",
       "Name: count, dtype: int64"
      ]
     },
     "execution_count": 12,
     "metadata": {},
     "output_type": "execute_result"
    }
   ],
   "source": [
    "df['urgent'].value_counts(dropna=False)"
   ]
  },
  {
   "cell_type": "code",
   "execution_count": 13,
   "id": "229990c8-d5eb-4417-ad92-23c63b3b7042",
   "metadata": {},
   "outputs": [
    {
     "data": {
      "text/plain": [
       "date_scrapped\n",
       "2024/2/9    809\n",
       "Name: count, dtype: int64"
      ]
     },
     "execution_count": 13,
     "metadata": {},
     "output_type": "execute_result"
    }
   ],
   "source": [
    "df['date_scrapped'].value_counts(dropna=False)"
   ]
  },
  {
   "cell_type": "markdown",
   "id": "dae849b9-73b2-48f0-9267-2e7f632adfe9",
   "metadata": {},
   "source": [
    "ok, too."
   ]
  },
  {
   "cell_type": "markdown",
   "id": "ab75a7c8-321e-4456-804b-4b19602ef56a",
   "metadata": {},
   "source": [
    "### 6. Summary.\n",
    "\n",
    "In the 'published' series there are 2 blank spaces. \n",
    "\n",
    "<br>\n",
    "\n",
    "The quickest strategy would be to remove those 2 rows from the total dataset with a boolean filter.\n",
    "\n",
    "\n",
    "$$\\text{Porcentaje} = \\left( \\frac{\\text{Specific value}}{\\text{Total Value}} \\right) \\times 100 $$\n",
    "\n",
    "<br>\n",
    "\n",
    "In this case, if the total value is 50 and the specific value is 2, we can calculate the percentage as follows:\n",
    "\n",
    "<br>\n",
    "\n",
    "$$\\text{Percentage of total dataset} = \\left( \\frac{14}{809} \\right) \\times 100 \\approx 1,73\\% $$\n",
    "\n",
    "\n",
    "\n",
    "<br>\n",
    "\n",
    "We created the boolean filter that will help us redo our dataset"
   ]
  },
  {
   "cell_type": "code",
   "execution_count": 14,
   "id": "a970ff02-d714-413a-96c5-331577eacabd",
   "metadata": {},
   "outputs": [
    {
     "data": {
      "text/plain": [
       "published\n",
       "True     795\n",
       "False     14\n",
       "Name: count, dtype: int64"
      ]
     },
     "execution_count": 14,
     "metadata": {},
     "output_type": "execute_result"
    }
   ],
   "source": [
    "bool_published = df['published'] != \" \"\n",
    "bool_published.value_counts() # content of boolean filter"
   ]
  },
  {
   "cell_type": "markdown",
   "id": "d8701f84-5c47-447f-a76e-4c921985cf6a",
   "metadata": {},
   "source": [
    "If we want to keep the maximum number of values and remove the fewest rows, we apply the Boolean filter to the entire dataset."
   ]
  },
  {
   "cell_type": "code",
   "execution_count": 15,
   "id": "f3d96f3c-bb56-482b-9f1a-9ce3b0457501",
   "metadata": {},
   "outputs": [
    {
     "name": "stdout",
     "output_type": "stream",
     "text": [
      "<class 'pandas.core.frame.DataFrame'>\n",
      "Index: 795 entries, 0 to 808\n",
      "Data columns (total 17 columns):\n",
      " #   Column         Non-Null Count  Dtype \n",
      "---  ------         --------------  ----- \n",
      " 0   Unnamed: 0     795 non-null    int64 \n",
      " 1   urgent         795 non-null    int64 \n",
      " 2   buy            795 non-null    int64 \n",
      " 3   change         795 non-null    int64 \n",
      " 4   sell           795 non-null    int64 \n",
      " 5   price          795 non-null    int64 \n",
      " 6   gift           795 non-null    int64 \n",
      " 7   search         795 non-null    int64 \n",
      " 8   repair         795 non-null    int64 \n",
      " 9   parts          795 non-null    int64 \n",
      " 10  synt_brand     795 non-null    object\n",
      " 11  description    794 non-null    object\n",
      " 12  city           795 non-null    object\n",
      " 13  published      795 non-null    object\n",
      " 14  expire         795 non-null    object\n",
      " 15  date_scrapped  795 non-null    object\n",
      " 16  seen           795 non-null    int64 \n",
      "dtypes: int64(11), object(6)\n",
      "memory usage: 111.8+ KB\n"
     ]
    }
   ],
   "source": [
    "ndf = df[bool_published] #\n",
    "ndf.info()"
   ]
  },
  {
   "cell_type": "markdown",
   "id": "eaf48975-f06b-481c-ba7a-50bd8debd34a",
   "metadata": {},
   "source": [
    "Now all that's left is to convert the columns we're interested in to datetime.\n",
    "\n",
    "## 7. Converting Object Data Type to Datetime Data Type\n",
    "\n",
    "The \"SettingWithCopyWarning\" warning message suggests that you're trying to assign values to a view in a DataFrame instead of the original DataFrame. This can lead to unexpected or unwanted results. To avoid this warning, you can use the 'copy()' method to create an explicit copy of the DataFrame before performing any mapping operations.\n",
    "\n",
    "This way, you're working with an explicit copy of the original DataFrame and avoid the \"SettingWithCopyWarning\" warning.\n",
    "\n",
    "Their warning appears when pandas encounter something called string mapping: the combination of chaining and mapping, all in one step. It's important to note that this is simply a warning, not a mistake. The code will still run, but the results may not always match what you thought they would be"
   ]
  },
  {
   "cell_type": "code",
   "execution_count": 16,
   "id": "7ed15202-28cc-4043-806a-c9f0c32953f2",
   "metadata": {},
   "outputs": [],
   "source": [
    "ndf_copy = ndf.copy() # Avoiding SettingWithCopyWarning!!!"
   ]
  },
  {
   "cell_type": "code",
   "execution_count": 17,
   "id": "08640957-e29a-47f3-bf4d-57037fc88cd4",
   "metadata": {},
   "outputs": [],
   "source": [
    "ndf_copy['published_dt'] = pd.to_datetime(ndf_copy['published'])"
   ]
  },
  {
   "cell_type": "code",
   "execution_count": 18,
   "id": "d90ef131-0463-496a-9e8d-0e88035d12b3",
   "metadata": {},
   "outputs": [],
   "source": [
    "ndf_copy['expire_dt'] = pd.to_datetime(ndf_copy['expire'])"
   ]
  },
  {
   "cell_type": "code",
   "execution_count": 19,
   "id": "3eee7043-8df5-40f5-b568-142f468134ef",
   "metadata": {},
   "outputs": [],
   "source": [
    "ndf_copy['date_scrapped_dt'] = pd.to_datetime(ndf_copy['date_scrapped'])"
   ]
  },
  {
   "cell_type": "code",
   "execution_count": 20,
   "id": "791b8b30-656b-4bbc-a8dc-99283806caef",
   "metadata": {},
   "outputs": [
    {
     "data": {
      "text/plain": [
       "Unnamed: 0          0\n",
       "urgent              0\n",
       "buy                 0\n",
       "change              0\n",
       "sell                0\n",
       "price               0\n",
       "gift                0\n",
       "search              0\n",
       "repair              0\n",
       "parts               0\n",
       "synt_brand          0\n",
       "description         1\n",
       "city                0\n",
       "published           0\n",
       "expire              0\n",
       "date_scrapped       0\n",
       "seen                0\n",
       "published_dt        0\n",
       "expire_dt           0\n",
       "date_scrapped_dt    0\n",
       "dtype: int64"
      ]
     },
     "execution_count": 20,
     "metadata": {},
     "output_type": "execute_result"
    }
   ],
   "source": [
    "ndf_copy.isnull().sum()"
   ]
  },
  {
   "cell_type": "markdown",
   "id": "7799b5b0-efc9-4a4d-a517-5c1dc2131dce",
   "metadata": {},
   "source": [
    "We need to remove the columns that we no longer use."
   ]
  },
  {
   "cell_type": "code",
   "execution_count": 21,
   "id": "1086e5ef-0fac-42f2-aabd-7d5266bcd895",
   "metadata": {},
   "outputs": [],
   "source": [
    "remove_columns = ['published','expire','date_scrapped']\n",
    "df_january = ndf_copy.drop(remove_columns, axis=1)"
   ]
  },
  {
   "cell_type": "code",
   "execution_count": 22,
   "id": "1aa1761d-c572-4233-b1bc-64ffb353ad9a",
   "metadata": {},
   "outputs": [
    {
     "name": "stdout",
     "output_type": "stream",
     "text": [
      "<class 'pandas.core.frame.DataFrame'>\n",
      "Index: 795 entries, 0 to 808\n",
      "Data columns (total 17 columns):\n",
      " #   Column            Non-Null Count  Dtype         \n",
      "---  ------            --------------  -----         \n",
      " 0   Unnamed: 0        795 non-null    int64         \n",
      " 1   urgent            795 non-null    int64         \n",
      " 2   buy               795 non-null    int64         \n",
      " 3   change            795 non-null    int64         \n",
      " 4   sell              795 non-null    int64         \n",
      " 5   price             795 non-null    int64         \n",
      " 6   gift              795 non-null    int64         \n",
      " 7   search            795 non-null    int64         \n",
      " 8   repair            795 non-null    int64         \n",
      " 9   parts             795 non-null    int64         \n",
      " 10  synt_brand        795 non-null    object        \n",
      " 11  description       794 non-null    object        \n",
      " 12  city              795 non-null    object        \n",
      " 13  seen              795 non-null    int64         \n",
      " 14  published_dt      795 non-null    datetime64[ns]\n",
      " 15  expire_dt         795 non-null    datetime64[ns]\n",
      " 16  date_scrapped_dt  795 non-null    datetime64[ns]\n",
      "dtypes: datetime64[ns](3), int64(11), object(3)\n",
      "memory usage: 111.8+ KB\n"
     ]
    }
   ],
   "source": [
    "df_january.info()"
   ]
  },
  {
   "cell_type": "markdown",
   "id": "798ff461-5fe7-4610-8479-4c1c71351c93",
   "metadata": {},
   "source": [
    "## 8. Ratio of categorical to continuous data.\n",
    "\n",
    "The ratio of categorical to continuous data can influence the approach and techniques used in data analysis. Recognizing this difference will allow you to select the right tools and methods to explore, analyze, and draw meaningful conclusions from your dataset.\n",
    "\n",
    "<br>\n",
    "\n",
    "1. **Impact on the selection of analysis techniques**:\n",
    "\n",
    "    - **Categorical Data**: If you have more categorical data, you may focus more on descriptive analysis techniques, such as frequency charts, bar charts, and trend analysis.\n",
    "\n",
    "    - **Continuous Data**: If you have more continuous data, you'll likely lean toward more advanced statistical analysis techniques, such as regression, correlation analysis, and predictive modeling.\n",
    "\n",
    "<br>\n",
    "\n",
    "2. **Selecting Suitable Visualizations**:\n",
    "\n",
    "    - **Categorical Data**: For categorical data, you can use bar charts, pie charts, and categorized scatter plots to visualize the distribution and relationships between the different categories.\n",
    "\n",
    "    - **Continuous Data**: For continuous data, histograms, box plots, and kernel density plots are useful for visualizing the distribution and dispersion of the data.\n",
    "\n",
    "<br>\n",
    "\n",
    "3. **Data Pre-processing**:\n",
    "\n",
    "    - **Categorical Data**: You may need to perform categorical variable coding (e.g., [one-hot encoding](https://www.educative.io/blog/one-hot-encoding)) before applying certain machine learning algorithms.\n",
    "\n",
    "\n",
    "    - **Continuous Data**: You may need to normalize or standardize continuous data before applying certain algorithms to ensure that all features have equal weight.\n",
    "\n",
    "<br>\n",
    "\n",
    "\n",
    "4. **Interpretation of results**:\n",
    "\n",
    "    - **Categorical Data**: When analyzing categorical data, it is important to interpret frequencies and ratios in the context of categories in order to draw meaningful conclusions.\n",
    "\n",
    "    - **Continuous Data**: With continuous data, you can perform trend analysis, identify linear or nonlinear relationships, and make predictions based on statistical models."
   ]
  },
  {
   "cell_type": "code",
   "execution_count": 23,
   "id": "a378c34f-86da-46e1-9fc2-38fc2b0c538a",
   "metadata": {},
   "outputs": [
    {
     "data": {
      "text/plain": [
       "(795, 17)"
      ]
     },
     "execution_count": 23,
     "metadata": {},
     "output_type": "execute_result"
    }
   ],
   "source": [
    "df_january.shape"
   ]
  },
  {
   "cell_type": "code",
   "execution_count": 24,
   "id": "655e0f79-b91c-4ec7-960d-92e5fca5fbd7",
   "metadata": {},
   "outputs": [
    {
     "data": {
      "text/html": [
       "<div>\n",
       "<style scoped>\n",
       "    .dataframe tbody tr th:only-of-type {\n",
       "        vertical-align: middle;\n",
       "    }\n",
       "\n",
       "    .dataframe tbody tr th {\n",
       "        vertical-align: top;\n",
       "    }\n",
       "\n",
       "    .dataframe thead th {\n",
       "        text-align: right;\n",
       "    }\n",
       "</style>\n",
       "<table border=\"1\" class=\"dataframe\">\n",
       "  <thead>\n",
       "    <tr style=\"text-align: right;\">\n",
       "      <th></th>\n",
       "      <th>Unnamed: 0</th>\n",
       "      <th>urgent</th>\n",
       "      <th>buy</th>\n",
       "      <th>change</th>\n",
       "      <th>sell</th>\n",
       "      <th>price</th>\n",
       "      <th>gift</th>\n",
       "      <th>search</th>\n",
       "      <th>repair</th>\n",
       "      <th>parts</th>\n",
       "      <th>seen</th>\n",
       "      <th>published_dt</th>\n",
       "      <th>expire_dt</th>\n",
       "      <th>date_scrapped_dt</th>\n",
       "    </tr>\n",
       "  </thead>\n",
       "  <tbody>\n",
       "    <tr>\n",
       "      <th>count</th>\n",
       "      <td>795.000000</td>\n",
       "      <td>795.000000</td>\n",
       "      <td>795.000000</td>\n",
       "      <td>795.000000</td>\n",
       "      <td>795.000000</td>\n",
       "      <td>795.000000</td>\n",
       "      <td>795.000000</td>\n",
       "      <td>795.000000</td>\n",
       "      <td>795.0</td>\n",
       "      <td>795.000000</td>\n",
       "      <td>795.000000</td>\n",
       "      <td>795</td>\n",
       "      <td>795</td>\n",
       "      <td>795</td>\n",
       "    </tr>\n",
       "    <tr>\n",
       "      <th>mean</th>\n",
       "      <td>405.500629</td>\n",
       "      <td>0.001258</td>\n",
       "      <td>0.021384</td>\n",
       "      <td>0.040252</td>\n",
       "      <td>0.943396</td>\n",
       "      <td>624.564780</td>\n",
       "      <td>0.001258</td>\n",
       "      <td>0.006289</td>\n",
       "      <td>0.0</td>\n",
       "      <td>0.001258</td>\n",
       "      <td>609.144654</td>\n",
       "      <td>2023-10-21 09:16:04.528301824</td>\n",
       "      <td>2024-06-23 11:17:26.037735936</td>\n",
       "      <td>2024-02-08 23:59:59.999999744</td>\n",
       "    </tr>\n",
       "    <tr>\n",
       "      <th>min</th>\n",
       "      <td>1.000000</td>\n",
       "      <td>0.000000</td>\n",
       "      <td>0.000000</td>\n",
       "      <td>0.000000</td>\n",
       "      <td>0.000000</td>\n",
       "      <td>0.000000</td>\n",
       "      <td>0.000000</td>\n",
       "      <td>0.000000</td>\n",
       "      <td>0.0</td>\n",
       "      <td>0.000000</td>\n",
       "      <td>4.000000</td>\n",
       "      <td>2015-03-03 00:00:00</td>\n",
       "      <td>2024-01-17 00:00:00</td>\n",
       "      <td>2024-02-09 00:00:00</td>\n",
       "    </tr>\n",
       "    <tr>\n",
       "      <th>25%</th>\n",
       "      <td>202.500000</td>\n",
       "      <td>0.000000</td>\n",
       "      <td>0.000000</td>\n",
       "      <td>0.000000</td>\n",
       "      <td>1.000000</td>\n",
       "      <td>120.000000</td>\n",
       "      <td>0.000000</td>\n",
       "      <td>0.000000</td>\n",
       "      <td>0.0</td>\n",
       "      <td>0.000000</td>\n",
       "      <td>152.000000</td>\n",
       "      <td>2023-10-17 00:00:00</td>\n",
       "      <td>2024-06-26 00:00:00</td>\n",
       "      <td>2024-02-09 00:00:00</td>\n",
       "    </tr>\n",
       "    <tr>\n",
       "      <th>50%</th>\n",
       "      <td>404.000000</td>\n",
       "      <td>0.000000</td>\n",
       "      <td>0.000000</td>\n",
       "      <td>0.000000</td>\n",
       "      <td>1.000000</td>\n",
       "      <td>300.000000</td>\n",
       "      <td>0.000000</td>\n",
       "      <td>0.000000</td>\n",
       "      <td>0.0</td>\n",
       "      <td>0.000000</td>\n",
       "      <td>312.000000</td>\n",
       "      <td>2024-01-26 00:00:00</td>\n",
       "      <td>2024-07-07 00:00:00</td>\n",
       "      <td>2024-02-09 00:00:00</td>\n",
       "    </tr>\n",
       "    <tr>\n",
       "      <th>75%</th>\n",
       "      <td>609.500000</td>\n",
       "      <td>0.000000</td>\n",
       "      <td>0.000000</td>\n",
       "      <td>0.000000</td>\n",
       "      <td>1.000000</td>\n",
       "      <td>700.000000</td>\n",
       "      <td>0.000000</td>\n",
       "      <td>0.000000</td>\n",
       "      <td>0.0</td>\n",
       "      <td>0.000000</td>\n",
       "      <td>621.500000</td>\n",
       "      <td>2024-02-06 00:00:00</td>\n",
       "      <td>2024-07-16 00:00:00</td>\n",
       "      <td>2024-02-09 00:00:00</td>\n",
       "    </tr>\n",
       "    <tr>\n",
       "      <th>max</th>\n",
       "      <td>809.000000</td>\n",
       "      <td>1.000000</td>\n",
       "      <td>1.000000</td>\n",
       "      <td>1.000000</td>\n",
       "      <td>1.000000</td>\n",
       "      <td>12000.000000</td>\n",
       "      <td>1.000000</td>\n",
       "      <td>1.000000</td>\n",
       "      <td>0.0</td>\n",
       "      <td>1.000000</td>\n",
       "      <td>22551.000000</td>\n",
       "      <td>2024-02-09 00:00:00</td>\n",
       "      <td>2024-07-30 00:00:00</td>\n",
       "      <td>2024-02-09 00:00:00</td>\n",
       "    </tr>\n",
       "    <tr>\n",
       "      <th>std</th>\n",
       "      <td>234.108343</td>\n",
       "      <td>0.035466</td>\n",
       "      <td>0.144751</td>\n",
       "      <td>0.196672</td>\n",
       "      <td>0.231229</td>\n",
       "      <td>987.873816</td>\n",
       "      <td>0.035466</td>\n",
       "      <td>0.079105</td>\n",
       "      <td>0.0</td>\n",
       "      <td>0.035466</td>\n",
       "      <td>1323.739430</td>\n",
       "      <td>NaN</td>\n",
       "      <td>NaN</td>\n",
       "      <td>NaN</td>\n",
       "    </tr>\n",
       "  </tbody>\n",
       "</table>\n",
       "</div>"
      ],
      "text/plain": [
       "       Unnamed: 0      urgent         buy      change        sell  \\\n",
       "count  795.000000  795.000000  795.000000  795.000000  795.000000   \n",
       "mean   405.500629    0.001258    0.021384    0.040252    0.943396   \n",
       "min      1.000000    0.000000    0.000000    0.000000    0.000000   \n",
       "25%    202.500000    0.000000    0.000000    0.000000    1.000000   \n",
       "50%    404.000000    0.000000    0.000000    0.000000    1.000000   \n",
       "75%    609.500000    0.000000    0.000000    0.000000    1.000000   \n",
       "max    809.000000    1.000000    1.000000    1.000000    1.000000   \n",
       "std    234.108343    0.035466    0.144751    0.196672    0.231229   \n",
       "\n",
       "              price        gift      search  repair       parts          seen  \\\n",
       "count    795.000000  795.000000  795.000000   795.0  795.000000    795.000000   \n",
       "mean     624.564780    0.001258    0.006289     0.0    0.001258    609.144654   \n",
       "min        0.000000    0.000000    0.000000     0.0    0.000000      4.000000   \n",
       "25%      120.000000    0.000000    0.000000     0.0    0.000000    152.000000   \n",
       "50%      300.000000    0.000000    0.000000     0.0    0.000000    312.000000   \n",
       "75%      700.000000    0.000000    0.000000     0.0    0.000000    621.500000   \n",
       "max    12000.000000    1.000000    1.000000     0.0    1.000000  22551.000000   \n",
       "std      987.873816    0.035466    0.079105     0.0    0.035466   1323.739430   \n",
       "\n",
       "                        published_dt                      expire_dt  \\\n",
       "count                            795                            795   \n",
       "mean   2023-10-21 09:16:04.528301824  2024-06-23 11:17:26.037735936   \n",
       "min              2015-03-03 00:00:00            2024-01-17 00:00:00   \n",
       "25%              2023-10-17 00:00:00            2024-06-26 00:00:00   \n",
       "50%              2024-01-26 00:00:00            2024-07-07 00:00:00   \n",
       "75%              2024-02-06 00:00:00            2024-07-16 00:00:00   \n",
       "max              2024-02-09 00:00:00            2024-07-30 00:00:00   \n",
       "std                              NaN                            NaN   \n",
       "\n",
       "                    date_scrapped_dt  \n",
       "count                            795  \n",
       "mean   2024-02-08 23:59:59.999999744  \n",
       "min              2024-02-09 00:00:00  \n",
       "25%              2024-02-09 00:00:00  \n",
       "50%              2024-02-09 00:00:00  \n",
       "75%              2024-02-09 00:00:00  \n",
       "max              2024-02-09 00:00:00  \n",
       "std                              NaN  "
      ]
     },
     "execution_count": 24,
     "metadata": {},
     "output_type": "execute_result"
    }
   ],
   "source": [
    "df_january.describe()"
   ]
  },
  {
   "cell_type": "code",
   "execution_count": 25,
   "id": "abeb9116-0fdd-47cb-a316-5773cd4c99e7",
   "metadata": {},
   "outputs": [
    {
     "data": {
      "text/plain": [
       "(795,)"
      ]
     },
     "execution_count": 25,
     "metadata": {},
     "output_type": "execute_result"
    }
   ],
   "source": [
    "df_january.shape[0:1]"
   ]
  },
  {
   "cell_type": "code",
   "execution_count": 26,
   "id": "69bfe36d-40d5-4e28-8a29-bf4eef182f98",
   "metadata": {},
   "outputs": [
    {
     "name": "stdout",
     "output_type": "stream",
     "text": [
      "urgent\t [0.12578616] %\n",
      "buy\t [2.13836478] %\n",
      "change\t [4.02515723] %\n",
      "sell\t [94.33962264] %\n",
      "gift\t [0.12578616] %\n",
      "search\t [0.62893082] %\n",
      "repair\t [0.] %\n",
      "parts\t [0.12578616] %\n"
     ]
    }
   ],
   "source": [
    "data_points = df_january.shape[0:1]\n",
    "actions = ['urgent', 'buy', 'change', 'sell', 'gift', 'search', 'repair','parts']\n",
    "for action in actions:\n",
    "    print(f\"{action:}\"+'\\t',(df_january[action].sum() * 100) / data_points,\"%\")"
   ]
  },
  {
   "cell_type": "markdown",
   "id": "8235d027-0b65-4db3-9101-1aa388b7bf2a",
   "metadata": {},
   "source": [
    "To get descriptive statistics for non-numeric columns."
   ]
  },
  {
   "cell_type": "code",
   "execution_count": 27,
   "id": "6342b273-489d-4917-8ef1-e68b78d85278",
   "metadata": {},
   "outputs": [
    {
     "data": {
      "text/html": [
       "<div>\n",
       "<style scoped>\n",
       "    .dataframe tbody tr th:only-of-type {\n",
       "        vertical-align: middle;\n",
       "    }\n",
       "\n",
       "    .dataframe tbody tr th {\n",
       "        vertical-align: top;\n",
       "    }\n",
       "\n",
       "    .dataframe thead th {\n",
       "        text-align: right;\n",
       "    }\n",
       "</style>\n",
       "<table border=\"1\" class=\"dataframe\">\n",
       "  <thead>\n",
       "    <tr style=\"text-align: right;\">\n",
       "      <th></th>\n",
       "      <th>synt_brand</th>\n",
       "      <th>description</th>\n",
       "      <th>city</th>\n",
       "      <th>published</th>\n",
       "      <th>expire</th>\n",
       "      <th>date_scrapped</th>\n",
       "    </tr>\n",
       "  </thead>\n",
       "  <tbody>\n",
       "    <tr>\n",
       "      <th>count</th>\n",
       "      <td>795</td>\n",
       "      <td>794</td>\n",
       "      <td>795</td>\n",
       "      <td>795</td>\n",
       "      <td>795</td>\n",
       "      <td>795</td>\n",
       "    </tr>\n",
       "    <tr>\n",
       "      <th>unique</th>\n",
       "      <td>151</td>\n",
       "      <td>781</td>\n",
       "      <td>41</td>\n",
       "      <td>204</td>\n",
       "      <td>125</td>\n",
       "      <td>1</td>\n",
       "    </tr>\n",
       "    <tr>\n",
       "      <th>top</th>\n",
       "      <td>roland</td>\n",
       "      <td>dreadbox typhon</td>\n",
       "      <td>Madrid</td>\n",
       "      <td>2024/02/09</td>\n",
       "      <td>2024/07/08</td>\n",
       "      <td>2024/2/9</td>\n",
       "    </tr>\n",
       "    <tr>\n",
       "      <th>freq</th>\n",
       "      <td>103</td>\n",
       "      <td>2</td>\n",
       "      <td>222</td>\n",
       "      <td>79</td>\n",
       "      <td>47</td>\n",
       "      <td>795</td>\n",
       "    </tr>\n",
       "  </tbody>\n",
       "</table>\n",
       "</div>"
      ],
      "text/plain": [
       "       synt_brand       description    city   published      expire  \\\n",
       "count         795               794     795         795         795   \n",
       "unique        151               781      41         204         125   \n",
       "top        roland  dreadbox typhon   Madrid  2024/02/09  2024/07/08   \n",
       "freq          103                 2     222          79          47   \n",
       "\n",
       "       date_scrapped  \n",
       "count            795  \n",
       "unique             1  \n",
       "top         2024/2/9  \n",
       "freq             795  "
      ]
     },
     "execution_count": 27,
     "metadata": {},
     "output_type": "execute_result"
    }
   ],
   "source": [
    "ndf_copy.describe(include=object)"
   ]
  },
  {
   "cell_type": "markdown",
   "id": "2692a207-ee42-49e8-8bfd-17f0eea8738c",
   "metadata": {},
   "source": [
    "### Summary\n",
    "\n",
    "The first thing is that the relationship between categories and continuous data is very balanced, so it is a dataset that in principle promises a lot since we can make use of descriptive analysis techniques, and we can also explore more advanced statistical analysis techniques, such as regression, correlation analysis, and predictive modeling.\n",
    "\n",
    "We also see that the number of data points 146250 quite large. In order to work with machine learning models, it can be interesting.\n",
    "\n",
    "With the `describe` method we obtain statistics from the numerical columns:\n",
    "\n",
    "We have a percentage of 95 percent of sales followed by almost 4 percent of change and 1 percent of purchase, if we take into account that we are talking about a total of 14650 data points we will understand that it is not little.\n",
    "\n",
    "The average selling price of an instrument is around €682\n",
    "\n",
    "The standard deviation 0,20 simply tells us how variable the prices are with respect to the mean value a standard deviation of 0.20 from the mean would not be considered very high. \n",
    "\n",
    "A relatively low standard deviation indicates that individual prices tend to be closer to the average price, suggesting that there is less variability in prices. \n",
    "\n",
    "A standard deviation of 0.20 indicates that most individual prices are within a relatively narrow range around the average price. \n",
    "\n",
    "In other words, prices tend to be fairly close to the average price, which means that **there is a consistency in prices**. \n",
    "\n",
    "In relation to the descriptive statistics we find that there are 127 different brands of manufacturers, from 41 different cities, that the brand that is repeated the most is Roland, the eurorack modules and the city with the highest number of sales is Madrid.\n",
    "\n",
    "La diferencia entre el valor maximo y el 3er rango intercuartilico no  parece ser grande por lo que de entrada se descarta la existencia de outlyers aunque se comprobará a su debido tiempo."
   ]
  },
  {
   "cell_type": "markdown",
   "id": "405ac7fb-b0d2-45c3-a5a3-f9990bd85557",
   "metadata": {},
   "source": [
    "1. Mira la estadística resumida de cada columna. Esto te dará una idea del rango de valores, la media y la desviación estándar de cada variable. Puedes usar la función `summary()` en R para hacer esto.\n",
    "2. Visualiza la distribución de cada variable utilizando histogramas o gráficos de cajas. Esto te dará una idea de la forma de los datos y si hay algún outlier o valores esqueléticos. Puedes usar la biblioteca `ggplot2` en R para crear estas visualizaciones.\n",
    "3. Verifica si hay valores missing y decide cómo manejarlos. Puedes usar la función `is.na()` en R para identificar los valores missing, y luego decidir si imputarlos o eliminarlos de tu análisis.\n",
    "4. Busca correlaciones entre las variables utilizando una matriz de correlación. Esto te ayudará a identificar las relaciones entre las variables y planificar tu análisis en consecuencia. Puedes usar la función `cor()` en R para crear una matriz de correlación.\n",
    "5. Considera crear una visualización de datos, como un gráfico de dispersión o un gráfico de barras, para explorar las relaciones entre las variables. Esto te dará una representación visual de los datos y te ayudará a identificar patrones o tendencias.\n",
    "6. Finalmente, piensa en tu pregunta de investigación y en lo que quieres obtener de tu análisis. Esto te ayudará a determinar qué variables enfocar y cómo acercarte a tu análisis.\n",
    "\n",
    "\n",
    "chatgpt\n",
    "\n",
    "¡Hola! Comenzar con el análisis exploratorio de datos es una parte emocionante del proceso, ya que te permite comprender mejor tus datos y extraer información útil. Aquí te muestro algunos pasos que podrías seguir para iniciar tu análisis exploratorio:\n",
    "\n",
    "1. **Exploración inicial**:\n",
    "   - Lee tu conjunto de datos y visualiza las primeras filas para comprender la estructura y el formato de tus datos.\n",
    "   - Verifica el tipo de datos de cada columna para asegurarte de que se interpretan correctamente.\n",
    "\n",
    "2. **Estadísticas resumidas**:\n",
    "   - Calcula estadísticas descriptivas básicas para cada columna, como media, mediana, desviación estándar, mínimo y máximo. Esto te dará una idea general de la distribución de tus datos.\n",
    "\n",
    "3. **Visualización de datos univariados**:\n",
    "   - Crea gráficos para visualizar la distribución de cada variable por separado. Por ejemplo, histogramas para variables numéricas y gráficos de barras para variables categóricas.\n",
    "   - Observa patrones, valores atípicos y posibles errores en los datos.\n",
    "\n",
    "4. **Visualización de datos bivariados**:\n",
    "   - Explora relaciones entre pares de variables. Por ejemplo, puedes usar gráficos de dispersión para ver la relación entre dos variables numéricas y gráficos de barras para ver la relación entre una variable numérica y una categórica.\n",
    "   - Busca correlaciones o patrones interesantes entre las variables.\n",
    "\n",
    "5. **Manejo de datos faltantes**:\n",
    "   - Identifica y maneja los datos faltantes en tu conjunto de datos. Puedes eliminar filas con datos faltantes, imputar valores faltantes o usar técnicas más avanzadas según sea necesario.\n",
    "\n",
    "6. **Análisis temporal**:\n",
    "   - Si tienes columnas de fecha, como \"published_dt\" o \"expire_dt\", puedes realizar análisis temporal para comprender cómo cambian las variables a lo largo del tiempo.\n",
    "\n",
    "7. **Análisis de valores atípicos**:\n",
    "   - Identifica valores atípicos en tus datos y decide si deben ser tratados o no. Los valores atípicos pueden influir en tus análisis y modelos, por lo que es importante tenerlos en cuenta.\n",
    "\n",
    "8. **Análisis de correlación**:\n",
    "   - Calcula la matriz de correlación para entender las relaciones lineales entre las variables. Esto te ayudará a identificar qué variables están relacionadas entre sí y qué variables pueden ser predictivas unas de otras.\n",
    "\n",
    "Estos son solo algunos pasos iniciales que puedes seguir para realizar un análisis exploratorio de datos. A medida que explores tus datos, es posible que surjan nuevas preguntas y áreas de interés que te llevarán a realizar análisis más detallados y específicos. ¡Disfruta explorando tus datos! Si tienes alguna pregunta específica o necesitas ayuda con algún paso en particular, ¡no dudes en preguntar!"
   ]
  },
  {
   "cell_type": "markdown",
   "id": "3aff73ff-eaa2-4b33-b17c-e8dbb6c553db",
   "metadata": {},
   "source": [
    "##  **Descriptive analysis**:\n",
    "   - What is the distribution of selling prices in the dataset?\n",
    "   - Are there any outliers in the sales data?\n",
    "   - How are sales distributed by city and product?\n",
    "\n",
    "### Histograma\n",
    "\n",
    "A sales histogram is a graphical representation that shows the distribution of sales for a product or multiple products over a specific period of time. \n",
    "\n",
    "In a sales histogram, the horizontal axis usually represents time (e.g., days, weeks, months, years) and the vertical axis represents the number of sales. Each bar in the histogram represents a time interval (e.g., a day, a week, a month) and the height of the bar indicates the number of sales made during that period. \n",
    "\n",
    "Therefore, the higher the bar, the higher the number of sales in that specific time interval. Sales histograms are useful for analyzing and understanding variability and patterns in sales over time. They can help identify trends, seasonality, activity spikes, and other patterns that can influence a company's sales and marketing strategies.\n",
    "\n",
    "In addition, sales histograms can also be useful for comparing the performance of different products or product categories, as well as assessing the impact of external factors such as promotions, seasonal changes, special events, among others, on the company's sales.\n",
    "\n"
   ]
  },
  {
   "cell_type": "code",
   "execution_count": 28,
   "id": "bbf20e64-507c-4ebc-9b82-197adefb09f2",
   "metadata": {},
   "outputs": [
    {
     "data": {
      "image/png": "[encoded data removed]",
      "text/plain": [
       "<Figure size 1600x1400 with 9 Axes>"
      ]
     },
     "metadata": {},
     "output_type": "display_data"
    }
   ],
   "source": [
    "plt.figure(figsize=(16,14))\n",
    "\n",
    "actions = ['urgent', 'buy', 'change', 'sell', 'gift', 'search', 'repair','parts']\n",
    "colorines = [\"orange\",\"red\",\"blue\",\"purple\",\"green\",\"cyan\",\"black\",\"pink\"]\n",
    "\n",
    "plt.title('Histogram of Frequency of Ads on the Web Page')\n",
    "for a in range(1,9):\n",
    "    plt.subplot(4,2,a)\n",
    "    plt.hist(ndf_copy[actions[-a]],\n",
    "             bins=16, \n",
    "             color=colorines[-a], \n",
    "             alpha=0.5)\n",
    "    \n",
    "    plt.xlabel(actions[-a])\n",
    "    plt.ylabel('Frecuency')\n",
    "plt.show()"
   ]
  },
  {
   "cell_type": "markdown",
   "id": "dd292f90-0959-4be0-85ca-d2bff3662622",
   "metadata": {},
   "source": [
    "My dataset consists of 8 columns, each represented by a histogram. \n",
    "\n",
    "Interestingly, in the 'parts' column, which has a frequency of 800 (virtually the entire dataset), the corresponding bar on the x-axis shows a value of zero. \n",
    "\n",
    "The same occurs with the columns indicating items for repair, urgency, gift, and search. Despite the majority of ads expressing no interest in exchange, the number of cases requesting to buy is surprisingly low. \n",
    "\n",
    "On the other hand, in the 'sell' column, although the majority indicates it is not for sale, there is a considerable number of ads that are. \n",
    "\n",
    "This highlights the existence of exceptions within the majority observed in the dataset.\n",
    "\n",
    "### Frequency of prices on the Web Page\n",
    "\n",
    "First of all, we are going to visualize the price of the ads by means of a histogram to clearly see what is the price range in which the hispasonic ads move."
   ]
  },
  {
   "cell_type": "code",
   "execution_count": 29,
   "id": "9b468b75-e77e-4838-940a-c287c7e347dc",
   "metadata": {},
   "outputs": [
    {
     "data": {
      "image/png": "[encoded data removed]",
      "text/plain": [
       "<Figure size 800x700 with 1 Axes>"
      ]
     },
     "metadata": {},
     "output_type": "display_data"
    }
   ],
   "source": [
    "plt.figure(figsize=(8,7))\n",
    "\n",
    "plt.title('Histogram of prices on the Web Page')\n",
    "\n",
    "plt.hist(ndf_copy[\"price\"],bins=500, color='blue', alpha=0.5)\n",
    "plt.xlabel('price')\n",
    "plt.ylabel('Frecuency')\n",
    "plt.show()"
   ]
  },
  {
   "cell_type": "code",
   "execution_count": null,
   "id": "ab0054c0-c78f-4953-bd7c-fc2992a32a7f",
   "metadata": {},
   "outputs": [],
   "source": []
  },
  {
   "cell_type": "code",
   "execution_count": 38,
   "id": "649c5a80-bd05-4be2-903d-e53a58659297",
   "metadata": {},
   "outputs": [
    {
     "data": {
      "image/png": "[encoded data removed]",
      "text/plain": [
       "<Figure size 400x1000 with 1 Axes>"
      ]
     },
     "metadata": {},
     "output_type": "display_data"
    }
   ],
   "source": [
    "# Two outliers taken\n",
    "\n",
    "fig = plt.figure(figsize =(4, 10))\n",
    "arr = ndf_copy[\"price\"]\n",
    " \n",
    "plt.boxplot(arr)\n",
    "\n",
    "plt.show()"
   ]
  },
  {
   "cell_type": "code",
   "execution_count": 39,
   "id": "439fa956-7c87-41b6-afed-21752b0dc0e0",
   "metadata": {},
   "outputs": [
    {
     "data": {
      "text/plain": [
       "count      795.000000\n",
       "mean       624.564780\n",
       "std        987.873816\n",
       "min          0.000000\n",
       "25%        120.000000\n",
       "50%        300.000000\n",
       "75%        700.000000\n",
       "max      12000.000000\n",
       "Name: price, dtype: float64"
      ]
     },
     "execution_count": 39,
     "metadata": {},
     "output_type": "execute_result"
    }
   ],
   "source": [
    "ndf_copy[\"price\"].describe()"
   ]
  },
  {
   "cell_type": "markdown",
   "id": "d16cded3-07de-4320-b9b8-08f257a5cc62",
   "metadata": {},
   "source": [
    "We'll do the same thing, but instead of doing it with a histogram, what we'll do is visualize the data using the box and cat's whisker graph that Mr. Tukey invented in his need to apply his exploratory data analysis.\n",
    "\n",
    "The average price sold at Hispasonico does not exceed €650\n",
    "\n"
   ]
  },
  {
   "cell_type": "code",
   "execution_count": null,
   "id": "7d3dafb3-9f77-4bd0-a59e-93ee623eabee",
   "metadata": {},
   "outputs": [],
   "source": []
  },
  {
   "cell_type": "code",
   "execution_count": null,
   "id": "5c10b63b-c0c3-4f67-9a02-f00d21930d77",
   "metadata": {},
   "outputs": [],
   "source": []
  },
  {
   "cell_type": "code",
   "execution_count": null,
   "id": "dff72c6b-e811-40f5-b293-0c01a1fedd27",
   "metadata": {},
   "outputs": [],
   "source": []
  },
  {
   "cell_type": "code",
   "execution_count": null,
   "id": "242e9ff7-f2a0-45c8-b722-255b525d898f",
   "metadata": {},
   "outputs": [],
   "source": []
  },
  {
   "cell_type": "code",
   "execution_count": null,
   "id": "ccfeec9e-7834-48e3-aeeb-a8d06d9aa661",
   "metadata": {},
   "outputs": [],
   "source": []
  },
  {
   "cell_type": "code",
   "execution_count": null,
   "id": "49d7ffa1-e874-465f-8fcd-d2d9b380beb3",
   "metadata": {},
   "outputs": [],
   "source": []
  },
  {
   "cell_type": "code",
   "execution_count": null,
   "id": "60cb4d89-abb7-4139-b72e-4ede529a5893",
   "metadata": {},
   "outputs": [],
   "source": []
  },
  {
   "cell_type": "code",
   "execution_count": null,
   "id": "9853b7f5-58d8-4987-83ce-0c431b3b946c",
   "metadata": {},
   "outputs": [],
   "source": []
  },
  {
   "cell_type": "markdown",
   "id": "f131769c-3329-49dc-9245-b352711a6ed3",
   "metadata": {},
   "source": [
    "Lo primero es destacar que la distribución tiene un sesgo hacia la izquierda\n",
    "\n",
    "Se puede apreciar que tenemos anuncios desde hace mucho tiempo\n",
    "\n",
    "el periodo de finales de 2022 hasta mediados de 2023 tiene un comportamiento mientras que a finales de 2023 tiene otro mucho mas marcado\n",
    "\n",
    "en color naranja tenemos las fechas en las cuales expiran los anuncios.\n",
    "\n",
    "Vamos a verque sucede entre 2023 y 2024\n",
    "\n",
    "\n",
    "1. **Descriptive analysis**:\n",
    "   - What is the distribution of selling prices in the dataset?\n",
    "   - Are there any outliers in the sales data?\n",
    "   - How are sales distributed by city and product?\n"
   ]
  },
  {
   "cell_type": "code",
   "execution_count": null,
   "id": "b7d1fac1-9857-4ffd-82e9-31a0d0e29bf3",
   "metadata": {},
   "outputs": [],
   "source": []
  },
  {
   "cell_type": "code",
   "execution_count": null,
   "id": "54f8aa18-277b-4177-ae27-8614d9b4b843",
   "metadata": {},
   "outputs": [],
   "source": []
  },
  {
   "cell_type": "code",
   "execution_count": null,
   "id": "0092e961-3e4c-42ea-be2a-a06309c46f29",
   "metadata": {},
   "outputs": [],
   "source": []
  },
  {
   "cell_type": "code",
   "execution_count": null,
   "id": "95f9acb6-1ec0-48ec-811e-692b247dc6e2",
   "metadata": {},
   "outputs": [],
   "source": []
  },
  {
   "cell_type": "code",
   "execution_count": null,
   "id": "d88c89f8-4fe5-411a-999d-ebc9dc4f883e",
   "metadata": {},
   "outputs": [],
   "source": []
  },
  {
   "cell_type": "code",
   "execution_count": null,
   "id": "011e4dbb-8cbd-43b9-80c9-fc21787bd554",
   "metadata": {},
   "outputs": [],
   "source": []
  },
  {
   "cell_type": "code",
   "execution_count": null,
   "id": "91ec8d24-54e0-4f16-a034-62b70d73767a",
   "metadata": {},
   "outputs": [],
   "source": []
  },
  {
   "cell_type": "code",
   "execution_count": null,
   "id": "241262f2-29e5-45a4-8c10-43e2cee8113a",
   "metadata": {},
   "outputs": [],
   "source": []
  },
  {
   "cell_type": "code",
   "execution_count": null,
   "id": "c2cae810-ae0e-46f5-a091-d8fef03a0682",
   "metadata": {},
   "outputs": [],
   "source": []
  },
  {
   "cell_type": "code",
   "execution_count": null,
   "id": "58bf6b13-7fbb-41a5-956b-bc7918b80c2d",
   "metadata": {},
   "outputs": [],
   "source": []
  },
  {
   "cell_type": "code",
   "execution_count": null,
   "id": "ebe10d09-c831-4a42-b8c0-5d42fe2fa48f",
   "metadata": {},
   "outputs": [],
   "source": []
  },
  {
   "cell_type": "code",
   "execution_count": null,
   "id": "2a1a1f59-d446-4e91-8f91-50ca241f0699",
   "metadata": {},
   "outputs": [],
   "source": []
  },
  {
   "cell_type": "code",
   "execution_count": null,
   "id": "26b4cf94-6080-4082-a589-e08156eacf97",
   "metadata": {},
   "outputs": [],
   "source": []
  },
  {
   "cell_type": "code",
   "execution_count": null,
   "id": "7193c4a8-7c2c-40ac-8f70-d613189be69a",
   "metadata": {},
   "outputs": [],
   "source": []
  },
  {
   "cell_type": "code",
   "execution_count": null,
   "id": "c09389ce-b61b-4666-b8aa-4b4534e1e844",
   "metadata": {},
   "outputs": [],
   "source": []
  },
  {
   "cell_type": "code",
   "execution_count": null,
   "id": "b8ad5767-04da-4849-919b-a210e0962a74",
   "metadata": {},
   "outputs": [],
   "source": []
  },
  {
   "cell_type": "code",
   "execution_count": null,
   "id": "3830872e-76c1-4be5-96f0-f1e2a44576cf",
   "metadata": {},
   "outputs": [],
   "source": []
  },
  {
   "cell_type": "code",
   "execution_count": null,
   "id": "652d6691-8169-4820-a1ca-361c5fcf65e5",
   "metadata": {},
   "outputs": [],
   "source": []
  },
  {
   "cell_type": "code",
   "execution_count": null,
   "id": "7c7f6e1f-1610-4bf1-9409-4529cd896588",
   "metadata": {},
   "outputs": [],
   "source": []
  },
  {
   "cell_type": "code",
   "execution_count": null,
   "id": "68ff488b-d5d5-4910-a2d4-03c23c855d99",
   "metadata": {},
   "outputs": [],
   "source": []
  },
  {
   "cell_type": "code",
   "execution_count": null,
   "id": "adb80f93-d164-43ad-81db-75d5701916ce",
   "metadata": {},
   "outputs": [],
   "source": []
  },
  {
   "cell_type": "code",
   "execution_count": null,
   "id": "48ad90b7-437d-4c2f-a12c-b6e2bb2d3f04",
   "metadata": {},
   "outputs": [],
   "source": []
  },
  {
   "cell_type": "code",
   "execution_count": null,
   "id": "847d5316-40c6-4afe-aa79-9cf6f1734b64",
   "metadata": {},
   "outputs": [],
   "source": []
  },
  {
   "cell_type": "code",
   "execution_count": null,
   "id": "ef3d939b-83f9-4380-9ee8-c8e252949f01",
   "metadata": {},
   "outputs": [],
   "source": []
  },
  {
   "cell_type": "code",
   "execution_count": null,
   "id": "b2a9cbdd-30d4-4faf-87e0-bf1887ea0849",
   "metadata": {},
   "outputs": [],
   "source": []
  },
  {
   "cell_type": "code",
   "execution_count": null,
   "id": "f68b86da-b6ce-4a1a-ba77-30f69ec6e091",
   "metadata": {},
   "outputs": [],
   "source": []
  },
  {
   "cell_type": "code",
   "execution_count": null,
   "id": "fa6d9ffd-b535-44dc-b7f1-01cd321baae1",
   "metadata": {},
   "outputs": [],
   "source": []
  },
  {
   "cell_type": "code",
   "execution_count": null,
   "id": "e6f0610c-7f58-495b-a19d-73c0635fb723",
   "metadata": {},
   "outputs": [],
   "source": []
  },
  {
   "cell_type": "code",
   "execution_count": null,
   "id": "8c64752a-af13-45f8-a69e-053cff87c991",
   "metadata": {},
   "outputs": [],
   "source": []
  },
  {
   "cell_type": "code",
   "execution_count": null,
   "id": "5ef5e3cf-5978-4247-bf8a-848b6cfd3b09",
   "metadata": {},
   "outputs": [],
   "source": []
  },
  {
   "cell_type": "code",
   "execution_count": null,
   "id": "b157aba4-eecb-4353-b7ae-57efd616954d",
   "metadata": {},
   "outputs": [],
   "source": []
  },
  {
   "cell_type": "code",
   "execution_count": null,
   "id": "b66d26c7-7721-4314-b4ba-e5e460f84784",
   "metadata": {},
   "outputs": [],
   "source": []
  },
  {
   "cell_type": "code",
   "execution_count": null,
   "id": "85a5b39f-c6d2-422e-bcab-f6aa15d062b3",
   "metadata": {},
   "outputs": [],
   "source": []
  },
  {
   "cell_type": "code",
   "execution_count": null,
   "id": "89af5e5c-f606-49cd-b817-dd949d563d45",
   "metadata": {},
   "outputs": [],
   "source": []
  },
  {
   "cell_type": "code",
   "execution_count": null,
   "id": "eb2a16a8-d539-4b0c-9884-eceadfa246e6",
   "metadata": {},
   "outputs": [],
   "source": []
  },
  {
   "cell_type": "code",
   "execution_count": null,
   "id": "32a33a40-48d5-4929-ad9b-6694a221f9b4",
   "metadata": {},
   "outputs": [],
   "source": []
  },
  {
   "cell_type": "code",
   "execution_count": null,
   "id": "1901dedc-0393-424a-a31b-e42dba5f2a7d",
   "metadata": {},
   "outputs": [],
   "source": []
  },
  {
   "cell_type": "code",
   "execution_count": null,
   "id": "015ab25b-5ed6-479d-96c7-565e050733ed",
   "metadata": {},
   "outputs": [],
   "source": []
  },
  {
   "cell_type": "code",
   "execution_count": null,
   "id": "25eb7083-5188-4b90-a70f-be2b03ee04bd",
   "metadata": {},
   "outputs": [],
   "source": []
  },
  {
   "cell_type": "code",
   "execution_count": null,
   "id": "d9f93109-c472-4fda-9806-ce7e657625f1",
   "metadata": {},
   "outputs": [],
   "source": []
  },
  {
   "cell_type": "code",
   "execution_count": null,
   "id": "65e85f45-aec9-4051-8bbc-f5a4fb486dfd",
   "metadata": {},
   "outputs": [],
   "source": []
  },
  {
   "cell_type": "code",
   "execution_count": null,
   "id": "042aa39e-6209-4326-9c6f-2294f76a873f",
   "metadata": {},
   "outputs": [],
   "source": []
  },
  {
   "cell_type": "code",
   "execution_count": null,
   "id": "4cd68053-fdd3-4072-80eb-035c68593cef",
   "metadata": {},
   "outputs": [],
   "source": []
  },
  {
   "cell_type": "code",
   "execution_count": null,
   "id": "8fa12a02-09a6-4f80-83d8-908df158656d",
   "metadata": {},
   "outputs": [],
   "source": []
  },
  {
   "cell_type": "code",
   "execution_count": null,
   "id": "17377df0-ad80-44f8-b58c-bb535b596fd3",
   "metadata": {},
   "outputs": [],
   "source": []
  },
  {
   "cell_type": "code",
   "execution_count": null,
   "id": "9b4e5894-5b30-4efb-93fe-4bffda604d05",
   "metadata": {},
   "outputs": [],
   "source": []
  },
  {
   "cell_type": "code",
   "execution_count": null,
   "id": "f514ae11-3eb8-4013-bf11-b65d93edef6b",
   "metadata": {},
   "outputs": [],
   "source": []
  },
  {
   "cell_type": "code",
   "execution_count": null,
   "id": "3ea1624c-8eea-4f7d-901f-ff7e877ae53a",
   "metadata": {},
   "outputs": [],
   "source": []
  },
  {
   "cell_type": "code",
   "execution_count": null,
   "id": "201d84bb-7464-4ebe-8bc8-21f2972d7e36",
   "metadata": {},
   "outputs": [],
   "source": []
  },
  {
   "cell_type": "code",
   "execution_count": null,
   "id": "6fc7e016-a23f-4b7f-b19c-2e129f36b88a",
   "metadata": {},
   "outputs": [],
   "source": []
  },
  {
   "cell_type": "code",
   "execution_count": null,
   "id": "13b5d2e5-3c44-4ff5-a91a-83cab14bc2cd",
   "metadata": {},
   "outputs": [],
   "source": []
  },
  {
   "cell_type": "code",
   "execution_count": null,
   "id": "f656b746-5f30-470e-aec6-1d8b1c5f7920",
   "metadata": {},
   "outputs": [],
   "source": []
  },
  {
   "cell_type": "code",
   "execution_count": null,
   "id": "0a8e3e1d-c041-4ee4-85f3-c41387b612fb",
   "metadata": {},
   "outputs": [],
   "source": []
  },
  {
   "cell_type": "code",
   "execution_count": null,
   "id": "acb380b9-3f40-4656-bd58-a30f66e88606",
   "metadata": {},
   "outputs": [],
   "source": []
  },
  {
   "cell_type": "code",
   "execution_count": null,
   "id": "4d23c05d-11d0-4695-9cfb-29e52dc1abc5",
   "metadata": {},
   "outputs": [],
   "source": []
  },
  {
   "cell_type": "code",
   "execution_count": null,
   "id": "22493857-e755-4d3a-9485-e97d37f0c025",
   "metadata": {},
   "outputs": [],
   "source": []
  },
  {
   "cell_type": "code",
   "execution_count": null,
   "id": "ce6b812f-9cfe-4940-8967-8df6642bb683",
   "metadata": {},
   "outputs": [],
   "source": []
  },
  {
   "cell_type": "code",
   "execution_count": null,
   "id": "bad989cc-ae08-4aeb-a5b1-704b5ee8af64",
   "metadata": {},
   "outputs": [],
   "source": []
  },
  {
   "cell_type": "code",
   "execution_count": null,
   "id": "75ac7e3d-c138-4189-b51e-23ffef537a7a",
   "metadata": {},
   "outputs": [],
   "source": []
  },
  {
   "cell_type": "code",
   "execution_count": null,
   "id": "48d56a9e-4c5d-4d6c-a5f7-d2622aed55ac",
   "metadata": {},
   "outputs": [],
   "source": []
  },
  {
   "cell_type": "code",
   "execution_count": null,
   "id": "9c97490d-6539-477d-899c-740b685cb89e",
   "metadata": {},
   "outputs": [],
   "source": []
  },
  {
   "cell_type": "code",
   "execution_count": null,
   "id": "e1b75afd-f659-4e70-8cca-5a9a5038bb7d",
   "metadata": {},
   "outputs": [],
   "source": []
  },
  {
   "cell_type": "code",
   "execution_count": null,
   "id": "b7a92a52-f58d-4987-a06b-dc31728ab360",
   "metadata": {},
   "outputs": [],
   "source": []
  },
  {
   "cell_type": "code",
   "execution_count": null,
   "id": "7f529dda-c6bc-4846-887b-643187f98950",
   "metadata": {},
   "outputs": [],
   "source": []
  },
  {
   "cell_type": "markdown",
   "id": "d75f02f6-962a-4077-a7b4-6b6b45a28a57",
   "metadata": {},
   "source": [
    "### 9. Data Visualization:\n",
    "\n",
    "We will start the visualization of the data using the histogram, which will give us information about the number of times an element is repeated.\n",
    "\n",
    "A histogram is a graphical representation of the frequency distribution of a data set. It shows how many times each value occurs within a dataset and provides information about the relative frequency of those values. \n",
    "\n",
    "Therefore, by using a histogram to visualize data, you can gain insight into the number of times an item is repeated (i.e., the frequency of each value) in the dataset. This allows you to understand the distribution of the data and identify important patterns or characteristics."
   ]
  },
  {
   "cell_type": "code",
   "execution_count": null,
   "id": "6dbd72c1-8523-4b41-8294-892fbd618caa",
   "metadata": {},
   "outputs": [],
   "source": []
  },
  {
   "cell_type": "code",
   "execution_count": null,
   "id": "fb6e8855-1dce-4deb-9a6a-41477f955a01",
   "metadata": {},
   "outputs": [],
   "source": []
  },
  {
   "cell_type": "code",
   "execution_count": null,
   "id": "4965b982-6e82-4c5f-a5c1-4beccd739088",
   "metadata": {},
   "outputs": [],
   "source": []
  },
  {
   "cell_type": "code",
   "execution_count": null,
   "id": "ceb4f941-8ffc-4094-91d2-ed527189a143",
   "metadata": {},
   "outputs": [],
   "source": []
  },
  {
   "cell_type": "code",
   "execution_count": null,
   "id": "46326a16-2272-4b9c-82bd-e8c4f173bce8",
   "metadata": {},
   "outputs": [],
   "source": []
  },
  {
   "cell_type": "code",
   "execution_count": null,
   "id": "c9199a43-cbd2-4954-84ce-8dee6e3941b6",
   "metadata": {},
   "outputs": [],
   "source": []
  },
  {
   "cell_type": "code",
   "execution_count": null,
   "id": "dbcd63f3-0f38-4897-a6ef-0c676623c790",
   "metadata": {},
   "outputs": [],
   "source": []
  },
  {
   "cell_type": "code",
   "execution_count": null,
   "id": "56feb002-ee28-40ef-aca4-eebfa8d7d6b3",
   "metadata": {},
   "outputs": [],
   "source": []
  }
 ],
 "metadata": {
  "kernelspec": {
   "display_name": "Python 3 (ipykernel)",
   "language": "python",
   "name": "python3"
  },
  "language_info": {
   "codemirror_mode": {
    "name": "ipython",
    "version": 3
   },
   "file_extension": ".py",
   "mimetype": "text/x-python",
   "name": "python",
   "nbconvert_exporter": "python",
   "pygments_lexer": "ipython3",
   "version": "3.10.13"
  }
 },
 "nbformat": 4,
 "nbformat_minor": 5
}
